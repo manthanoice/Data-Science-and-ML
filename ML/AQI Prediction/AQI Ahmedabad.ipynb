{
 "cells": [
  {
   "cell_type": "code",
   "execution_count": 197,
   "id": "8f59318f",
   "metadata": {},
   "outputs": [],
   "source": [
    "import pandas as pd\n",
    "import numpy as np\n",
    "import matplotlib.pyplot as plt\n",
    "import seaborn as sns"
   ]
  },
  {
   "cell_type": "code",
   "execution_count": 198,
   "id": "d98cd4cf",
   "metadata": {},
   "outputs": [],
   "source": [
    "df = pd.read_csv('Ahmedabad_final.csv', index_col=False)"
   ]
  },
  {
   "cell_type": "code",
   "execution_count": 199,
   "id": "9b9b07b0",
   "metadata": {},
   "outputs": [],
   "source": [
    "df = df.drop(columns=['Unnamed: 0'])"
   ]
  },
  {
   "cell_type": "code",
   "execution_count": 200,
   "id": "a8dfc86c",
   "metadata": {},
   "outputs": [],
   "source": [
    "df.reset_index(drop=True, inplace=True)"
   ]
  },
  {
   "cell_type": "code",
   "execution_count": 201,
   "id": "cce91740",
   "metadata": {},
   "outputs": [
    {
     "data": {
      "text/html": [
       "<div>\n",
       "<style scoped>\n",
       "    .dataframe tbody tr th:only-of-type {\n",
       "        vertical-align: middle;\n",
       "    }\n",
       "\n",
       "    .dataframe tbody tr th {\n",
       "        vertical-align: top;\n",
       "    }\n",
       "\n",
       "    .dataframe thead th {\n",
       "        text-align: right;\n",
       "    }\n",
       "</style>\n",
       "<table border=\"1\" class=\"dataframe\">\n",
       "  <thead>\n",
       "    <tr style=\"text-align: right;\">\n",
       "      <th></th>\n",
       "      <th>T</th>\n",
       "      <th>TM</th>\n",
       "      <th>Tm</th>\n",
       "      <th>H</th>\n",
       "      <th>PP</th>\n",
       "      <th>VV</th>\n",
       "      <th>V</th>\n",
       "      <th>VM</th>\n",
       "      <th>PM2.5</th>\n",
       "    </tr>\n",
       "  </thead>\n",
       "  <tbody>\n",
       "    <tr>\n",
       "      <th>0</th>\n",
       "      <td>19.2</td>\n",
       "      <td>29.4</td>\n",
       "      <td>11.0</td>\n",
       "      <td>47</td>\n",
       "      <td>0.0</td>\n",
       "      <td>4.3</td>\n",
       "      <td>5.9</td>\n",
       "      <td>13.0</td>\n",
       "      <td>94.52</td>\n",
       "    </tr>\n",
       "    <tr>\n",
       "      <th>1</th>\n",
       "      <td>23.8</td>\n",
       "      <td>32.0</td>\n",
       "      <td>14.0</td>\n",
       "      <td>41</td>\n",
       "      <td>0.0</td>\n",
       "      <td>4.3</td>\n",
       "      <td>4.4</td>\n",
       "      <td>11.1</td>\n",
       "      <td>135.99</td>\n",
       "    </tr>\n",
       "    <tr>\n",
       "      <th>2</th>\n",
       "      <td>22.1</td>\n",
       "      <td>31.0</td>\n",
       "      <td>14.0</td>\n",
       "      <td>57</td>\n",
       "      <td>0.0</td>\n",
       "      <td>3.9</td>\n",
       "      <td>3.3</td>\n",
       "      <td>14.8</td>\n",
       "      <td>178.33</td>\n",
       "    </tr>\n",
       "    <tr>\n",
       "      <th>3</th>\n",
       "      <td>22.2</td>\n",
       "      <td>30.0</td>\n",
       "      <td>15.0</td>\n",
       "      <td>57</td>\n",
       "      <td>0.0</td>\n",
       "      <td>4.0</td>\n",
       "      <td>5.6</td>\n",
       "      <td>13.0</td>\n",
       "      <td>139.70</td>\n",
       "    </tr>\n",
       "    <tr>\n",
       "      <th>4</th>\n",
       "      <td>22.4</td>\n",
       "      <td>32.0</td>\n",
       "      <td>15.0</td>\n",
       "      <td>44</td>\n",
       "      <td>0.0</td>\n",
       "      <td>4.3</td>\n",
       "      <td>4.3</td>\n",
       "      <td>11.1</td>\n",
       "      <td>88.70</td>\n",
       "    </tr>\n",
       "  </tbody>\n",
       "</table>\n",
       "</div>"
      ],
      "text/plain": [
       "      T    TM    Tm   H   PP   VV    V    VM   PM2.5\n",
       "0  19.2  29.4  11.0  47  0.0  4.3  5.9  13.0   94.52\n",
       "1  23.8  32.0  14.0  41  0.0  4.3  4.4  11.1  135.99\n",
       "2  22.1  31.0  14.0  57  0.0  3.9  3.3  14.8  178.33\n",
       "3  22.2  30.0  15.0  57  0.0  4.0  5.6  13.0  139.70\n",
       "4  22.4  32.0  15.0  44  0.0  4.3  4.3  11.1   88.70"
      ]
     },
     "execution_count": 201,
     "metadata": {},
     "output_type": "execute_result"
    }
   ],
   "source": [
    "df.head()"
   ]
  },
  {
   "cell_type": "code",
   "execution_count": 202,
   "id": "94d3cfae",
   "metadata": {},
   "outputs": [],
   "source": [
    "df = df.apply(pd.to_numeric,errors='coerce')"
   ]
  },
  {
   "cell_type": "code",
   "execution_count": 203,
   "id": "2dfa9016",
   "metadata": {},
   "outputs": [
    {
     "name": "stdout",
     "output_type": "stream",
     "text": [
      "<class 'pandas.core.frame.DataFrame'>\n",
      "RangeIndex: 725 entries, 0 to 724\n",
      "Data columns (total 9 columns):\n",
      " #   Column  Non-Null Count  Dtype  \n",
      "---  ------  --------------  -----  \n",
      " 0   T       725 non-null    float64\n",
      " 1   TM      725 non-null    float64\n",
      " 2   Tm      725 non-null    float64\n",
      " 3   H       725 non-null    int64  \n",
      " 4   PP      725 non-null    float64\n",
      " 5   VV      725 non-null    float64\n",
      " 6   V       725 non-null    float64\n",
      " 7   VM      725 non-null    float64\n",
      " 8   PM2.5   725 non-null    float64\n",
      "dtypes: float64(8), int64(1)\n",
      "memory usage: 51.1 KB\n"
     ]
    }
   ],
   "source": [
    "df.info()"
   ]
  },
  {
   "cell_type": "code",
   "execution_count": 204,
   "id": "009a228f",
   "metadata": {},
   "outputs": [],
   "source": [
    "x = df.iloc[:, :-1]\n",
    "y = df.iloc[:, -1]"
   ]
  },
  {
   "cell_type": "code",
   "execution_count": 205,
   "id": "9b464429",
   "metadata": {},
   "outputs": [],
   "source": [
    "from sklearn.linear_model import LinearRegression"
   ]
  },
  {
   "cell_type": "code",
   "execution_count": 206,
   "id": "d367a3cf",
   "metadata": {},
   "outputs": [
    {
     "data": {
      "text/plain": [
       "LinearRegression()"
      ]
     },
     "execution_count": 206,
     "metadata": {},
     "output_type": "execute_result"
    }
   ],
   "source": [
    "linear_reg = LinearRegression()\n",
    "linear_reg.fit(x, y.values)"
   ]
  },
  {
   "cell_type": "code",
   "execution_count": 207,
   "id": "f1108072",
   "metadata": {},
   "outputs": [],
   "source": [
    "y_pred = linear_reg.predict(x)"
   ]
  },
  {
   "cell_type": "code",
   "execution_count": 208,
   "id": "a79be3cc",
   "metadata": {},
   "outputs": [],
   "source": [
    "from sklearn.metrics import mean_squared_error, mean_absolute_error"
   ]
  },
  {
   "cell_type": "code",
   "execution_count": 209,
   "id": "921b9ca0",
   "metadata": {},
   "outputs": [],
   "source": [
    "error = np.sqrt(mean_squared_error(y,y_pred))"
   ]
  },
  {
   "cell_type": "code",
   "execution_count": 210,
   "id": "bd969619",
   "metadata": {},
   "outputs": [
    {
     "data": {
      "text/plain": [
       "30.746473603080155"
      ]
     },
     "execution_count": 210,
     "metadata": {},
     "output_type": "execute_result"
    }
   ],
   "source": [
    "error"
   ]
  },
  {
   "cell_type": "code",
   "execution_count": 211,
   "id": "36d39602",
   "metadata": {},
   "outputs": [],
   "source": [
    "from sklearn.tree import DecisionTreeRegressor"
   ]
  },
  {
   "cell_type": "code",
   "execution_count": 212,
   "id": "4947c52a",
   "metadata": {},
   "outputs": [
    {
     "data": {
      "text/plain": [
       "{'ccp_alpha': 0.0,\n",
       " 'criterion': 'mse',\n",
       " 'max_depth': None,\n",
       " 'max_features': None,\n",
       " 'max_leaf_nodes': None,\n",
       " 'min_impurity_decrease': 0.0,\n",
       " 'min_impurity_split': None,\n",
       " 'min_samples_leaf': 1,\n",
       " 'min_samples_split': 2,\n",
       " 'min_weight_fraction_leaf': 0.0,\n",
       " 'random_state': 0,\n",
       " 'splitter': 'best'}"
      ]
     },
     "execution_count": 212,
     "metadata": {},
     "output_type": "execute_result"
    }
   ],
   "source": [
    "dec_tree_reg = DecisionTreeRegressor(random_state=0)\n",
    "dec_tree_reg.fit(x,y.values)\n",
    "dec_tree_reg.get_params()"
   ]
  },
  {
   "cell_type": "code",
   "execution_count": 213,
   "id": "973e30aa",
   "metadata": {},
   "outputs": [],
   "source": [
    "y_pred = dec_tree_reg.predict(x)"
   ]
  },
  {
   "cell_type": "code",
   "execution_count": 214,
   "id": "dbad6337",
   "metadata": {},
   "outputs": [],
   "source": [
    "error = np.sqrt(mean_squared_error(y,y_pred))"
   ]
  },
  {
   "cell_type": "code",
   "execution_count": 215,
   "id": "14e7e5c4",
   "metadata": {},
   "outputs": [
    {
     "data": {
      "text/plain": [
       "6.978797939856464"
      ]
     },
     "execution_count": 215,
     "metadata": {},
     "output_type": "execute_result"
    }
   ],
   "source": [
    "error"
   ]
  },
  {
   "cell_type": "code",
   "execution_count": 122,
   "id": "72877118",
   "metadata": {},
   "outputs": [
    {
     "data": {
      "text/plain": [
       "DecisionTreeRegressor(random_state=0)"
      ]
     },
     "execution_count": 122,
     "metadata": {},
     "output_type": "execute_result"
    }
   ],
   "source": [
    "dec_tree_reg"
   ]
  },
  {
   "cell_type": "code",
   "execution_count": 216,
   "id": "95cbc679",
   "metadata": {},
   "outputs": [],
   "source": [
    "data = {\"model\":dec_tree_reg, \"T\":df['T'], 'TM':df['TM'], 'Tm':df[\"Tm\"], 'H':df[\"H\"], 'PP':df[\"PP\"], 'VV':df[\"VV\"], 'V':df[\"V\"], 'VM':df[\"VM\"]}\n",
    "with open ('ahmedabad.pkl', 'wb') as file:\n",
    "    pickle.dump(data, file)"
   ]
  },
  {
   "cell_type": "code",
   "execution_count": 217,
   "id": "0a136c91",
   "metadata": {},
   "outputs": [],
   "source": [
    "with open('ahmedabad.pkl', 'rb') as file:\n",
    "    data = pickle.load(file)"
   ]
  },
  {
   "cell_type": "code",
   "execution_count": 218,
   "id": "c3adbcb9",
   "metadata": {},
   "outputs": [],
   "source": [
    "regressor_loaded = data['model']"
   ]
  },
  {
   "cell_type": "code",
   "execution_count": 219,
   "id": "6ddde855",
   "metadata": {},
   "outputs": [
    {
     "data": {
      "text/plain": [
       "array([ 94.52     , 135.99     , 178.33     , 139.7      ,  88.7      ,\n",
       "        74.28     , 113.93     , 103.36     , 177.33     , 113.25     ,\n",
       "       107.99     , 140.29     , 239.96     ,  52.99     ,  61.12     ,\n",
       "        60.78     ,  91.83     , 105.45     ,  71.56     , 119.8      ,\n",
       "        97.34     ,  83.92     ,  49.51     , 105.06     ,  94.1      ,\n",
       "       111.89     , 165.07     , 166.85     , 147.38     , 133.3      ,\n",
       "        96.04     ,  77.69     ,  53.07     , 138.63     , 144.36     ,\n",
       "        85.03     , 111.86     ,  58.37     ,  95.37     ,  77.1653125,\n",
       "        77.1653125,  77.1653125,  77.1653125,  77.1653125,  80.9      ,\n",
       "       103.29     , 107.5      ,  77.1653125,  96.65     , 126.77     ,\n",
       "       106.15     ,  51.03     ,  38.73     ,  61.12     , 100.92     ,\n",
       "        97.48     , 129.27     ,  53.24     ,  42.       ,  50.1      ,\n",
       "        70.96     ,  53.66     ,  45.49     ,  57.59     ,  77.22     ,\n",
       "        45.29     , 103.78     ,  80.69     ,  44.75     ,  38.11     ,\n",
       "        45.49     ,  38.06     ,  45.41     ,  32.56     ,  29.28     ,\n",
       "        20.46     ,  57.75     ,  66.39     ,  62.61     ,   4.66     ,\n",
       "        48.72     ,  49.7      ,  42.68     ,  38.45     ,  46.69     ,\n",
       "       111.77     , 151.4      ,  51.35     ,  33.56     ,  31.3      ,\n",
       "        48.12     ,  29.79     ,  59.95     ,  19.2      ,  40.95     ,\n",
       "        40.29     ,  41.16     ,  36.12     ,  48.12     ,  37.09     ,\n",
       "        33.4      ,  44.56     ,  65.68     ,  33.34     ,  38.35     ,\n",
       "        38.5      ,  39.61     ,  36.9      ,  36.36     ,  32.64     ,\n",
       "        43.2      ,  63.2      ,  64.73     ,  65.28     ,  29.52     ,\n",
       "        15.53     ,  57.51     ,  43.01     ,  42.06     ,  44.94     ,\n",
       "        24.46     ,  27.08     ,  43.88     ,  28.35     ,   3.59     ,\n",
       "        76.41     , 102.49     , 127.94     ,  92.12     ,  94.02     ,\n",
       "       150.27     , 137.87     ,  90.71     , 108.68     , 170.52     ,\n",
       "       203.4      ,  92.71     , 147.35     , 206.89     , 114.84     ,\n",
       "        46.5      , 122.54     , 147.18     , 192.35     , 127.64     ,\n",
       "        33.02     ,  29.42     ,  20.87     ,  35.08     ,  35.87     ,\n",
       "        46.3      ,  39.15     ,  34.89     ,  38.13     ,  36.47     ,\n",
       "        41.39     ,  31.71     ,  33.48     ,  43.71     ,  46.52     ,\n",
       "        36.54     ,  40.18     ,  33.5      ,  29.36     ,  44.59     ,\n",
       "        43.9      ,  93.34     ,  38.06     ,  60.18     ,  85.1      ,\n",
       "        55.55     ,  32.78     ,  53.5      ,  48.24     ,  33.76     ,\n",
       "        35.95     ,  58.07     ,  44.59     ,  30.81     ,  47.67     ,\n",
       "        35.69     ,  52.15     ,  35.99     ,  37.93     ,  36.51     ,\n",
       "        55.71     ,  57.01     ,  42.22     ,  34.16     ,  30.07     ,\n",
       "        25.54     ,  27.22     ,  41.81     ,  75.03     ,  85.36     ,\n",
       "       124.97     ,  86.63     ,  48.23     , 138.94     , 155.68     ,\n",
       "        83.57     ,  75.41     , 106.86     ,  72.52     , 109.22     ,\n",
       "       122.63     , 271.85     , 230.76     , 203.3      , 152.03     ,\n",
       "       109.16     , 126.57     ,  79.49     , 112.25     , 133.07     ,\n",
       "        77.12     ,  96.65     ,  72.67     ,  94.32     ,  89.       ,\n",
       "       119.17     , 207.19     , 148.83     ,  99.77     , 119.99     ,\n",
       "       111.92     , 102.26     , 108.19     ,  93.87     ,  85.51     ,\n",
       "        80.89     ,  58.62     ,  74.08     ,  62.76     ,  86.09     ,\n",
       "        67.51     ,  70.08     ,  86.9      ,  62.24     ,  62.07     ,\n",
       "        72.04     ,  75.14     ,  69.27     ,  71.54     ,  77.1653125,\n",
       "        84.46     ,  76.51     ,  63.88     ,  77.87     ,  77.72     ,\n",
       "        66.89     ,  82.53     , 108.01     ,  92.94     ,  91.13     ,\n",
       "        88.69     , 108.92     , 128.56     , 103.63     , 102.16     ,\n",
       "       115.79     , 189.12     ,  88.37     ,  96.64     , 109.34     ,\n",
       "        70.25     , 103.17     ,  64.61     ,  65.35     ,  52.18     ,\n",
       "       242.66     , 114.78     ,  92.92     ,  38.82     ,  49.18     ,\n",
       "        56.42     ,  54.45     ,  53.5      ,  41.64     ,  56.51     ,\n",
       "        88.85     , 111.68     ,  98.53     ,  84.16     ,  71.82     ,\n",
       "        98.49     , 160.68     , 102.05     , 109.8      , 124.44     ,\n",
       "       180.27     , 121.       ,  80.56     , 103.75     ,  75.68     ,\n",
       "        90.13     , 160.43     ,  94.55     , 104.21     ,  77.1653125,\n",
       "        84.47     ,  73.54     ,  77.1653125,  77.1653125,  78.18     ,\n",
       "        56.35     ,  59.66     ,  77.1653125,  77.1653125,  77.1653125,\n",
       "        77.1653125,  63.06     ,  46.17     ,  61.24     ,  41.04     ,\n",
       "        49.71     ,  44.75     ,  50.16     ,  49.07     ,  46.06     ,\n",
       "        71.01     ,  59.98     ,  50.7      ,  43.37     ,  60.05     ,\n",
       "        56.93     ,  16.63     ,  78.16     ,  83.27     ,  63.79     ,\n",
       "        53.59     ,  55.77     ,  63.58     ,  69.99     ,  78.7      ,\n",
       "        59.96     ,  40.89     ,  41.59     ,  39.02     ,  51.63     ,\n",
       "        38.12     ,  27.79     ,  48.12     ,  36.8      ,  41.37     ,\n",
       "        71.94     ,  47.95     ,  55.91     ,  36.42     ,  40.97     ,\n",
       "        33.38     ,  44.87     ,  33.16     ,  45.25     ,  51.7      ,\n",
       "        43.18     ,  35.8      ,  51.78     ,  63.4      ,  58.21     ,\n",
       "        47.83     ,  41.21     ,  37.33     ,  28.74     ,  32.05     ,\n",
       "        44.02     ,  48.73     ,  33.95     ,  33.7      ,  48.21     ,\n",
       "        33.2      ,  34.52     ,  44.57     ,  38.22     ,  34.44     ,\n",
       "        28.8      ,  19.66     ,  22.3      ,  22.33     ,  21.06     ,\n",
       "        20.82     ,  18.18     ,  23.65     ,  25.32     ,  25.87     ,\n",
       "        18.87     ,  22.11     ,  24.07     ,  33.95     ,  31.13     ,\n",
       "        58.28     ,  78.64     , 122.92     , 160.05     ,  96.65     ,\n",
       "       110.05     , 109.84     , 105.87     , 101.86     ,  96.15     ,\n",
       "       121.11     ,  82.49     ,  72.93     ,  82.52     ,  72.11     ,\n",
       "        78.48     , 103.22     , 162.18     , 205.21     , 165.37     ,\n",
       "       133.13     , 143.52     ,  83.28     ,  77.1653125,  77.1653125,\n",
       "        77.1653125,  77.1653125,  77.1653125,  86.43     ,  70.51     ,\n",
       "        78.48     ,  92.74     ,  96.58     ,  91.37     ,  88.02     ,\n",
       "        94.95     ,  75.42     ,  73.07     ,  70.04     ,  56.71     ,\n",
       "        59.4      , 125.16     , 106.45     ,  92.45     ,  79.15     ,\n",
       "        94.8      ,  80.14     ,  80.54     , 110.71     , 147.57     ,\n",
       "       131.5      ,  74.62     ,  89.72     ,  84.03     , 116.42     ,\n",
       "        75.49     ,  66.97     ,  73.58     ,  86.32     , 149.26     ,\n",
       "        52.92     ,  47.26     ,  52.79     ,  83.1      ,  76.87     ,\n",
       "        47.01     ,  54.77     ,  94.1      , 105.03     ,  46.5      ,\n",
       "        82.79     ,  62.6      ,  72.53     ,  46.48     ,  62.32     ,\n",
       "        37.26     ,  50.97     ,  64.44     ,  51.5      ,  42.11     ,\n",
       "        46.35     ,  61.32     ,  55.7      ,  54.11     ,  52.68     ,\n",
       "        84.14     ,  52.24     ,  62.44     ,  88.33     ,  78.11     ,\n",
       "        62.04     ,  64.71     ,  67.44     ,  69.51     ,  74.35     ,\n",
       "        96.96     , 122.78     , 109.21     ,  77.1653125,  78.55     ,\n",
       "        73.58     ,  64.02     ,  77.1653125,  77.1653125, 182.46     ,\n",
       "        95.69     ,  93.12     ,  92.59     ,  84.47     ,  76.98     ,\n",
       "        77.1653125,  77.1653125,  77.1653125, 113.47     , 101.68     ,\n",
       "        86.07     ,  58.71     ,  72.51     ,  43.83     ,  46.04     ,\n",
       "        37.55     ,  77.1653125,  77.1653125,  77.1653125,  27.93     ,\n",
       "        41.39     ,  46.79     ,  50.27     ,  42.02     ,  48.74     ,\n",
       "        48.1      ,  41.38     ,  46.46     ,  30.07     ,  48.74     ,\n",
       "        35.3      ,  25.56     ,  26.75     ,  32.71     ,  69.38     ,\n",
       "        42.08     ,  35.67     ,  49.23     ,  70.03     ,  60.03     ,\n",
       "        43.22     ,  44.75     ,  44.27     ,  34.72     ,  37.99     ,\n",
       "        41.69     ,  38.49     ,  41.7      ,  42.43     ,  44.65     ,\n",
       "        51.63     ,  48.67     ,  48.26     ,  46.8      ,  39.43     ,\n",
       "        28.8      ,  47.31     ,  56.72     ,  45.43     ,  60.09     ,\n",
       "        57.61     ,  44.1      ,  41.77     ,  47.52     ,  50.55     ,\n",
       "        39.88     ,  46.58     ,  36.44     ,  30.82     ,  45.77     ,\n",
       "        58.51     ,  37.05     ,  31.28     ,  25.64     ,  40.18     ,\n",
       "        35.05     ,  33.15     ,  38.7      ,  64.45     ,  59.96     ,\n",
       "        66.21     ,  73.61     ,  27.17     ,  39.27     ,  61.46     ,\n",
       "        39.34     ,  28.2      ,  33.66     ,  51.11     ,  57.08     ,\n",
       "        99.81     ,  73.52     , 108.07     , 194.36     ,  98.5      ,\n",
       "        96.74     ,  87.87     ,  89.05     ,  81.62     ,  82.74     ,\n",
       "        62.7      ,  57.54     ,  54.57     ,  63.17     ,  42.27     ,\n",
       "        33.68     ,  56.86     ,  64.96     ,  48.99     ,  88.       ,\n",
       "        49.19     ,  43.56     ,  52.04     ,  46.54     ,  55.43     ,\n",
       "        73.87     ,  64.06     ,  53.91     ,  43.06     ,  46.74     ,\n",
       "        41.61     ,  93.24     ,  92.26     ,  78.95     ,  52.59     ,\n",
       "        63.33     ,  48.58     ,  89.97     , 104.25     ,  64.25     ,\n",
       "        53.       ,  52.77     ,  39.89     ,  74.18     ,  79.57     ,\n",
       "        72.59     ,  69.54     ,  70.06     ,  61.4      ,  38.89     ,\n",
       "        89.34     ,  39.83     ,  53.27     ,  36.05     ,  36.21     ,\n",
       "        51.15     ,  61.05     ,  62.03     ,  33.93     ,  57.28     ,\n",
       "        88.79     ,  52.31     ,  68.19     ,  66.87     ,  95.25     ,\n",
       "        69.85     ,  88.83     ,  50.55     ,  73.04     , 114.79     ,\n",
       "        65.74     ,  60.61     ,  73.18     , 137.81     ,  94.27     ,\n",
       "        53.06     ,  56.2      ,  77.58     ,  51.32     ,  35.04     ,\n",
       "        37.02     ,  41.72     ,  39.57     ,  39.42     , 101.09     ,\n",
       "        50.47     ,  74.43     ,  33.25     ,  43.67     ,  22.93     ,\n",
       "        29.97     ,  24.79     ,  25.52     ,  33.48     ,  45.8      ,\n",
       "        36.3      ,  32.12     ,  18.77     ,  31.16     ,  23.69     ,\n",
       "        21.27     ,  29.84     ,  27.81     ,  77.1653125,  77.1653125,\n",
       "        31.76     ,  32.55     ,  77.1653125,  77.1653125,  28.71     ,\n",
       "        22.56     ,  23.82     ,  30.45     ,  26.79     ,  23.79     ,\n",
       "        23.19     ,  21.9      ,  19.15     ,  23.98     ,  25.6      ,\n",
       "        33.35     ,  24.84     ,  29.78     ,  31.25     ,  22.83     ,\n",
       "        31.02     , 131.88     ,  20.67     ,  22.92     ,  21.17     ,\n",
       "        21.72     ,  24.1      ,  21.21     ,  17.65     ,  22.9      ,\n",
       "        24.28     ,  32.56     ,  36.48     ,  62.12     ,  37.63     ])"
      ]
     },
     "execution_count": 219,
     "metadata": {},
     "output_type": "execute_result"
    }
   ],
   "source": [
    "regressor_loaded.predict(x)"
   ]
  },
  {
   "cell_type": "code",
   "execution_count": 222,
   "id": "6c15a5a6",
   "metadata": {},
   "outputs": [],
   "source": [
    "x = np.array([[99,29.4343, 11.0,47,0.0,4.3232,5.923,13.0]])"
   ]
  },
  {
   "cell_type": "code",
   "execution_count": 223,
   "id": "2199d031",
   "metadata": {},
   "outputs": [
    {
     "data": {
      "text/plain": [
       "array([129.27])"
      ]
     },
     "execution_count": 223,
     "metadata": {},
     "output_type": "execute_result"
    }
   ],
   "source": [
    "regressor_loaded.predict(x)"
   ]
  },
  {
   "cell_type": "code",
   "execution_count": 123,
   "id": "9f304ecb",
   "metadata": {},
   "outputs": [],
   "source": [
    "from sklearn.ensemble import RandomForestRegressor"
   ]
  },
  {
   "cell_type": "code",
   "execution_count": 124,
   "id": "648a5b86",
   "metadata": {},
   "outputs": [
    {
     "data": {
      "text/plain": [
       "RandomForestRegressor(random_state=0)"
      ]
     },
     "execution_count": 124,
     "metadata": {},
     "output_type": "execute_result"
    }
   ],
   "source": [
    "random_forest_reg = RandomForestRegressor(random_state=0)\n",
    "random_forest_reg.fit(x,y.values)"
   ]
  },
  {
   "cell_type": "code",
   "execution_count": 125,
   "id": "b077fe98",
   "metadata": {},
   "outputs": [],
   "source": [
    "y_pred = random_forest_reg.predict(x)"
   ]
  },
  {
   "cell_type": "code",
   "execution_count": 126,
   "id": "aa19428f",
   "metadata": {},
   "outputs": [],
   "source": [
    "error = np.sqrt(mean_squared_error(y,y_pred))"
   ]
  },
  {
   "cell_type": "code",
   "execution_count": 127,
   "id": "b0870641",
   "metadata": {},
   "outputs": [
    {
     "data": {
      "text/plain": [
       "12.751625852984448"
      ]
     },
     "execution_count": 127,
     "metadata": {},
     "output_type": "execute_result"
    }
   ],
   "source": [
    "error"
   ]
  },
  {
   "cell_type": "code",
   "execution_count": 128,
   "id": "f0558bf5",
   "metadata": {},
   "outputs": [],
   "source": [
    "from sklearn.model_selection import GridSearchCV"
   ]
  },
  {
   "cell_type": "code",
   "execution_count": 129,
   "id": "0e55f2b2",
   "metadata": {},
   "outputs": [
    {
     "data": {
      "text/plain": [
       "GridSearchCV(estimator=DecisionTreeRegressor(random_state=0),\n",
       "             param_grid={'max_depth': [None, 2, 4, 6, 8, 10, 12]},\n",
       "             scoring='neg_mean_squared_error')"
      ]
     },
     "execution_count": 129,
     "metadata": {},
     "output_type": "execute_result"
    }
   ],
   "source": [
    "max_depth = [None, 2,4,6,8,10,12]\n",
    "parameters = {\"max_depth\":max_depth}\n",
    "\n",
    "regressor = DecisionTreeRegressor(random_state=0)\n",
    "gs = GridSearchCV(regressor, parameters, scoring='neg_mean_squared_error')\n",
    "gs.fit(x,y.values)"
   ]
  },
  {
   "cell_type": "code",
   "execution_count": 130,
   "id": "a117c7a5",
   "metadata": {},
   "outputs": [],
   "source": [
    "regressor = gs.best_estimator_"
   ]
  },
  {
   "cell_type": "code",
   "execution_count": 131,
   "id": "04977103",
   "metadata": {},
   "outputs": [
    {
     "data": {
      "text/plain": [
       "DecisionTreeRegressor(max_depth=2, random_state=0)"
      ]
     },
     "execution_count": 131,
     "metadata": {},
     "output_type": "execute_result"
    }
   ],
   "source": [
    "regressor.fit(x,y.values)"
   ]
  },
  {
   "cell_type": "code",
   "execution_count": 132,
   "id": "7bccff55",
   "metadata": {},
   "outputs": [],
   "source": [
    "y_pred = regressor.predict(x)"
   ]
  },
  {
   "cell_type": "code",
   "execution_count": 133,
   "id": "d2f916f8",
   "metadata": {
    "scrolled": true
   },
   "outputs": [
    {
     "data": {
      "text/plain": [
       "31.326441761739005"
      ]
     },
     "execution_count": 133,
     "metadata": {},
     "output_type": "execute_result"
    }
   ],
   "source": [
    "error = np.sqrt(mean_squared_error(y,y_pred))\n",
    "error"
   ]
  },
  {
   "cell_type": "code",
   "execution_count": 134,
   "id": "73b2a8ba",
   "metadata": {},
   "outputs": [
    {
     "data": {
      "text/plain": [
       "DecisionTreeRegressor(max_depth=2, random_state=0)"
      ]
     },
     "execution_count": 134,
     "metadata": {},
     "output_type": "execute_result"
    }
   ],
   "source": [
    "regressor"
   ]
  },
  {
   "cell_type": "code",
   "execution_count": 135,
   "id": "4cf7c105",
   "metadata": {},
   "outputs": [
    {
     "data": {
      "text/plain": [
       "Index(['T', 'TM', 'Tm', 'H', 'PP', 'VV', 'V', 'VM', 'PM2.5'], dtype='object')"
      ]
     },
     "execution_count": 135,
     "metadata": {},
     "output_type": "execute_result"
    }
   ],
   "source": [
    "df.columns"
   ]
  },
  {
   "cell_type": "code",
   "execution_count": 136,
   "id": "306a9d78",
   "metadata": {},
   "outputs": [],
   "source": [
    "import pickle"
   ]
  },
  {
   "cell_type": "code",
   "execution_count": 137,
   "id": "1742d9e2",
   "metadata": {},
   "outputs": [],
   "source": [
    "from sklearn.preprocessing import LabelEncoder"
   ]
  },
  {
   "cell_type": "code",
   "execution_count": 138,
   "id": "f3d9103b",
   "metadata": {},
   "outputs": [],
   "source": [
    "T = LabelEncoder()"
   ]
  },
  {
   "cell_type": "code",
   "execution_count": 139,
   "id": "9d72d286",
   "metadata": {},
   "outputs": [],
   "source": [
    "df['T'] = T.fit_transform(df['T'])"
   ]
  },
  {
   "cell_type": "code",
   "execution_count": 140,
   "id": "e69579e9",
   "metadata": {},
   "outputs": [
    {
     "data": {
      "text/html": [
       "<div>\n",
       "<style scoped>\n",
       "    .dataframe tbody tr th:only-of-type {\n",
       "        vertical-align: middle;\n",
       "    }\n",
       "\n",
       "    .dataframe tbody tr th {\n",
       "        vertical-align: top;\n",
       "    }\n",
       "\n",
       "    .dataframe thead th {\n",
       "        text-align: right;\n",
       "    }\n",
       "</style>\n",
       "<table border=\"1\" class=\"dataframe\">\n",
       "  <thead>\n",
       "    <tr style=\"text-align: right;\">\n",
       "      <th></th>\n",
       "      <th>T</th>\n",
       "      <th>TM</th>\n",
       "      <th>Tm</th>\n",
       "      <th>H</th>\n",
       "      <th>PP</th>\n",
       "      <th>VV</th>\n",
       "      <th>V</th>\n",
       "      <th>VM</th>\n",
       "      <th>PM2.5</th>\n",
       "    </tr>\n",
       "  </thead>\n",
       "  <tbody>\n",
       "    <tr>\n",
       "      <th>0</th>\n",
       "      <td>25</td>\n",
       "      <td>29.4</td>\n",
       "      <td>11.0</td>\n",
       "      <td>47</td>\n",
       "      <td>0.0</td>\n",
       "      <td>4.3</td>\n",
       "      <td>5.9</td>\n",
       "      <td>13.0</td>\n",
       "      <td>94.52</td>\n",
       "    </tr>\n",
       "    <tr>\n",
       "      <th>1</th>\n",
       "      <td>61</td>\n",
       "      <td>32.0</td>\n",
       "      <td>14.0</td>\n",
       "      <td>41</td>\n",
       "      <td>0.0</td>\n",
       "      <td>4.3</td>\n",
       "      <td>4.4</td>\n",
       "      <td>11.1</td>\n",
       "      <td>135.99</td>\n",
       "    </tr>\n",
       "    <tr>\n",
       "      <th>2</th>\n",
       "      <td>48</td>\n",
       "      <td>31.0</td>\n",
       "      <td>14.0</td>\n",
       "      <td>57</td>\n",
       "      <td>0.0</td>\n",
       "      <td>3.9</td>\n",
       "      <td>3.3</td>\n",
       "      <td>14.8</td>\n",
       "      <td>178.33</td>\n",
       "    </tr>\n",
       "    <tr>\n",
       "      <th>3</th>\n",
       "      <td>49</td>\n",
       "      <td>30.0</td>\n",
       "      <td>15.0</td>\n",
       "      <td>57</td>\n",
       "      <td>0.0</td>\n",
       "      <td>4.0</td>\n",
       "      <td>5.6</td>\n",
       "      <td>13.0</td>\n",
       "      <td>139.70</td>\n",
       "    </tr>\n",
       "    <tr>\n",
       "      <th>4</th>\n",
       "      <td>50</td>\n",
       "      <td>32.0</td>\n",
       "      <td>15.0</td>\n",
       "      <td>44</td>\n",
       "      <td>0.0</td>\n",
       "      <td>4.3</td>\n",
       "      <td>4.3</td>\n",
       "      <td>11.1</td>\n",
       "      <td>88.70</td>\n",
       "    </tr>\n",
       "  </tbody>\n",
       "</table>\n",
       "</div>"
      ],
      "text/plain": [
       "    T    TM    Tm   H   PP   VV    V    VM   PM2.5\n",
       "0  25  29.4  11.0  47  0.0  4.3  5.9  13.0   94.52\n",
       "1  61  32.0  14.0  41  0.0  4.3  4.4  11.1  135.99\n",
       "2  48  31.0  14.0  57  0.0  3.9  3.3  14.8  178.33\n",
       "3  49  30.0  15.0  57  0.0  4.0  5.6  13.0  139.70\n",
       "4  50  32.0  15.0  44  0.0  4.3  4.3  11.1   88.70"
      ]
     },
     "execution_count": 140,
     "metadata": {},
     "output_type": "execute_result"
    }
   ],
   "source": [
    "df.head()"
   ]
  },
  {
   "cell_type": "code",
   "execution_count": 141,
   "id": "840ba04c",
   "metadata": {},
   "outputs": [
    {
     "data": {
      "text/plain": [
       "array([ 25,  61,  48,  49,  50,  39,  55,  69,  76,  73,  78,  80,  53,\n",
       "        31,  28,  42,  91,  63,  72,  81,  95, 116, 120, 146, 155, 157,\n",
       "       117, 126, 131, 130, 149,  92, 113, 121,   0, 142, 161, 172, 170,\n",
       "       171, 162, 186, 147, 180, 178, 166, 176, 174, 167, 164, 154, 188,\n",
       "       152, 141, 139, 145, 119, 132, 136, 127, 128, 140, 151, 133, 122,\n",
       "       114, 102,  77,  68, 104, 111, 106, 101, 112, 125, 124, 129, 134,\n",
       "       137,  88, 105, 135, 123,  70,  97, 100,  89,  74, 144, 110, 115,\n",
       "       108,  94,  90,  87,  93,  86,  99, 107, 109,  98,  96,  71,  85,\n",
       "        83,  62,  57,  67,  59,  46,  40,  56,  60,  44,  33,  36,  38,\n",
       "        47,  43,  32,  37,  34,  30,  27,  22,  51,  23,  29,  58,  65,\n",
       "        52,  41,  54, 143, 138, 150, 159, 165, 158, 173, 183, 182, 177,\n",
       "       185, 179, 189, 190, 187, 175, 148,  84, 118, 103,  64,  18,  15,\n",
       "        13,  11,  17,  21,   9,   5,  12,  19,  26,   4,  14,   3,  20,\n",
       "         2,  79, 163, 156, 153, 160, 169, 181, 184,  75,  82,  35,   7,\n",
       "         8,  16,   1,  10,   6,  24,  66,  45, 168], dtype=int64)"
      ]
     },
     "execution_count": 141,
     "metadata": {},
     "output_type": "execute_result"
    }
   ],
   "source": [
    "df['T'].unique()"
   ]
  },
  {
   "cell_type": "code",
   "execution_count": 142,
   "id": "1b824ab1",
   "metadata": {},
   "outputs": [
    {
     "data": {
      "text/html": [
       "<div>\n",
       "<style scoped>\n",
       "    .dataframe tbody tr th:only-of-type {\n",
       "        vertical-align: middle;\n",
       "    }\n",
       "\n",
       "    .dataframe tbody tr th {\n",
       "        vertical-align: top;\n",
       "    }\n",
       "\n",
       "    .dataframe thead th {\n",
       "        text-align: right;\n",
       "    }\n",
       "</style>\n",
       "<table border=\"1\" class=\"dataframe\">\n",
       "  <thead>\n",
       "    <tr style=\"text-align: right;\">\n",
       "      <th></th>\n",
       "      <th>T</th>\n",
       "      <th>TM</th>\n",
       "      <th>Tm</th>\n",
       "      <th>H</th>\n",
       "      <th>PP</th>\n",
       "      <th>VV</th>\n",
       "      <th>V</th>\n",
       "      <th>VM</th>\n",
       "      <th>PM2.5</th>\n",
       "    </tr>\n",
       "  </thead>\n",
       "  <tbody>\n",
       "    <tr>\n",
       "      <th>180</th>\n",
       "      <td>106</td>\n",
       "      <td>32.5</td>\n",
       "      <td>24.6</td>\n",
       "      <td>73</td>\n",
       "      <td>0.0</td>\n",
       "      <td>4.8</td>\n",
       "      <td>11.3</td>\n",
       "      <td>18.3</td>\n",
       "      <td>35.69</td>\n",
       "    </tr>\n",
       "  </tbody>\n",
       "</table>\n",
       "</div>"
      ],
      "text/plain": [
       "       T    TM    Tm   H   PP   VV     V    VM  PM2.5\n",
       "180  106  32.5  24.6  73  0.0  4.8  11.3  18.3  35.69"
      ]
     },
     "execution_count": 142,
     "metadata": {},
     "output_type": "execute_result"
    }
   ],
   "source": [
    "df.sample()"
   ]
  },
  {
   "cell_type": "code",
   "execution_count": 143,
   "id": "7e36fc8a",
   "metadata": {},
   "outputs": [],
   "source": [
    "TM = LabelEncoder()\n",
    "df['TM'] = TM.fit_transform(df['TM'])"
   ]
  },
  {
   "cell_type": "code",
   "execution_count": 144,
   "id": "26a8a307",
   "metadata": {},
   "outputs": [],
   "source": [
    "Tm = LabelEncoder()\n",
    "df['Tm'] = Tm.fit_transform(df['Tm'])"
   ]
  },
  {
   "cell_type": "code",
   "execution_count": 145,
   "id": "df1a6882",
   "metadata": {},
   "outputs": [],
   "source": [
    "H = LabelEncoder()\n",
    "df['H'] = H.fit_transform(df['H'])"
   ]
  },
  {
   "cell_type": "code",
   "execution_count": 146,
   "id": "7989c14d",
   "metadata": {},
   "outputs": [],
   "source": [
    "PP = LabelEncoder()\n",
    "df['PP'] = PP.fit_transform(df['PP'])"
   ]
  },
  {
   "cell_type": "code",
   "execution_count": 147,
   "id": "d6ac223d",
   "metadata": {},
   "outputs": [],
   "source": [
    "VV = LabelEncoder()\n",
    "df['VV'] = VV.fit_transform(df['VV'])"
   ]
  },
  {
   "cell_type": "code",
   "execution_count": 148,
   "id": "baf9ab72",
   "metadata": {},
   "outputs": [],
   "source": [
    "V = LabelEncoder()\n",
    "df['V'] = V.fit_transform(df['V'])"
   ]
  },
  {
   "cell_type": "code",
   "execution_count": 149,
   "id": "743c741e",
   "metadata": {},
   "outputs": [],
   "source": [
    "VM = LabelEncoder()\n",
    "df['VM'] = VM.fit_transform(df['VM'])"
   ]
  },
  {
   "cell_type": "code",
   "execution_count": 150,
   "id": "c59cf77d",
   "metadata": {},
   "outputs": [],
   "source": [
    "data = {\"model\":dec_tree_reg, \"T\":T, 'TM':TM, 'Tm':Tm, 'H':H, 'PP':PP, 'VV':VV, 'V':V, 'VM':VM}\n",
    "with open ('ahmedabad.pkl', 'wb') as file:\n",
    "    pickle.dump(data, file)"
   ]
  },
  {
   "cell_type": "code",
   "execution_count": 151,
   "id": "76eda52e",
   "metadata": {},
   "outputs": [],
   "source": [
    "with open('ahmedabad.pkl', 'rb') as file:\n",
    "    data = pickle.load(file)"
   ]
  },
  {
   "cell_type": "code",
   "execution_count": 152,
   "id": "27040fd0",
   "metadata": {},
   "outputs": [
    {
     "data": {
      "text/html": [
       "<div>\n",
       "<style scoped>\n",
       "    .dataframe tbody tr th:only-of-type {\n",
       "        vertical-align: middle;\n",
       "    }\n",
       "\n",
       "    .dataframe tbody tr th {\n",
       "        vertical-align: top;\n",
       "    }\n",
       "\n",
       "    .dataframe thead th {\n",
       "        text-align: right;\n",
       "    }\n",
       "</style>\n",
       "<table border=\"1\" class=\"dataframe\">\n",
       "  <thead>\n",
       "    <tr style=\"text-align: right;\">\n",
       "      <th></th>\n",
       "      <th>T</th>\n",
       "      <th>TM</th>\n",
       "      <th>Tm</th>\n",
       "      <th>H</th>\n",
       "      <th>PP</th>\n",
       "      <th>VV</th>\n",
       "      <th>V</th>\n",
       "      <th>VM</th>\n",
       "      <th>PM2.5</th>\n",
       "    </tr>\n",
       "  </thead>\n",
       "  <tbody>\n",
       "    <tr>\n",
       "      <th>663</th>\n",
       "      <td>45</td>\n",
       "      <td>32</td>\n",
       "      <td>27</td>\n",
       "      <td>23</td>\n",
       "      <td>0</td>\n",
       "      <td>14</td>\n",
       "      <td>14</td>\n",
       "      <td>6</td>\n",
       "      <td>51.32</td>\n",
       "    </tr>\n",
       "  </tbody>\n",
       "</table>\n",
       "</div>"
      ],
      "text/plain": [
       "      T  TM  Tm   H  PP  VV   V  VM  PM2.5\n",
       "663  45  32  27  23   0  14  14   6  51.32"
      ]
     },
     "execution_count": 152,
     "metadata": {},
     "output_type": "execute_result"
    }
   ],
   "source": [
    "df.sample()"
   ]
  },
  {
   "cell_type": "code",
   "execution_count": 153,
   "id": "45105806",
   "metadata": {},
   "outputs": [],
   "source": [
    "regressor_loaded = data['model']\n",
    "T = data['T']\n",
    "TM = data['TM']\n",
    "Tm = data['Tm']\n",
    "H = data['H']\n",
    "PP = data['PP']\n",
    "VV = data['VV']\n",
    "V = data['V']\n",
    "VM = data['VM']"
   ]
  },
  {
   "cell_type": "code",
   "execution_count": 154,
   "id": "803b289d",
   "metadata": {},
   "outputs": [],
   "source": [
    "y_pred = regressor_loaded.predict(x)"
   ]
  },
  {
   "cell_type": "code",
   "execution_count": 155,
   "id": "35cee56a",
   "metadata": {
    "scrolled": false
   },
   "outputs": [
    {
     "data": {
      "text/plain": [
       "array([ 94.52     , 135.99     , 178.33     , 139.7      ,  88.7      ,\n",
       "        74.28     , 113.93     , 103.36     , 177.33     , 113.25     ,\n",
       "       107.99     , 140.29     , 239.96     ,  52.99     ,  61.12     ,\n",
       "        60.78     ,  91.83     , 105.45     ,  71.56     , 119.8      ,\n",
       "        97.34     ,  83.92     ,  49.51     , 105.06     ,  94.1      ,\n",
       "       111.89     , 165.07     , 166.85     , 147.38     , 133.3      ,\n",
       "        96.04     ,  77.69     ,  53.07     , 138.63     , 144.36     ,\n",
       "        85.03     , 111.86     ,  58.37     ,  95.37     ,  77.1653125,\n",
       "        77.1653125,  77.1653125,  77.1653125,  77.1653125,  80.9      ,\n",
       "       103.29     , 107.5      ,  77.1653125,  96.65     , 126.77     ,\n",
       "       106.15     ,  51.03     ,  38.73     ,  61.12     , 100.92     ,\n",
       "        97.48     , 129.27     ,  53.24     ,  42.       ,  50.1      ,\n",
       "        70.96     ,  53.66     ,  45.49     ,  57.59     ,  77.22     ,\n",
       "        45.29     , 103.78     ,  80.69     ,  44.75     ,  38.11     ,\n",
       "        45.49     ,  38.06     ,  45.41     ,  32.56     ,  29.28     ,\n",
       "        20.46     ,  57.75     ,  66.39     ,  62.61     ,   4.66     ,\n",
       "        48.72     ,  49.7      ,  42.68     ,  38.45     ,  46.69     ,\n",
       "       111.77     , 151.4      ,  51.35     ,  33.56     ,  31.3      ,\n",
       "        48.12     ,  29.79     ,  59.95     ,  19.2      ,  40.95     ,\n",
       "        40.29     ,  41.16     ,  36.12     ,  48.12     ,  37.09     ,\n",
       "        33.4      ,  44.56     ,  65.68     ,  33.34     ,  38.35     ,\n",
       "        38.5      ,  39.61     ,  36.9      ,  36.36     ,  32.64     ,\n",
       "        43.2      ,  63.2      ,  64.73     ,  65.28     ,  29.52     ,\n",
       "        15.53     ,  57.51     ,  43.01     ,  42.06     ,  44.94     ,\n",
       "        24.46     ,  27.08     ,  43.88     ,  28.35     ,   3.59     ,\n",
       "        76.41     , 102.49     , 127.94     ,  92.12     ,  94.02     ,\n",
       "       150.27     , 137.87     ,  90.71     , 108.68     , 170.52     ,\n",
       "       203.4      ,  92.71     , 147.35     , 206.89     , 114.84     ,\n",
       "        46.5      , 122.54     , 147.18     , 192.35     , 127.64     ,\n",
       "        33.02     ,  29.42     ,  20.87     ,  35.08     ,  35.87     ,\n",
       "        46.3      ,  39.15     ,  34.89     ,  38.13     ,  36.47     ,\n",
       "        41.39     ,  31.71     ,  33.48     ,  43.71     ,  46.52     ,\n",
       "        36.54     ,  40.18     ,  33.5      ,  29.36     ,  44.59     ,\n",
       "        43.9      ,  93.34     ,  38.06     ,  60.18     ,  85.1      ,\n",
       "        55.55     ,  32.78     ,  53.5      ,  48.24     ,  33.76     ,\n",
       "        35.95     ,  58.07     ,  44.59     ,  30.81     ,  47.67     ,\n",
       "        35.69     ,  52.15     ,  35.99     ,  37.93     ,  36.51     ,\n",
       "        55.71     ,  57.01     ,  42.22     ,  34.16     ,  30.07     ,\n",
       "        25.54     ,  27.22     ,  41.81     ,  75.03     ,  85.36     ,\n",
       "       124.97     ,  86.63     ,  48.23     , 138.94     , 155.68     ,\n",
       "        83.57     ,  75.41     , 106.86     ,  72.52     , 109.22     ,\n",
       "       122.63     , 271.85     , 230.76     , 203.3      , 152.03     ,\n",
       "       109.16     , 126.57     ,  79.49     , 112.25     , 133.07     ,\n",
       "        77.12     ,  96.65     ,  72.67     ,  94.32     ,  89.       ,\n",
       "       119.17     , 207.19     , 148.83     ,  99.77     , 119.99     ,\n",
       "       111.92     , 102.26     , 108.19     ,  93.87     ,  85.51     ,\n",
       "        80.89     ,  58.62     ,  74.08     ,  62.76     ,  86.09     ,\n",
       "        67.51     ,  70.08     ,  86.9      ,  62.24     ,  62.07     ,\n",
       "        72.04     ,  75.14     ,  69.27     ,  71.54     ,  77.1653125,\n",
       "        84.46     ,  76.51     ,  63.88     ,  77.87     ,  77.72     ,\n",
       "        66.89     ,  82.53     , 108.01     ,  92.94     ,  91.13     ,\n",
       "        88.69     , 108.92     , 128.56     , 103.63     , 102.16     ,\n",
       "       115.79     , 189.12     ,  88.37     ,  96.64     , 109.34     ,\n",
       "        70.25     , 103.17     ,  64.61     ,  65.35     ,  52.18     ,\n",
       "       242.66     , 114.78     ,  92.92     ,  38.82     ,  49.18     ,\n",
       "        56.42     ,  54.45     ,  53.5      ,  41.64     ,  56.51     ,\n",
       "        88.85     , 111.68     ,  98.53     ,  84.16     ,  71.82     ,\n",
       "        98.49     , 160.68     , 102.05     , 109.8      , 124.44     ,\n",
       "       180.27     , 121.       ,  80.56     , 103.75     ,  75.68     ,\n",
       "        90.13     , 160.43     ,  94.55     , 104.21     ,  77.1653125,\n",
       "        84.47     ,  73.54     ,  77.1653125,  77.1653125,  78.18     ,\n",
       "        56.35     ,  59.66     ,  77.1653125,  77.1653125,  77.1653125,\n",
       "        77.1653125,  63.06     ,  46.17     ,  61.24     ,  41.04     ,\n",
       "        49.71     ,  44.75     ,  50.16     ,  49.07     ,  46.06     ,\n",
       "        71.01     ,  59.98     ,  50.7      ,  43.37     ,  60.05     ,\n",
       "        56.93     ,  16.63     ,  78.16     ,  83.27     ,  63.79     ,\n",
       "        53.59     ,  55.77     ,  63.58     ,  69.99     ,  78.7      ,\n",
       "        59.96     ,  40.89     ,  41.59     ,  39.02     ,  51.63     ,\n",
       "        38.12     ,  27.79     ,  48.12     ,  36.8      ,  41.37     ,\n",
       "        71.94     ,  47.95     ,  55.91     ,  36.42     ,  40.97     ,\n",
       "        33.38     ,  44.87     ,  33.16     ,  45.25     ,  51.7      ,\n",
       "        43.18     ,  35.8      ,  51.78     ,  63.4      ,  58.21     ,\n",
       "        47.83     ,  41.21     ,  37.33     ,  28.74     ,  32.05     ,\n",
       "        44.02     ,  48.73     ,  33.95     ,  33.7      ,  48.21     ,\n",
       "        33.2      ,  34.52     ,  44.57     ,  38.22     ,  34.44     ,\n",
       "        28.8      ,  19.66     ,  22.3      ,  22.33     ,  21.06     ,\n",
       "        20.82     ,  18.18     ,  23.65     ,  25.32     ,  25.87     ,\n",
       "        18.87     ,  22.11     ,  24.07     ,  33.95     ,  31.13     ,\n",
       "        58.28     ,  78.64     , 122.92     , 160.05     ,  96.65     ,\n",
       "       110.05     , 109.84     , 105.87     , 101.86     ,  96.15     ,\n",
       "       121.11     ,  82.49     ,  72.93     ,  82.52     ,  72.11     ,\n",
       "        78.48     , 103.22     , 162.18     , 205.21     , 165.37     ,\n",
       "       133.13     , 143.52     ,  83.28     ,  77.1653125,  77.1653125,\n",
       "        77.1653125,  77.1653125,  77.1653125,  86.43     ,  70.51     ,\n",
       "        78.48     ,  92.74     ,  96.58     ,  91.37     ,  88.02     ,\n",
       "        94.95     ,  75.42     ,  73.07     ,  70.04     ,  56.71     ,\n",
       "        59.4      , 125.16     , 106.45     ,  92.45     ,  79.15     ,\n",
       "        94.8      ,  80.14     ,  80.54     , 110.71     , 147.57     ,\n",
       "       131.5      ,  74.62     ,  89.72     ,  84.03     , 116.42     ,\n",
       "        75.49     ,  66.97     ,  73.58     ,  86.32     , 149.26     ,\n",
       "        52.92     ,  47.26     ,  52.79     ,  83.1      ,  76.87     ,\n",
       "        47.01     ,  54.77     ,  94.1      , 105.03     ,  46.5      ,\n",
       "        82.79     ,  62.6      ,  72.53     ,  46.48     ,  62.32     ,\n",
       "        37.26     ,  50.97     ,  64.44     ,  51.5      ,  42.11     ,\n",
       "        46.35     ,  61.32     ,  55.7      ,  54.11     ,  52.68     ,\n",
       "        84.14     ,  52.24     ,  62.44     ,  88.33     ,  78.11     ,\n",
       "        62.04     ,  64.71     ,  67.44     ,  69.51     ,  74.35     ,\n",
       "        96.96     , 122.78     , 109.21     ,  77.1653125,  78.55     ,\n",
       "        73.58     ,  64.02     ,  77.1653125,  77.1653125, 182.46     ,\n",
       "        95.69     ,  93.12     ,  92.59     ,  84.47     ,  76.98     ,\n",
       "        77.1653125,  77.1653125,  77.1653125, 113.47     , 101.68     ,\n",
       "        86.07     ,  58.71     ,  72.51     ,  43.83     ,  46.04     ,\n",
       "        37.55     ,  77.1653125,  77.1653125,  77.1653125,  27.93     ,\n",
       "        41.39     ,  46.79     ,  50.27     ,  42.02     ,  48.74     ,\n",
       "        48.1      ,  41.38     ,  46.46     ,  30.07     ,  48.74     ,\n",
       "        35.3      ,  25.56     ,  26.75     ,  32.71     ,  69.38     ,\n",
       "        42.08     ,  35.67     ,  49.23     ,  70.03     ,  60.03     ,\n",
       "        43.22     ,  44.75     ,  44.27     ,  34.72     ,  37.99     ,\n",
       "        41.69     ,  38.49     ,  41.7      ,  42.43     ,  44.65     ,\n",
       "        51.63     ,  48.67     ,  48.26     ,  46.8      ,  39.43     ,\n",
       "        28.8      ,  47.31     ,  56.72     ,  45.43     ,  60.09     ,\n",
       "        57.61     ,  44.1      ,  41.77     ,  47.52     ,  50.55     ,\n",
       "        39.88     ,  46.58     ,  36.44     ,  30.82     ,  45.77     ,\n",
       "        58.51     ,  37.05     ,  31.28     ,  25.64     ,  40.18     ,\n",
       "        35.05     ,  33.15     ,  38.7      ,  64.45     ,  59.96     ,\n",
       "        66.21     ,  73.61     ,  27.17     ,  39.27     ,  61.46     ,\n",
       "        39.34     ,  28.2      ,  33.66     ,  51.11     ,  57.08     ,\n",
       "        99.81     ,  73.52     , 108.07     , 194.36     ,  98.5      ,\n",
       "        96.74     ,  87.87     ,  89.05     ,  81.62     ,  82.74     ,\n",
       "        62.7      ,  57.54     ,  54.57     ,  63.17     ,  42.27     ,\n",
       "        33.68     ,  56.86     ,  64.96     ,  48.99     ,  88.       ,\n",
       "        49.19     ,  43.56     ,  52.04     ,  46.54     ,  55.43     ,\n",
       "        73.87     ,  64.06     ,  53.91     ,  43.06     ,  46.74     ,\n",
       "        41.61     ,  93.24     ,  92.26     ,  78.95     ,  52.59     ,\n",
       "        63.33     ,  48.58     ,  89.97     , 104.25     ,  64.25     ,\n",
       "        53.       ,  52.77     ,  39.89     ,  74.18     ,  79.57     ,\n",
       "        72.59     ,  69.54     ,  70.06     ,  61.4      ,  38.89     ,\n",
       "        89.34     ,  39.83     ,  53.27     ,  36.05     ,  36.21     ,\n",
       "        51.15     ,  61.05     ,  62.03     ,  33.93     ,  57.28     ,\n",
       "        88.79     ,  52.31     ,  68.19     ,  66.87     ,  95.25     ,\n",
       "        69.85     ,  88.83     ,  50.55     ,  73.04     , 114.79     ,\n",
       "        65.74     ,  60.61     ,  73.18     , 137.81     ,  94.27     ,\n",
       "        53.06     ,  56.2      ,  77.58     ,  51.32     ,  35.04     ,\n",
       "        37.02     ,  41.72     ,  39.57     ,  39.42     , 101.09     ,\n",
       "        50.47     ,  74.43     ,  33.25     ,  43.67     ,  22.93     ,\n",
       "        29.97     ,  24.79     ,  25.52     ,  33.48     ,  45.8      ,\n",
       "        36.3      ,  32.12     ,  18.77     ,  31.16     ,  23.69     ,\n",
       "        21.27     ,  29.84     ,  27.81     ,  77.1653125,  77.1653125,\n",
       "        31.76     ,  32.55     ,  77.1653125,  77.1653125,  28.71     ,\n",
       "        22.56     ,  23.82     ,  30.45     ,  26.79     ,  23.79     ,\n",
       "        23.19     ,  21.9      ,  19.15     ,  23.98     ,  25.6      ,\n",
       "        33.35     ,  24.84     ,  29.78     ,  31.25     ,  22.83     ,\n",
       "        31.02     , 131.88     ,  20.67     ,  22.92     ,  21.17     ,\n",
       "        21.72     ,  24.1      ,  21.21     ,  17.65     ,  22.9      ,\n",
       "        24.28     ,  32.56     ,  36.48     ,  62.12     ,  37.63     ])"
      ]
     },
     "execution_count": 155,
     "metadata": {},
     "output_type": "execute_result"
    }
   ],
   "source": [
    "y_pred"
   ]
  },
  {
   "cell_type": "code",
   "execution_count": 156,
   "id": "6a1bf0f5",
   "metadata": {},
   "outputs": [],
   "source": [
    "error = np.sqrt(mean_squared_error(y,y_pred))"
   ]
  },
  {
   "cell_type": "code",
   "execution_count": 157,
   "id": "8533d2f1",
   "metadata": {},
   "outputs": [
    {
     "data": {
      "text/plain": [
       "6.978797939856464"
      ]
     },
     "execution_count": 157,
     "metadata": {},
     "output_type": "execute_result"
    }
   ],
   "source": [
    "error"
   ]
  },
  {
   "cell_type": "code",
   "execution_count": 158,
   "id": "2991fce6",
   "metadata": {},
   "outputs": [
    {
     "data": {
      "text/html": [
       "<div>\n",
       "<style scoped>\n",
       "    .dataframe tbody tr th:only-of-type {\n",
       "        vertical-align: middle;\n",
       "    }\n",
       "\n",
       "    .dataframe tbody tr th {\n",
       "        vertical-align: top;\n",
       "    }\n",
       "\n",
       "    .dataframe thead th {\n",
       "        text-align: right;\n",
       "    }\n",
       "</style>\n",
       "<table border=\"1\" class=\"dataframe\">\n",
       "  <thead>\n",
       "    <tr style=\"text-align: right;\">\n",
       "      <th></th>\n",
       "      <th>T</th>\n",
       "      <th>TM</th>\n",
       "      <th>Tm</th>\n",
       "      <th>H</th>\n",
       "      <th>PP</th>\n",
       "      <th>VV</th>\n",
       "      <th>V</th>\n",
       "      <th>VM</th>\n",
       "      <th>PM2.5</th>\n",
       "    </tr>\n",
       "  </thead>\n",
       "  <tbody>\n",
       "    <tr>\n",
       "      <th>0</th>\n",
       "      <td>25</td>\n",
       "      <td>29</td>\n",
       "      <td>14</td>\n",
       "      <td>32</td>\n",
       "      <td>0</td>\n",
       "      <td>15</td>\n",
       "      <td>28</td>\n",
       "      <td>7</td>\n",
       "      <td>94.52</td>\n",
       "    </tr>\n",
       "    <tr>\n",
       "      <th>1</th>\n",
       "      <td>61</td>\n",
       "      <td>43</td>\n",
       "      <td>36</td>\n",
       "      <td>26</td>\n",
       "      <td>0</td>\n",
       "      <td>15</td>\n",
       "      <td>20</td>\n",
       "      <td>6</td>\n",
       "      <td>135.99</td>\n",
       "    </tr>\n",
       "    <tr>\n",
       "      <th>2</th>\n",
       "      <td>48</td>\n",
       "      <td>39</td>\n",
       "      <td>36</td>\n",
       "      <td>42</td>\n",
       "      <td>0</td>\n",
       "      <td>12</td>\n",
       "      <td>14</td>\n",
       "      <td>9</td>\n",
       "      <td>178.33</td>\n",
       "    </tr>\n",
       "    <tr>\n",
       "      <th>3</th>\n",
       "      <td>49</td>\n",
       "      <td>32</td>\n",
       "      <td>44</td>\n",
       "      <td>42</td>\n",
       "      <td>0</td>\n",
       "      <td>13</td>\n",
       "      <td>26</td>\n",
       "      <td>7</td>\n",
       "      <td>139.70</td>\n",
       "    </tr>\n",
       "    <tr>\n",
       "      <th>4</th>\n",
       "      <td>50</td>\n",
       "      <td>43</td>\n",
       "      <td>44</td>\n",
       "      <td>29</td>\n",
       "      <td>0</td>\n",
       "      <td>15</td>\n",
       "      <td>19</td>\n",
       "      <td>6</td>\n",
       "      <td>88.70</td>\n",
       "    </tr>\n",
       "  </tbody>\n",
       "</table>\n",
       "</div>"
      ],
      "text/plain": [
       "    T  TM  Tm   H  PP  VV   V  VM   PM2.5\n",
       "0  25  29  14  32   0  15  28   7   94.52\n",
       "1  61  43  36  26   0  15  20   6  135.99\n",
       "2  48  39  36  42   0  12  14   9  178.33\n",
       "3  49  32  44  42   0  13  26   7  139.70\n",
       "4  50  43  44  29   0  15  19   6   88.70"
      ]
     },
     "execution_count": 158,
     "metadata": {},
     "output_type": "execute_result"
    }
   ],
   "source": [
    "df.head()"
   ]
  },
  {
   "cell_type": "code",
   "execution_count": 159,
   "id": "5972d137",
   "metadata": {},
   "outputs": [
    {
     "data": {
      "text/html": [
       "<div>\n",
       "<style scoped>\n",
       "    .dataframe tbody tr th:only-of-type {\n",
       "        vertical-align: middle;\n",
       "    }\n",
       "\n",
       "    .dataframe tbody tr th {\n",
       "        vertical-align: top;\n",
       "    }\n",
       "\n",
       "    .dataframe thead th {\n",
       "        text-align: right;\n",
       "    }\n",
       "</style>\n",
       "<table border=\"1\" class=\"dataframe\">\n",
       "  <thead>\n",
       "    <tr style=\"text-align: right;\">\n",
       "      <th></th>\n",
       "      <th>T</th>\n",
       "      <th>TM</th>\n",
       "      <th>Tm</th>\n",
       "      <th>H</th>\n",
       "      <th>PP</th>\n",
       "      <th>VV</th>\n",
       "      <th>V</th>\n",
       "      <th>VM</th>\n",
       "      <th>PM2.5</th>\n",
       "    </tr>\n",
       "  </thead>\n",
       "  <tbody>\n",
       "    <tr>\n",
       "      <th>720</th>\n",
       "      <td>131</td>\n",
       "      <td>67</td>\n",
       "      <td>152</td>\n",
       "      <td>54</td>\n",
       "      <td>0</td>\n",
       "      <td>16</td>\n",
       "      <td>70</td>\n",
       "      <td>12</td>\n",
       "      <td>24.28</td>\n",
       "    </tr>\n",
       "    <tr>\n",
       "      <th>721</th>\n",
       "      <td>137</td>\n",
       "      <td>75</td>\n",
       "      <td>153</td>\n",
       "      <td>56</td>\n",
       "      <td>6</td>\n",
       "      <td>16</td>\n",
       "      <td>56</td>\n",
       "      <td>10</td>\n",
       "      <td>32.56</td>\n",
       "    </tr>\n",
       "    <tr>\n",
       "      <th>722</th>\n",
       "      <td>150</td>\n",
       "      <td>75</td>\n",
       "      <td>162</td>\n",
       "      <td>48</td>\n",
       "      <td>0</td>\n",
       "      <td>12</td>\n",
       "      <td>50</td>\n",
       "      <td>11</td>\n",
       "      <td>36.48</td>\n",
       "    </tr>\n",
       "    <tr>\n",
       "      <th>723</th>\n",
       "      <td>149</td>\n",
       "      <td>75</td>\n",
       "      <td>164</td>\n",
       "      <td>49</td>\n",
       "      <td>0</td>\n",
       "      <td>15</td>\n",
       "      <td>62</td>\n",
       "      <td>13</td>\n",
       "      <td>62.12</td>\n",
       "    </tr>\n",
       "    <tr>\n",
       "      <th>724</th>\n",
       "      <td>145</td>\n",
       "      <td>71</td>\n",
       "      <td>158</td>\n",
       "      <td>53</td>\n",
       "      <td>0</td>\n",
       "      <td>14</td>\n",
       "      <td>69</td>\n",
       "      <td>13</td>\n",
       "      <td>37.63</td>\n",
       "    </tr>\n",
       "  </tbody>\n",
       "</table>\n",
       "</div>"
      ],
      "text/plain": [
       "       T  TM   Tm   H  PP  VV   V  VM  PM2.5\n",
       "720  131  67  152  54   0  16  70  12  24.28\n",
       "721  137  75  153  56   6  16  56  10  32.56\n",
       "722  150  75  162  48   0  12  50  11  36.48\n",
       "723  149  75  164  49   0  15  62  13  62.12\n",
       "724  145  71  158  53   0  14  69  13  37.63"
      ]
     },
     "execution_count": 159,
     "metadata": {},
     "output_type": "execute_result"
    }
   ],
   "source": [
    "df.tail()"
   ]
  },
  {
   "cell_type": "code",
   "execution_count": 160,
   "id": "024ab861",
   "metadata": {},
   "outputs": [
    {
     "data": {
      "text/plain": [
       "(725, 9)"
      ]
     },
     "execution_count": 160,
     "metadata": {},
     "output_type": "execute_result"
    }
   ],
   "source": [
    "df.shape"
   ]
  },
  {
   "cell_type": "code",
   "execution_count": 194,
   "id": "9bd4414b",
   "metadata": {},
   "outputs": [],
   "source": [
    "x = np.array([[19.232,29.4343, 11.0,47,0.0,4.3232,5.923,13.0]])"
   ]
  },
  {
   "cell_type": "code",
   "execution_count": 195,
   "id": "a43086dc",
   "metadata": {},
   "outputs": [
    {
     "data": {
      "text/plain": [
       "dtype('float64')"
      ]
     },
     "execution_count": 195,
     "metadata": {},
     "output_type": "execute_result"
    }
   ],
   "source": [
    "x.dtype"
   ]
  },
  {
   "cell_type": "code",
   "execution_count": 196,
   "id": "787d9c43",
   "metadata": {},
   "outputs": [
    {
     "ename": "ValueError",
     "evalue": "y contains previously unseen labels: [19.232]",
     "output_type": "error",
     "traceback": [
      "\u001b[1;31m---------------------------------------------------------------------------\u001b[0m",
      "\u001b[1;31mValueError\u001b[0m                                Traceback (most recent call last)",
      "\u001b[1;32m<ipython-input-196-713bb89efd26>\u001b[0m in \u001b[0;36m<module>\u001b[1;34m\u001b[0m\n\u001b[1;32m----> 1\u001b[1;33m \u001b[0mx\u001b[0m\u001b[1;33m[\u001b[0m\u001b[1;33m:\u001b[0m\u001b[1;33m,\u001b[0m \u001b[1;36m0\u001b[0m\u001b[1;33m]\u001b[0m \u001b[1;33m=\u001b[0m \u001b[0mT\u001b[0m\u001b[1;33m.\u001b[0m\u001b[0mtransform\u001b[0m\u001b[1;33m(\u001b[0m\u001b[0mx\u001b[0m\u001b[1;33m[\u001b[0m\u001b[1;33m:\u001b[0m\u001b[1;33m,\u001b[0m\u001b[1;36m0\u001b[0m\u001b[1;33m]\u001b[0m\u001b[1;33m)\u001b[0m\u001b[1;33m\u001b[0m\u001b[1;33m\u001b[0m\u001b[0m\n\u001b[0m\u001b[0;32m      2\u001b[0m \u001b[0mx\u001b[0m\u001b[1;33m[\u001b[0m\u001b[1;33m:\u001b[0m\u001b[1;33m,\u001b[0m \u001b[1;36m1\u001b[0m\u001b[1;33m]\u001b[0m \u001b[1;33m=\u001b[0m \u001b[0mTM\u001b[0m\u001b[1;33m.\u001b[0m\u001b[0mtransform\u001b[0m\u001b[1;33m(\u001b[0m\u001b[0mx\u001b[0m\u001b[1;33m[\u001b[0m\u001b[1;33m:\u001b[0m\u001b[1;33m,\u001b[0m\u001b[1;36m1\u001b[0m\u001b[1;33m]\u001b[0m\u001b[1;33m)\u001b[0m\u001b[1;33m\u001b[0m\u001b[1;33m\u001b[0m\u001b[0m\n\u001b[0;32m      3\u001b[0m \u001b[0mx\u001b[0m\u001b[1;33m[\u001b[0m\u001b[1;33m:\u001b[0m\u001b[1;33m,\u001b[0m \u001b[1;36m2\u001b[0m\u001b[1;33m]\u001b[0m \u001b[1;33m=\u001b[0m \u001b[0mTm\u001b[0m\u001b[1;33m.\u001b[0m\u001b[0mtransform\u001b[0m\u001b[1;33m(\u001b[0m\u001b[0mx\u001b[0m\u001b[1;33m[\u001b[0m\u001b[1;33m:\u001b[0m\u001b[1;33m,\u001b[0m\u001b[1;36m2\u001b[0m\u001b[1;33m]\u001b[0m\u001b[1;33m)\u001b[0m\u001b[1;33m\u001b[0m\u001b[1;33m\u001b[0m\u001b[0m\n\u001b[0;32m      4\u001b[0m \u001b[0mx\u001b[0m\u001b[1;33m[\u001b[0m\u001b[1;33m:\u001b[0m\u001b[1;33m,\u001b[0m \u001b[1;36m3\u001b[0m\u001b[1;33m]\u001b[0m \u001b[1;33m=\u001b[0m \u001b[0mH\u001b[0m\u001b[1;33m.\u001b[0m\u001b[0mtransform\u001b[0m\u001b[1;33m(\u001b[0m\u001b[0mx\u001b[0m\u001b[1;33m[\u001b[0m\u001b[1;33m:\u001b[0m\u001b[1;33m,\u001b[0m\u001b[1;36m3\u001b[0m\u001b[1;33m]\u001b[0m\u001b[1;33m)\u001b[0m\u001b[1;33m\u001b[0m\u001b[1;33m\u001b[0m\u001b[0m\n\u001b[0;32m      5\u001b[0m \u001b[0mx\u001b[0m\u001b[1;33m[\u001b[0m\u001b[1;33m:\u001b[0m\u001b[1;33m,\u001b[0m \u001b[1;36m4\u001b[0m\u001b[1;33m]\u001b[0m \u001b[1;33m=\u001b[0m \u001b[0mPP\u001b[0m\u001b[1;33m.\u001b[0m\u001b[0mtransform\u001b[0m\u001b[1;33m(\u001b[0m\u001b[0mx\u001b[0m\u001b[1;33m[\u001b[0m\u001b[1;33m:\u001b[0m\u001b[1;33m,\u001b[0m\u001b[1;36m4\u001b[0m\u001b[1;33m]\u001b[0m\u001b[1;33m)\u001b[0m\u001b[1;33m\u001b[0m\u001b[1;33m\u001b[0m\u001b[0m\n",
      "\u001b[1;32m~\\anaconda3\\lib\\site-packages\\sklearn\\preprocessing\\_label.py\u001b[0m in \u001b[0;36mtransform\u001b[1;34m(self, y)\u001b[0m\n\u001b[0;32m    136\u001b[0m             \u001b[1;32mreturn\u001b[0m \u001b[0mnp\u001b[0m\u001b[1;33m.\u001b[0m\u001b[0marray\u001b[0m\u001b[1;33m(\u001b[0m\u001b[1;33m[\u001b[0m\u001b[1;33m]\u001b[0m\u001b[1;33m)\u001b[0m\u001b[1;33m\u001b[0m\u001b[1;33m\u001b[0m\u001b[0m\n\u001b[0;32m    137\u001b[0m \u001b[1;33m\u001b[0m\u001b[0m\n\u001b[1;32m--> 138\u001b[1;33m         \u001b[1;32mreturn\u001b[0m \u001b[0m_encode\u001b[0m\u001b[1;33m(\u001b[0m\u001b[0my\u001b[0m\u001b[1;33m,\u001b[0m \u001b[0muniques\u001b[0m\u001b[1;33m=\u001b[0m\u001b[0mself\u001b[0m\u001b[1;33m.\u001b[0m\u001b[0mclasses_\u001b[0m\u001b[1;33m)\u001b[0m\u001b[1;33m\u001b[0m\u001b[1;33m\u001b[0m\u001b[0m\n\u001b[0m\u001b[0;32m    139\u001b[0m \u001b[1;33m\u001b[0m\u001b[0m\n\u001b[0;32m    140\u001b[0m     \u001b[1;32mdef\u001b[0m \u001b[0minverse_transform\u001b[0m\u001b[1;33m(\u001b[0m\u001b[0mself\u001b[0m\u001b[1;33m,\u001b[0m \u001b[0my\u001b[0m\u001b[1;33m)\u001b[0m\u001b[1;33m:\u001b[0m\u001b[1;33m\u001b[0m\u001b[1;33m\u001b[0m\u001b[0m\n",
      "\u001b[1;32m~\\anaconda3\\lib\\site-packages\\sklearn\\utils\\_encode.py\u001b[0m in \u001b[0;36m_encode\u001b[1;34m(values, uniques, check_unknown)\u001b[0m\n\u001b[0;32m    183\u001b[0m             \u001b[0mdiff\u001b[0m \u001b[1;33m=\u001b[0m \u001b[0m_check_unknown\u001b[0m\u001b[1;33m(\u001b[0m\u001b[0mvalues\u001b[0m\u001b[1;33m,\u001b[0m \u001b[0muniques\u001b[0m\u001b[1;33m)\u001b[0m\u001b[1;33m\u001b[0m\u001b[1;33m\u001b[0m\u001b[0m\n\u001b[0;32m    184\u001b[0m             \u001b[1;32mif\u001b[0m \u001b[0mdiff\u001b[0m\u001b[1;33m:\u001b[0m\u001b[1;33m\u001b[0m\u001b[1;33m\u001b[0m\u001b[0m\n\u001b[1;32m--> 185\u001b[1;33m                 raise ValueError(f\"y contains previously unseen labels: \"\n\u001b[0m\u001b[0;32m    186\u001b[0m                                  f\"{str(diff)}\")\n\u001b[0;32m    187\u001b[0m         \u001b[1;32mreturn\u001b[0m \u001b[0mnp\u001b[0m\u001b[1;33m.\u001b[0m\u001b[0msearchsorted\u001b[0m\u001b[1;33m(\u001b[0m\u001b[0muniques\u001b[0m\u001b[1;33m,\u001b[0m \u001b[0mvalues\u001b[0m\u001b[1;33m)\u001b[0m\u001b[1;33m\u001b[0m\u001b[1;33m\u001b[0m\u001b[0m\n",
      "\u001b[1;31mValueError\u001b[0m: y contains previously unseen labels: [19.232]"
     ]
    }
   ],
   "source": [
    "x[:, 0] = T.transform(x[:,0])\n",
    "x[:, 1] = TM.transform(x[:,1])\n",
    "x[:, 2] = Tm.transform(x[:,2])\n",
    "x[:, 3] = H.transform(x[:,3])\n",
    "x[:, 4] = PP.transform(x[:,4])\n",
    "x[:, 5] = VV.transform(x[:,5])\n",
    "x[:, 6] = V.transform(x[:,6])\n",
    "x[:, 7] = VM.transform(x[:,7])\n",
    "x\n",
    "x=x.astype(float)"
   ]
  },
  {
   "cell_type": "code",
   "execution_count": 193,
   "id": "12c9dc73",
   "metadata": {},
   "outputs": [
    {
     "data": {
      "text/plain": [
       "array([[25., 29., 14., 32.,  0., 15., 28.,  7.]])"
      ]
     },
     "execution_count": 193,
     "metadata": {},
     "output_type": "execute_result"
    }
   ],
   "source": [
    "x"
   ]
  },
  {
   "cell_type": "code",
   "execution_count": null,
   "id": "479c8fc1",
   "metadata": {},
   "outputs": [],
   "source": []
  }
 ],
 "metadata": {
  "kernelspec": {
   "display_name": "Python 3",
   "language": "python",
   "name": "python3"
  },
  "language_info": {
   "codemirror_mode": {
    "name": "ipython",
    "version": 3
   },
   "file_extension": ".py",
   "mimetype": "text/x-python",
   "name": "python",
   "nbconvert_exporter": "python",
   "pygments_lexer": "ipython3",
   "version": "3.8.8"
  }
 },
 "nbformat": 4,
 "nbformat_minor": 5
}
