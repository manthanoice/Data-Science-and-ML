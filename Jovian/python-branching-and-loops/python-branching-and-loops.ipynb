{
 "cells": [
  {
   "cell_type": "markdown",
   "metadata": {},
   "source": [
    "# Branching using Conditional Statements and Loops in Python\n",
    "\n",
    "![](https://i.imgur.com/7RfcHV0.png)\n",
    "\n",
    "### Part 3 of \"Data Analysis with Python: Zero to Pandas\"\n",
    "\n",
    "\n",
    "This tutorial series is a beginner-friendly introduction to programming and data analysis using the Python programming language. These tutorials take a practical and coding-focused approach. The best way to learn the material is to execute the code and experiment with it yourself. Check out the full series here: \n",
    "\n",
    "1. [First Steps with Python and Jupyter](https://jovian.ai/aakashns/first-steps-with-python)\n",
    "2. [A Quick Tour of Variables and Data Types](https://jovian.ai/aakashns/python-variables-and-data-types)\n",
    "3. [Branching using Conditional Statements and Loops](https://jovian.ai/aakashns/python-branching-and-loops)\n",
    "4. [Writing Reusable Code Using Functions](https://jovian.ai/aakashns/python-functions-and-scope)\n",
    "5. [Reading from and Writing to Files](https://jovian.ai/aakashns/python-os-and-filesystem)\n",
    "6. [Numerical Computing with Python and Numpy](https://jovian.ai/aakashns/python-numerical-computing-with-numpy)\n",
    "7. [Analyzing Tabular Data using Pandas](https://jovian.ai/aakashns/python-pandas-data-analysis)\n",
    "8. [Data Visualization using Matplotlib & Seaborn](https://jovian.ai/aakashns/python-matplotlib-data-visualization)\n",
    "9. [Exploratory Data Analysis - A Case Study](https://jovian.ai/aakashns/python-eda-stackoverflow-survey)\n",
    "\n"
   ]
  },
  {
   "cell_type": "markdown",
   "metadata": {},
   "source": [
    "This tutorial covers the following topics:\n",
    "\n",
    "- Branching with `if`, `else` and `elif`\n",
    "- Nested conditions and `if` expressions\n",
    "- Iteration with `while` loops\n",
    "- Iterating over containers with `for` loops\n",
    "- Nested loops, `break` and `continue` statements"
   ]
  },
  {
   "cell_type": "markdown",
   "metadata": {},
   "source": [
    "### How to run the code\n",
    "\n",
    "This tutorial is an executable [Jupyter notebook](https://jupyter.org) hosted on [Jovian](https://www.jovian.ai). You can _run_ this tutorial and experiment with the code examples in a couple of ways: *using free online resources* (recommended) or *on your computer*.\n",
    "\n",
    "#### Option 1: Running using free online resources (1-click, recommended)\n",
    "\n",
    "The easiest way to start executing the code is to click the **Run** button at the top of this page and select **Run on Binder**. You can also select \"Run on Colab\" or \"Run on Kaggle\", but you'll need to create an account on [Google Colab](https://colab.research.google.com) or [Kaggle](https://kaggle.com) to use these platforms.\n",
    "\n",
    "\n",
    "#### Option 2: Running on your computer locally\n",
    "\n",
    "To run the code on your computer locally, you'll need to set up [Python](https://www.python.org), download the notebook and install the required libraries. We recommend using the [Conda](https://docs.conda.io/projects/conda/en/latest/user-guide/install/) distribution of Python. Click the **Run** button at the top of this page, select the **Run Locally** option, and follow the instructions.\n",
    "\n",
    ">  **Jupyter Notebooks**: This tutorial is a [Jupyter notebook](https://jupyter.org) - a document made of _cells_. Each cell can contain code written in Python or explanations in plain English. You can execute code cells and view the results, e.g., numbers, messages, graphs, tables, files, etc., instantly within the notebook. Jupyter is a powerful platform for experimentation and analysis. Don't be afraid to mess around with the code & break things - you'll learn a lot by encountering and fixing errors. You can use the \"Kernel > Restart & Clear Output\" menu option to clear all outputs and start again from the top."
   ]
  },
  {
   "cell_type": "markdown",
   "metadata": {},
   "source": [
    "## Branching with `if`, `else` and `elif`\n",
    "\n",
    "One of the most powerful features of programming languages is *branching*: the ability to make decisions and execute a different set of statements based on whether one or more conditions are true.\n",
    "\n",
    "### The `if` statement\n",
    "\n",
    "In Python, branching is implemented using the `if` statement, which is written as follows:\n",
    "\n",
    "```\n",
    "if condition:\n",
    "    statement1\n",
    "    statement2\n",
    "```\n",
    "\n",
    "The `condition` can be a value, variable or expression. If the condition evaluates to `True`, then the statements within the *`if` block* are executed. Notice the four spaces before `statement1`, `statement2`, etc. The spaces inform Python that these statements are associated with the `if` statement above. This technique of structuring code by adding spaces is called *indentation*.\n",
    "\n",
    "> **Indentation**: Python relies heavily on *indentation* (white space before a statement) to define code structure. This makes Python code easy to read and understand. You can run into problems if you don't use indentation properly. Indent your code by placing the cursor at the start of the line and pressing the `Tab` key once to add 4 spaces. Pressing `Tab` again will indent the code further by 4 more spaces, and press `Shift+Tab` will reduce the indentation by 4 spaces. \n",
    "\n",
    "\n",
    "For example, let's write some code to check and print a message if a given number is even."
   ]
  },
  {
   "cell_type": "code",
   "execution_count": 11,
   "metadata": {},
   "outputs": [
    {
     "name": "stdout",
     "output_type": "stream",
     "text": [
      "Enter a number: 69\n"
     ]
    }
   ],
   "source": [
    "a = int(input(\"Enter a number: \"))"
   ]
  },
  {
   "cell_type": "code",
   "execution_count": 12,
   "metadata": {},
   "outputs": [
    {
     "name": "stdout",
     "output_type": "stream",
     "text": [
      "NICE\n"
     ]
    }
   ],
   "source": [
    "if a == 69:\n",
    "    print(\"NICE\")\n",
    "else:\n",
    "    print(\"Not Nice\")"
   ]
  },
  {
   "cell_type": "markdown",
   "metadata": {},
   "source": [
    "We use the modulus operator `%` to calculate the remainder from the division of `a_number` by `2`. Then, we use the comparison operator `==` check if the remainder is `0`, which tells us whether the number is even, i.e., divisible by 2.\n",
    "\n",
    "Since `34` is divisible by `2`, the expression `a_number % 2 == 0` evaluates to `True`, so the `print` statement under the `if` statement is executed. Also, note that we are using the string `format` method to include the number within the message.\n",
    "\n",
    "Let's try the above again with an odd number."
   ]
  },
  {
   "cell_type": "code",
   "execution_count": 13,
   "metadata": {},
   "outputs": [],
   "source": [
    "another_number = 33"
   ]
  },
  {
   "cell_type": "code",
   "execution_count": 15,
   "metadata": {},
   "outputs": [],
   "source": [
    "if another_number % 2 == 0:\n",
    "    print('The given number {} is even.'.format(another_number))"
   ]
  },
  {
   "cell_type": "markdown",
   "metadata": {},
   "source": [
    "As expected, since the condition `another_number % 2 == 0` evaluates to `False`, no message is printed. \n",
    "\n",
    "### The `else` statement\n",
    "\n",
    "We may want to print a different message if the number is not even in the above example. This can be done by adding the `else` statement. It is written as follows:\n",
    "\n",
    "```\n",
    "if condition:\n",
    "    statement1\n",
    "    statement2\n",
    "else:\n",
    "    statement4\n",
    "    statement5\n",
    "\n",
    "```\n",
    "\n",
    "If `condition` evaluates to `True`, the statements in the `if` block are executed. If it evaluates to `False`, the statements in the `else` block are executed."
   ]
  },
  {
   "cell_type": "code",
   "execution_count": 16,
   "metadata": {},
   "outputs": [],
   "source": [
    "a_number = 34"
   ]
  },
  {
   "cell_type": "code",
   "execution_count": 17,
   "metadata": {},
   "outputs": [
    {
     "name": "stdout",
     "output_type": "stream",
     "text": [
      "The given number 34 is even.\n"
     ]
    }
   ],
   "source": [
    "if a_number % 2 == 0:\n",
    "    print('The given number {} is even.'.format(a_number))\n",
    "else:\n",
    "    print('The given number {} is odd.'.format(a_number))"
   ]
  },
  {
   "cell_type": "code",
   "execution_count": 18,
   "metadata": {},
   "outputs": [],
   "source": [
    "another_number = 33"
   ]
  },
  {
   "cell_type": "code",
   "execution_count": 21,
   "metadata": {},
   "outputs": [
    {
     "name": "stdout",
     "output_type": "stream",
     "text": [
      "The given number 33 is odd.\n"
     ]
    }
   ],
   "source": [
    "if another_number % 2 == 0:\n",
    "    print('The given number {} is even.'.format(another_number))\n",
    "else:\n",
    "    print('The given number {} is odd.'.format(another_number))"
   ]
  },
  {
   "cell_type": "markdown",
   "metadata": {},
   "source": [
    "Here's another example, which uses the `in` operator to check membership within a tuple."
   ]
  },
  {
   "cell_type": "code",
   "execution_count": 22,
   "metadata": {},
   "outputs": [],
   "source": [
    "the_3_musketeers = ('Athos', 'Porthos', 'Aramis')"
   ]
  },
  {
   "cell_type": "code",
   "execution_count": 23,
   "metadata": {},
   "outputs": [],
   "source": [
    "a_candidate = \"D'Artagnan\""
   ]
  },
  {
   "cell_type": "code",
   "execution_count": 24,
   "metadata": {},
   "outputs": [
    {
     "name": "stdout",
     "output_type": "stream",
     "text": [
      "D'Artagnan is not a musketeers\n"
     ]
    }
   ],
   "source": [
    "if a_candidate in the_3_musketeers:\n",
    "    print(\"{} is a musketeers\".format(a_candidate))\n",
    "else:\n",
    "    print(\"{} is not a musketeers\".format(a_candidate))"
   ]
  },
  {
   "cell_type": "markdown",
   "metadata": {},
   "source": [
    "### The `elif` statement\n",
    "\n",
    "Python also provides an `elif` statement (short for \"else if\") to chain a series of conditional blocks. The conditions are evaluated one by one. For the first condition that evaluates to `True`, the block of statements below it is executed. The remaining conditions and statements are not evaluated. So, in an `if`, `elif`, `elif`... chain, at most one block of statements is executed, the one corresponding to the first condition that evaluates to `True`. "
   ]
  },
  {
   "cell_type": "code",
   "execution_count": 25,
   "metadata": {},
   "outputs": [],
   "source": [
    "today = 'Wednesday'"
   ]
  },
  {
   "cell_type": "code",
   "execution_count": 26,
   "metadata": {},
   "outputs": [
    {
     "name": "stdout",
     "output_type": "stream",
     "text": [
      "Today is the day of Odin, the supreme diety.\n"
     ]
    }
   ],
   "source": [
    "if today == 'Sunday':\n",
    "    print(\"Today is the day of the sun.\")\n",
    "elif today == 'Monday':\n",
    "    print(\"Today is the day of the moon.\")\n",
    "elif today == 'Tuesday':\n",
    "    print(\"Today is the day of Tyr, the god of war.\")\n",
    "elif today == 'Wednesday':\n",
    "    print(\"Today is the day of Odin, the supreme diety.\")\n",
    "elif today == 'Thursday':\n",
    "    print(\"Today is the day of Thor, the god of thunder.\")\n",
    "elif today == 'Friday':\n",
    "    print(\"Today is the day of Frigga, the goddess of beauty.\")\n",
    "elif today == 'Saturday':\n",
    "    print(\"Today is the day of Saturn, the god of fun and feasting.\")"
   ]
  },
  {
   "cell_type": "markdown",
   "metadata": {},
   "source": [
    "In the above example, the first 3 conditions evaluate to `False`, so none of the first 3 messages are printed. The fourth condition evaluates to `True`, so the corresponding message is printed. The remaining conditions are skipped. Try changing the value of `today` above and re-executing the cells to print all the different messages.\n",
    "\n",
    "\n",
    "To verify that the remaining conditions are skipped, let us try another example."
   ]
  },
  {
   "cell_type": "code",
   "execution_count": 27,
   "metadata": {},
   "outputs": [],
   "source": [
    "a_number = 15"
   ]
  },
  {
   "cell_type": "code",
   "execution_count": 30,
   "metadata": {},
   "outputs": [
    {
     "name": "stdout",
     "output_type": "stream",
     "text": [
      "15 is divisible by 3\n"
     ]
    }
   ],
   "source": [
    "if a_number % 2 == 0:\n",
    "    print('{} is divisible by 2'.format(a_number))\n",
    "elif a_number % 3 == 0:\n",
    "    print('{} is divisible by 3'.format(a_number))\n",
    "elif a_number % 5 == 0:\n",
    "    print('{} is divisible by 5'.format(a_number))\n",
    "elif a_number % 7 == 0:\n",
    "    print('{} is divisible by 7'.format(a_number))"
   ]
  },
  {
   "cell_type": "markdown",
   "metadata": {},
   "source": [
    "Note that the message `15 is divisible by 5` is not printed because the condition `a_number % 5 == 0` isn't evaluated, since the previous condition `a_number % 3 == 0` evaluates to `True`. This is the key difference between using a chain of `if`, `elif`, `elif`... statements vs. a chain of `if` statements, where each condition is evaluated independently."
   ]
  },
  {
   "cell_type": "code",
   "execution_count": 31,
   "metadata": {},
   "outputs": [
    {
     "name": "stdout",
     "output_type": "stream",
     "text": [
      "15 is divisible by 3\n",
      "15 is divisible by 5\n"
     ]
    }
   ],
   "source": [
    "if a_number % 2 == 0:\n",
    "    print('{} is divisible by 2'.format(a_number))\n",
    "if a_number % 3 == 0:\n",
    "    print('{} is divisible by 3'.format(a_number))\n",
    "if a_number % 5 == 0:\n",
    "    print('{} is divisible by 5'.format(a_number))\n",
    "if a_number % 7 == 0:\n",
    "    print('{} is divisible by 7'.format(a_number))"
   ]
  },
  {
   "cell_type": "markdown",
   "metadata": {},
   "source": [
    "### Using `if`, `elif`, and `else` together\n",
    "\n",
    "You can also include an `else` statement at the end of a chain of `if`, `elif`... statements. This code within the `else` block is evaluated when none of the conditions hold true."
   ]
  },
  {
   "cell_type": "code",
   "execution_count": 32,
   "metadata": {},
   "outputs": [],
   "source": [
    "a_number = 49"
   ]
  },
  {
   "cell_type": "code",
   "execution_count": 33,
   "metadata": {},
   "outputs": [
    {
     "name": "stdout",
     "output_type": "stream",
     "text": [
      "All checks failed!\n",
      "49 is not divisible by 2, 3 or 5\n"
     ]
    }
   ],
   "source": [
    "if a_number % 2 == 0:\n",
    "    print('{} is divisible by 2'.format(a_number))\n",
    "elif a_number % 3 == 0:\n",
    "    print('{} is divisible by 3'.format(a_number))\n",
    "elif a_number % 5 == 0:\n",
    "    print('{} is divisible by 5'.format(a_number))\n",
    "else:\n",
    "    print('All checks failed!')\n",
    "    print('{} is not divisible by 2, 3 or 5'.format(a_number))"
   ]
  },
  {
   "cell_type": "markdown",
   "metadata": {},
   "source": [
    "Conditions can also be combined using the logical operators `and`, `or` and `not`. Logical operators are explained in detail in the [first tutorial](https://jovian.ml/aakashns/first-steps-with-python/v/4#C49)."
   ]
  },
  {
   "cell_type": "code",
   "execution_count": 36,
   "metadata": {},
   "outputs": [],
   "source": [
    "a_number = 12"
   ]
  },
  {
   "cell_type": "code",
   "execution_count": 37,
   "metadata": {},
   "outputs": [
    {
     "name": "stdout",
     "output_type": "stream",
     "text": [
      "The number 12 is not divisible by 5\n"
     ]
    }
   ],
   "source": [
    "if a_number % 3 == 0 and a_number % 5 == 0:\n",
    "    print(\"The number {} is divisible by 3 and 5\".format(a_number))\n",
    "elif not a_number % 5 == 0:\n",
    "    print(\"The number {} is not divisible by 5\".format(a_number))"
   ]
  },
  {
   "cell_type": "markdown",
   "metadata": {},
   "source": [
    "### Non-Boolean Conditions\n",
    "\n",
    "Note that conditions do not necessarily have to be booleans. In fact, a condition can be any value. The value is converted into a boolean automatically using the `bool` operator. This means that falsy values like `0`, `''`, `{}`, `[]`, etc. evaluate to `False` and all other values evaluate to `True`."
   ]
  },
  {
   "cell_type": "code",
   "execution_count": 38,
   "metadata": {},
   "outputs": [
    {
     "name": "stdout",
     "output_type": "stream",
     "text": [
      "The condition evaluted to False\n"
     ]
    }
   ],
   "source": [
    "if '':\n",
    "    print('The condition evaluted to True')\n",
    "else:\n",
    "    print('The condition evaluted to False')"
   ]
  },
  {
   "cell_type": "code",
   "execution_count": 39,
   "metadata": {},
   "outputs": [
    {
     "name": "stdout",
     "output_type": "stream",
     "text": [
      "The condition evaluted to True\n"
     ]
    }
   ],
   "source": [
    "if 'Hello':\n",
    "    print('The condition evaluted to True')\n",
    "else:\n",
    "    print('The condition evaluted to False')"
   ]
  },
  {
   "cell_type": "code",
   "execution_count": 40,
   "metadata": {},
   "outputs": [
    {
     "name": "stdout",
     "output_type": "stream",
     "text": [
      "The condition evaluted to True\n"
     ]
    }
   ],
   "source": [
    "if { 'a': 34 }:\n",
    "    print('The condition evaluted to True')\n",
    "else:\n",
    "    print('The condition evaluted to False')"
   ]
  },
  {
   "cell_type": "code",
   "execution_count": 41,
   "metadata": {},
   "outputs": [
    {
     "name": "stdout",
     "output_type": "stream",
     "text": [
      "The condition evaluted to False\n"
     ]
    }
   ],
   "source": [
    "if None:\n",
    "    print('The condition evaluted to True')\n",
    "else:\n",
    "    print('The condition evaluted to False')"
   ]
  },
  {
   "cell_type": "markdown",
   "metadata": {},
   "source": [
    "### Nested conditional statements\n",
    "\n",
    "The code inside an `if` block can also include an `if` statement inside it. This pattern is called `nesting` and is used to check for another condition after a particular condition holds true."
   ]
  },
  {
   "cell_type": "code",
   "execution_count": 42,
   "metadata": {},
   "outputs": [
    {
     "name": "stdout",
     "output_type": "stream",
     "text": [
      "Enter a number: 33\n"
     ]
    }
   ],
   "source": [
    "x = int(input(\"Enter a number: \"))"
   ]
  },
  {
   "cell_type": "code",
   "execution_count": 47,
   "metadata": {},
   "outputs": [
    {
     "name": "stdout",
     "output_type": "stream",
     "text": [
      "33 is odd\n",
      "33 is not divisible by 5\n"
     ]
    }
   ],
   "source": [
    "if x%2==0:\n",
    "    print(\"{} is even\".format(x))\n",
    "    if x%3==0:\n",
    "        print(\"{} is divisible by 3\".format(x))\n",
    "    else:\n",
    "        print(\"{} is not divisible by 3\".format(x))\n",
    "else:\n",
    "    print(\"{} is odd\".format(x))\n",
    "    if x%5==0:\n",
    "        print(\"{} is divisible by 5\".format(x))\n",
    "    else:\n",
    "        print(\"{} is not divisible by 5\".format(x))"
   ]
  },
  {
   "cell_type": "markdown",
   "metadata": {},
   "source": [
    "Notice how the `print` statements are indented by 8 spaces to indicate that they are part of the inner `if`/`else` blocks.\n",
    "\n",
    "> Nested `if`, `else` statements are often confusing to read and prone to human error. It's good to avoid nesting whenever possible, or limit the nesting to 1 or 2 levels."
   ]
  },
  {
   "cell_type": "markdown",
   "metadata": {},
   "source": [
    "### Shorthand `if` conditional expression\n",
    "\n",
    "A frequent use case of the `if` statement involves testing a condition and setting a variable's value based on the condition."
   ]
  },
  {
   "cell_type": "code",
   "execution_count": 48,
   "metadata": {},
   "outputs": [
    {
     "name": "stdout",
     "output_type": "stream",
     "text": [
      "The number 13 is odd.\n"
     ]
    }
   ],
   "source": [
    "a_number = 13\n",
    "\n",
    "if a_number % 2 == 0:\n",
    "    parity = 'even'\n",
    "else:\n",
    "    parity = 'odd'\n",
    "\n",
    "print('The number {} is {}.'.format(a_number, parity))"
   ]
  },
  {
   "cell_type": "markdown",
   "metadata": {},
   "source": [
    "Python provides a shorter syntax, which allows writing such conditions in a single line of code. It is known as a *conditional expression*, sometimes also referred to as a *ternary operator*. It has the following syntax:\n",
    "\n",
    "```\n",
    "x = true_value if condition else false_value\n",
    "```\n",
    "\n",
    "It has the same behavior as the following `if`-`else` block:\n",
    "\n",
    "```\n",
    "if condition:\n",
    "    x = true_value\n",
    "else:\n",
    "    x = false_value\n",
    "```\n",
    "\n",
    "Let's try it out for the example above."
   ]
  },
  {
   "cell_type": "code",
   "execution_count": 49,
   "metadata": {},
   "outputs": [],
   "source": [
    "parity = 'even' if a_number % 2 == 0 else 'odd'"
   ]
  },
  {
   "cell_type": "code",
   "execution_count": 50,
   "metadata": {},
   "outputs": [
    {
     "name": "stdout",
     "output_type": "stream",
     "text": [
      "The number 13 is odd.\n"
     ]
    }
   ],
   "source": [
    "print('The number {} is {}.'.format(a_number, parity))"
   ]
  },
  {
   "cell_type": "markdown",
   "metadata": {},
   "source": [
    "### Statements and Expressions\n",
    "\n",
    "The conditional expression highlights an essential distinction between *statements* and *expressions* in Python. \n",
    "\n",
    "> **Statements**: A statement is an instruction that can be executed. Every line of code we have written so far is a statement e.g. assigning a variable, calling a function, conditional statements using `if`, `else`, and `elif`, loops using `for` and `while` etc.\n",
    "\n",
    "> **Expressions**: An expression is some code that evaluates to a value. Examples include values of different data types, arithmetic expressions, conditions, variables, function calls, conditional expressions, etc. \n",
    "\n",
    "\n",
    "Most expressions can be executed as statements, but not all statements are expressions. For example, the regular `if` statement is not an expression since it does not evaluate to a value. It merely performs some branching in the code. Similarly, loops and function definitions are not expressions (we'll learn more about these in later sections).\n",
    "\n",
    "As a rule of thumb, an expression is anything that can appear on the right side of the assignment operator `=`. You can use this as a test for checking whether something is an expression or not. You'll get a syntax error if you try to assign something that is not an expression."
   ]
  },
  {
   "cell_type": "code",
   "execution_count": 51,
   "metadata": {},
   "outputs": [
    {
     "ename": "SyntaxError",
     "evalue": "invalid syntax (<ipython-input-51-f24978c5423e>, line 2)",
     "output_type": "error",
     "traceback": [
      "\u001b[1;36m  File \u001b[1;32m\"<ipython-input-51-f24978c5423e>\"\u001b[1;36m, line \u001b[1;32m2\u001b[0m\n\u001b[1;33m    result = if a_number % 2 == 0:\u001b[0m\n\u001b[1;37m             ^\u001b[0m\n\u001b[1;31mSyntaxError\u001b[0m\u001b[1;31m:\u001b[0m invalid syntax\n"
     ]
    }
   ],
   "source": [
    "# if statement\n",
    "result = if a_number % 2 == 0: \n",
    "    'even'\n",
    "else:\n",
    "    'odd'"
   ]
  },
  {
   "cell_type": "code",
   "execution_count": 52,
   "metadata": {},
   "outputs": [],
   "source": [
    "# if expression\n",
    "result = 'even' if a_number % 2 == 0 else 'odd'"
   ]
  },
  {
   "cell_type": "markdown",
   "metadata": {},
   "source": [
    "### The `pass` statement\n",
    "\n",
    "# #`if` statements cannot be empty, there must be at least one statement in every `if` and `elif` block. You can use the `pass` statement to do nothing and avoid getting an error."
   ]
  },
  {
   "cell_type": "code",
   "execution_count": 53,
   "metadata": {},
   "outputs": [],
   "source": [
    "a_number = 9"
   ]
  },
  {
   "cell_type": "code",
   "execution_count": 54,
   "metadata": {},
   "outputs": [
    {
     "ename": "IndentationError",
     "evalue": "expected an indented block (<ipython-input-54-77268dd66617>, line 2)",
     "output_type": "error",
     "traceback": [
      "\u001b[1;36m  File \u001b[1;32m\"<ipython-input-54-77268dd66617>\"\u001b[1;36m, line \u001b[1;32m2\u001b[0m\n\u001b[1;33m    elif a_number % 3 == 0:\u001b[0m\n\u001b[1;37m    ^\u001b[0m\n\u001b[1;31mIndentationError\u001b[0m\u001b[1;31m:\u001b[0m expected an indented block\n"
     ]
    }
   ],
   "source": [
    "if a_number % 2 == 0:\n",
    "elif a_number % 3 == 0:\n",
    "    print('{} is divisible by 3 but not divisible by 2')"
   ]
  },
  {
   "cell_type": "code",
   "execution_count": 56,
   "metadata": {},
   "outputs": [
    {
     "name": "stdout",
     "output_type": "stream",
     "text": [
      "9 is divisible by 3 but not divisible by 2\n"
     ]
    }
   ],
   "source": [
    "if a_number % 2 == 0:\n",
    "    pass\n",
    "elif a_number % 3 == 0:\n",
    "    print('{} is divisible by 3 but not divisible by 2'.format(a_number))"
   ]
  },
  {
   "cell_type": "markdown",
   "metadata": {},
   "source": [
    "### Save and upload your notebook\n",
    "\n",
    "Whether you're running this Jupyter notebook online or on your computer, it's essential to save your work from time to time. You can continue working on a saved notebook later or share it with friends and colleagues to let them execute your code. [Jovian](https://www.jovian.ai) offers an easy way of saving and sharing your Jupyter notebooks online."
   ]
  },
  {
   "cell_type": "code",
   "execution_count": 57,
   "metadata": {},
   "outputs": [],
   "source": [
    "!pip install jovian --upgrade --quiet"
   ]
  },
  {
   "cell_type": "code",
   "execution_count": 58,
   "metadata": {},
   "outputs": [],
   "source": [
    "import jovian"
   ]
  },
  {
   "cell_type": "code",
   "execution_count": 59,
   "metadata": {},
   "outputs": [
    {
     "data": {
      "application/javascript": [
       "window.require && require([\"base/js/namespace\"],function(Jupyter){Jupyter.notebook.save_checkpoint()})"
      ],
      "text/plain": [
       "<IPython.core.display.Javascript object>"
      ]
     },
     "metadata": {},
     "output_type": "display_data"
    },
    {
     "name": "stdout",
     "output_type": "stream",
     "text": [
      "[jovian] Creating a new project \"mvbosamiya20/python-branching-and-loops\"\u001b[0m\n",
      "[jovian] Committed successfully! https://jovian.ai/mvbosamiya20/python-branching-and-loops\u001b[0m\n"
     ]
    },
    {
     "data": {
      "text/plain": [
       "'https://jovian.ai/mvbosamiya20/python-branching-and-loops'"
      ]
     },
     "execution_count": 59,
     "metadata": {},
     "output_type": "execute_result"
    }
   ],
   "source": [
    "jovian.commit(project='python-branching-and-loops')"
   ]
  },
  {
   "cell_type": "markdown",
   "metadata": {},
   "source": [
    "The first time you run `jovian.commit`, you may be asked to provide an API Key to securely upload the notebook to your Jovian account. You can get the API key from your [Jovian profile page](https://jovian.ai) after logging in / signing up.\n",
    "\n",
    "\n",
    "`jovian.commit` uploads the notebook to your Jovian account, captures the Python environment, and creates a shareable link for your notebook, as shown above. You can use this link to share your work and let anyone (including you) run your notebooks and reproduce your work."
   ]
  },
  {
   "cell_type": "markdown",
   "metadata": {},
   "source": [
    "## Iteration with `while` loops\n",
    "\n",
    "Another powerful feature of programming languages, closely related to branching, is running one or more statements multiple times. This feature is often referred to as *iteration* on *looping*, and there are two ways to do this in Python: using `while` loops and `for` loops. \n",
    "\n",
    "`while` loops have the following syntax:\n",
    "\n",
    "```\n",
    "while condition:\n",
    "    statement(s)\n",
    "```\n",
    "\n",
    "Statements in the code block under `while` are executed repeatedly as long as the `condition` evaluates to `True`. Generally, one of the statements under `while` makes some change to a variable that causes the condition to evaluate to `False` after a certain number of iterations.\n",
    "\n",
    "Let's try to calculate the factorial of `100` using a `while` loop. The factorial of a number `n` is the product (multiplication) of all the numbers from `1` to `n`, i.e., `1*2*3*...*(n-2)*(n-1)*n`."
   ]
  },
  {
   "cell_type": "code",
   "execution_count": 67,
   "metadata": {},
   "outputs": [
    {
     "name": "stdout",
     "output_type": "stream",
     "text": [
      "Enter number which you want to find factorial of: 10000\n",
      "Factorial of 10000 is 28462596809170545189064132121198688901480514017027992307941799942744113400037644437729907867577847758158840621423175288300423399401535187390524211613827161748198241998275924182892597878981242531205946599625986706560161572036032397926328736717055741975962099479720346153698119897092611277500484198845410475544642442136573303076703628825803548967461117097369578603670191071512730587281041158640561281165385325968425825995584688146430425589836649317059251717204276597407446133400054194052462303436869154059404066227828248371512038322178644627183822923899638992827221879702459387693803094627332292570555459690027875282242544348021127559019169425429028916907219097083690539873747452483372899521802363282741217040268086769210451555840567172555372015852132829034279989818449313610640381489304499621599999359670892980190336998484404665419236258424947163178961192041233108268651071354516845540936033009607210346944377982349430780626069422302681885227592057029230843126188497606560742586279448827155956831533440534425446648416894580425709461673613187605234982286326452921529423479870603344290737158688499178932580691483168854251956006172372636323974420786924642956012306288720122652952964091508301336630982733806353972901506581822574295475894399765113865541208125788683704239208764484761569001264889271590706306409661628038784044485191643790807186112370622133415415065991843875961023926713276546986163657706626438638029848051952769536195259240930908614471907390768585755934786981720734372093104825475628567777694081564074962275254993384112809289637516990219870492405617531786346939798024619737079041868329931016554150742308393176878366923694849025999607729684293977427536263119825416681531891763234839190821000147178932184227805135181734921901146246875769835373441456013122615221391178759688367364087207937002992038279198038702372078039140312368997608152840306051116709484722224870389199993442071395836983063962232079115624044250808919914319837120445598344047556759489212101498152454543594285414390843564419984224855478532163624030098442855331829253154206551237079705816393460296247697010388742206441536626733715428700789122749340684336442889847100840641600093623935261248037975293343928764398316390312776450722479267851700826669598389526150759007349215197592659192708873202594066382118801988854748266048342256457705743973122259700671936061763513579529821794290797705327283267501488024443528681645026165662837546519006171873442260438919298506071515390031106684727360135816706437861756757439184376479658136100599638689552334648781746143243573224864326798481981458432703035895508420534788493364582482592033288089025782388233265770205248970937047210214248413342465268206806732314214483854074182139621846870108359582946965235632764870475718351616879235068366271743711915723361143070121120767608697851559721846485985918643641716850899625516820910793570231118518174775010804622585521314764897490660752877082897667514951009682329689732000622392888056658036140311285465929084078033974900664953205873164948093883816198658850827382468034897864757116679890423568018303504133875731972630897909435710687797301633918087868474943633533893373586906405848417828065196275826434429258058422212947649402948622670761832988229004072390403733168207417413251656688443079339447019208905620788387585342512820957359307018197708340163817638278562539516825426644614941044711579533262372815468794080423718587423026200264221822694188626212107297776657401018376182280136857586442185863011539843712299107010094061929413223202773193959467006713695377097897778118288242442920864816134179562017471831609687661043140497958198236445807368209404022211181530051433387076607063149616107771117448059552764348333385744040212757031851527298377435921878558552795591028664457917362007221858143309977294778923720717942857756271300923982397921957581197264742642878266682353915687857271620146192244266266708400765665625807109474398740110772811669918806268726626565583345665007890309050656074633078027158530817691223772813510584527326591626219647620571434880215630815259005343721141000303039242866457207328473481712034168186328968865048287367933398443971236735084527340196309427697652684170174990756947982757825835229994315633322107439131550124459005324702680312912392297979030417587823398622373535054642646913502503951009239286585108682088070662734733200354995720397086488066040929854607006339409885836349865466136727880748764700702458790118046518296111277090609016152022111461543158317669957060974618085359390400067892878548827850938637353703904049412684618991272871562655001270833039950257879931705431882752659225814948950746639976007316927310831735883056612614782997663188070063044632429112260691931278881566221591523270457695867512821990938942686601963904489718918597472925310322480210543841044325828472830584297804162405108110326914001900568784396341502696521048920272140232160234898588827371428695339681755106287470907473718188014223487248498558198439094651708364368994306189650243288353279667190184527620551085707626204244509623323204744707831190434499351442625501701771017379551124746159471731862701565571266295855125077711738338208419705893367323724453280456537178514960308802580284067847809414641838659226652806867978843250660537943046250287105104929347267471267499892634627358167146935060495110340755404658170393481046758485625967767959768299409334026387269378365320912287718077451152622642548771835461108886360843272806227776643097283879056728618036048633464893371439415250259459652501520959536157977135595794965729775650902694428088479761276664847003619648906043761934694270444070215317943583831051404915462608728486678750541674146731648999356381312866931427616863537305634586626957894568275065810235950814888778955073939365341937365700848318504475682215444067599203138077073539978036339267334549549296668759922530893898086430606532961793164029612492673080638031873912596151131890359351266480818568366770286537742390746582390910955517179770580797789289752490230737801753142680363914244720257728891784950078117889336629750436804214668197824272980697579391742229456683185815676816288797870624531246651727622758295493421483658868919299587402095696000243560305289829866386892076992834030549710266514322306125231915131843876903823706205399206933943716880466429711476743564486375026847698148853105354063328845062012173302630676481322931561043551941761050712449024873277273112091945865137493190965162497691657553812198566432207978666300398938660238607357858114394715872800893374165033792965832618436073133327526023605115524227228447251463863269369763762510196714380125691227784428426999440829152215904694437282498658085205186576292992775508833128672638418713277780874446643875352644733562441139447628780974650683952982108174967958836452273344694873793471790710064978236466016680572034297929207446822322848665839522211446859572858403863377278030227591530497865873919513650246274195899088374387331594287372029770620207120213038572175933211162413330422773742416353553587977065309647685886077301432778290328894795818404378858567772932094476778669357537460048142376741194182671636870481056911156215614357516290527351224350080604653668917458196549482608612260750293062761478813268955280736149022525819682815051033318132129659664958159030421238775645990973296728066683849166257949747922905361845563741034791430771561168650484292490281102992529678735298767829269040788778480262479222750735948405817439086251877946890045942060168605142772244486272469911146200149880662723538837809380628544384763053235070132028029488392008132135446450056134987017834271106158177289819290656498688081045562233703067254251277277330283498433595772575956224703707793387146593033088629699440318332665797514676502717346298883777397848218700718026741265997158728035440478432478674907127921672898523588486943546692255101337606377915164597254257116968477339951158998349081888281263984400505546210066988792614558214565319696909827253934515760408613476258778165867294410775358824162315779082538054746933540582469717674324523451498483027170396543887737637358191736582454273347490424262946011299881916563713847111849156915054768140411749801454265712394204425441028075806001388198650613759288539038922644322947990286482840099598675963580999112695367601527173086852756572147583507122298296529564917835071750835741362282545055620270969417476799259229774888627411314587676147531456895328093117052696486410187407673296986649236437382565475022816471926815559883196629848307776666840622314315884384910519058281816740764463033300119710293036455866594651869074475250837841987622990415911793682799760654186088721626654886492344391030923256910633775969739051781122764668486791736049404393703339351900609387268397299246478483727274770977466693599784857120156789000241947269220974984127323147401549980920381459821416481176357147801554231599667838534854486406936410556913531335231184053581348940938191821898694825383960989942822027599339635206217705343572073396250574216769465101608495601439303244304271576099527308684609204422226103154229984444802110098161333824827375218998738205315164927134498105950159974800571591912202154487748750103473246190633941303030892399411985006225902184164409988173214324422108554248620896250260604398180189026317781146617454999771440665232863846363847001655618153861098188111181734191305505024860345856755585637511729774299329074944236579668332700918367338977347901759248885660379952771540569083017311723894140326159612292912225191095948743805673381278538616491842786938417556898047100859868372033615175158097022566275200160956192229925401759878522038545913771783976389811198485803291048751666921195104514896677761598249468727420663437593207852618922687285527671324883267794152912839165407968344190239094803676688707838011367042753971396201424784935196735301444404037823526674437556740883025225745273806209980451233188102729012042997989005423126217968135237758041162511459175993279134176507292826762236897291960528289675223521425234217247841869317397460411877634604625637135309801590617736758715336803958559054827361876112151384673432884325090045645358186681905108731791346215730339540580987172013844377099279532797675531099381365840403556795731894141976511436325526270639743146526348120032720096755667701926242585057770617893798231096986788448546659527327061670308918277206432551919393673591346037757083193180845929565158875244597601729455720505595085929175506510115665075521635142318153548176884196032085050871496270494017684183980582594038182593986461260275954247433376226256287153916069025098985070798660621732200163593938611475394561406635675718526617031471453516753007499213865207768523824884600623735896608054951652406480547295869918694358811197833680141488078321213457152360124065922208508912956907835370576734671667863780908811283450395784812212101117250718383359083886187574661201317298217131072944737656265172310694884425498369514147383892477742320940207831200807235326288053906266018186050424938788677872495503255424284226596271050692646071767467502337805671893450110737377034119346113374033865364675136733661394731550211457104671161445253324850197901083431641989998414045044901130163759520675715567509485243580269104077637210998671624254795385312852889930956570729218673523216666097874989635362610529821472569482799996220825775840988458484250391189447608729685184983976367918242266571167166580157914500811657192200233759765317495922397884982814705506190689275625210462185661305800255607974609726715033327032310025274640428755556546883765838802543227403507431684278620637697054791726484378174446361520570933228587284315690756255569305558818822603590006739339952504379887470935079276181116276309771257983975996526612120317495882059435754883862282508401408885720583992400971219212548074097752974278775912566026443482713647231849125180866278708626116699989634812405803684794587364820124653663228889011636572270887757736152003450102268890189101673572058661410011723664762657835396364297819011647056170279631922332294228739309233330748258937626198997596530084135383241125899639629445129082802023225498936627506499530838925632246794695960669046906686292645006219740121782899872979704859021775060092893328957272392019589994471945147360850770400725717439318148461909406269545285030526341000565022226152309364882887122046454267700577148994335147162504252365173710266068647253458120186683273953682547456536553597546685788700056988360286686450740256993087483441094086086303707908295240576731684941855810482475304758923392801571302824106234999945932390521409856559565661346003396150515164758852742214732517999548977992849522746029855666700811871200856155016457400484170210303038996339253337466556817824410737409336919294104632307731994759826307383499600770372410446285414648704116273895649834555162165685114551383822047005483996671706246467566101291382048909121117229386244253158913066987462045587244806052829378148302622164542280421757760762365459828223070815503469404938317755053305094698999476119419231280721807216964378433313606760676965187138394338772485493689061845700572043696666465080734495814495966306246698679832872586300064215220210171813917325275173672262621454945468506006334692713838311715849753092643252486960220059099802663765386225463265168414963306369548086551101256757717890616694758344043486218485369591602172030456183497524162039926441331651884768606830642004858557924473340290142588876403712518642229016333691585063273727199596362912783344786218887871009533753551054688980236378263714926913289564339440899470121452134572117715657591451734895195016800621353927175419843876163543479806920886666227099512371706241924914282576453125769939735341673046864585181979668232015693792684926999983992413571941496882273704022820805171808003400480615261792013978945186295290558440703738300533552421153903385185829366779190610116306233673144419202893857201855569596330833615450290424822309297087124788002017383072060482680156675397593789931793515799958929562156307338416294599900276730832827716595064217966523190439250543226753731811755315476780739470338931185107297724318378972674957455778183345495942317353558291046967315391275975687281861691161083156337232639968881490543943261197182274996791176628553401860198315809629981791107208804992292016062059067271273599461871634945774995805337947187105456452579396024210259136415528398395201773012712514892051061708228008339985665786646920737114269682301770416324829479409558694699089379165191006305185352102345189798127619143061864362703081977124992751056732909481202057747100687703379708934229207183903744167503493818836342229284946790660285674293251642569044363473087656797056595677285291081242733154406580199802711579126254172797452862574865921933293805915239524735518887119860391319654287576290190503964083560246277534314409155642181729459941596061979622633242715863425977947348682074802021538734729707999753332987785531053820162169791880380753006334350766147737135939362651905222242528141084747045295688647757913502160922040348449149950778743107189655725492651282693489515795075486172341394610365176616750329948642244039659511882264981315925080185126386635308622223491094629059317829408195640484702456538305432056506924422671863255307640761872086780391711356363501269525091291020496042823232628996502758951052844368177415730941874894428065427561430975828127698124936993313028946670560414084308942231140912722238148470364341019630413630736771060038159590829746410114421358321042574358350220737173219745089035573187350445827238770728271406162997919629357224104477155051652535867544109395079218369015261138440382680054150924346511711436477899444553993653667727589565713987505542990824585609510036934663100673714708029927656933435500927189854050109917474979991554392031908961967615444686048175400695689471463928245383807010444181045506171305160584355817521032338465829201071030061124283407458607006060194830551364867021020364708470807422704371893706965688795617928713045224516842027402021966415605280335061293558739079393524404092584248380607177444609964035221891022961909032569042381374492494906892314330884224399631396391545854065286326468807581148748371408284176455226386313520264894016262494802388568231599102952620337126449279901938211134518446387544516391239377974190576649911764237637722282802318465738050121277809680315691477264910257503508758792248110223544524410872448565700755187132146592093548504552829170749596775404450779494836371756062326925757412813110241910373338080434325310884694831555729402265394972913817581338619457057799561808755951413644907613109617155928376585840036489374076822257523935988731081689667688287403837192827690431514106997678303819085690713091931340846019511147482766350724676534922040058626677632935516631939622498979912708004465982264899125226813124300528104995058595676527123591494442612554437618645029202881358582871789577224116380815161831603129728796987480139828621645629196153096358337313619724773332353025466571196902611237380629030242904275794549030022660847446513161741691916851746464945459696005330885252792083472495235473110674109099223541055506299687642153951249355986311346661725116890785633328935569150449485189113488301876365100638502565916433021928565596263914382895068324838727165616560111531517055222955765944972454788815532316417453267167978861141165355597588331979638070962998880767303616940317736448140427867784251232449974693421348217179595190698204602997172001174857303889719205597414742453011135869766256607770970225633261701108463784795555258504578058879440756064974127974530918418405207558526462208821483646754652237609210787539190454684852349759986044943322828073120679922402477507514105890774627334319091255451352225329275913842047384603056163154236552935312278389759446515787337343463172280001031380425481404022090580405056003860937403435068863081434683848900708938565050027569059678069404698435184535134141031615133683043714786642925389717165978629010728400758939700388317742648163725113277369926827709465342583596111881955092462062153978121197244762623771534452048069819082524943963962251113831177428978535825590832490480497516047104257569753442551515779815600370847230603484753977513688390404316017486248871339311818523029425425676202485688393970836748788453789172574145155917919035398535077200900594979352939459631213445503368260690059828717723533375221941915547303742062343262892968397015058892191112049249864792053410872349115430987182160055762209075732304626106597744947658346313025598636315029959672352476943975462530206788193304372284800209305354155640664838569378144603138697563459200233462606995955513484754147891180830329816421587452922952678937925647752029052675349356673744293182673374571642465407748267901046778759085408130531447176455869894169668940436489952465247443988349583871206296485413357553813419500498743813369062703973874586604296871595820715766599826607317005624465541763024501349159567288942619746144496908671655859782729228702723774835097362901019130417812735773037781804081589136005207315806941034305003184349342360269244733060013861119781774472669608928321052543116496033420102032603863672532889648333405862204843616575362001468405476649666473566979572953394809138263703324220930839366954980688240491622063147911494642042500022450413425558561937442905257252436320054487441524307305215070491020434076572476865095751174125413729531644521765577235348601821566833352520532830000108344008762266843817023235605645158256954177359197813649975559601912567744942717986360045847405209290089397315276024304951653864431388147876977541478757432610159879709758855625806766197973098472460769484821127948427976536607055051639104415022554420329721292033009353356687294595912327965886376486894188433640548494009574965791657687213927330153555097865114767947399690623184878377515462613823651665956337209345708208301840482797005728071432925727577436229587047361641609731817241594204270366066404089740245521530725227388637241859646455223673260411164598464020010216920823315155388821071527191267876531795071908204525100447821291318544054814494151867114207103693891129125012750853466337717749376016543454696390042711129829255096830420665725364279472200020835313883708781649957189717629338794854271276882652003766325924561614868744897471519366219275665852462114457407010675380427564184440834805203838265052601698584060084788422421887856927897751810442805474427229455167420335686460609977973124950433321425205053675790499520783597650415379001132579536040655172654879022173595444151139429231648950663177813039057462082449171921311864129633704661406456900178942356738775523130952785912774533241855442484484493664210731348819180640189222317302156645813473186449997905781662091469870718039388885781280740226363602294114354869871402143572055947730892808653678920201935102605361567924483276749476117858316071865710310842200560259545115191391309119544447844361032741876102338843391687589233423790859841968266525610628751237572318491474951945985728897934981791761822652480408237128109790772638864286067917082288575852703470839714561619926247844794692794996845945632382702297364173503430783194115698247820013290851202878474805860188960045901745974055630732714487679085288867978809970695240681006625611440014983413580889737246844064948857074167687916413224205373654067330186392497910915474785959163865597507090581175924899502214799250945635582514315814464060134283490422798357939659258985200763845646681640732681928346007767285876284900068874564639274964415904034033672337814491597032941787294155061054129515400159393851663929325677429557549480046658273579653990940233543644649376827272541873627547532976808190325336141086433084237771738995221536763095302045902438694632702895293994483013577589081214884558493819874505920914067209522469096263076941753340983698859363700314973728977996360018626500174929290087931189997822963712306642297996163582572600112288983647651418045975770042120833949364659647336464289044499325396227091907373705772051322815957863227591912786054297862953188615559804728160710864132803585400160055575686855791785977899197902656592621283007225351401525973569300729015392211116868504740402172174442051738000251361000494534119324331668344243125963098812396962202358858395587831685194833126653577353244379935683215269177042249034574534858913812582681366908929476809052635560638119661306063936938411817713545929884317232912236262458868394202889981693561169865429884776513118227662526739978808816010470651542335015671353744817086234314662531190291040152262927104099285072418843329007277794754111637552176563589316326636049381218401837512818884771168975479483767664084842753623074019542183217985496260666590347925816342392670947839907062923166535037285019751324813803837070894638925470887039085723581006130628646664710006104352115778926613432214655311411882596942926284522109026688414975763341554921135581254616558078273470115814006008345762133130389987843270653719956709570847385786092649188858378739239165554263577301292243641604062551736892335636568854365851646207821875741724364525814143487632761341752707376754922276287782264765154315341585713773522730335403376364204258034257264749686217823666951353410677378421131371131987373222891805275062812277716412494412401207125954319991746574745892582613712825555535080404143944557295994554635608487251339462936358940832098964801619583130429720964794128539388996265368928263807677168759588502216464582430940165009688797366157733560316836710386895228270941509545222744002735499253670214715994056544813842186380128799900820933576320736369405991424263718294000613741900579513096298545330748197802568301089672873802234820488862973130369689882640657904781562389778485365025691064231795736025330908763271784911189748432246868086340383964176127605788646574472284824932687443062551220506955168464669477183681911432873544815836350548146411099960143390595799766290646881295025039150923633011076070632863317393378149693380247580035052789782755750928604039420506342939327064636161031822879248152679306862749237275631852225654266008556849497720285909150930495425967473648331437236349555448901598668408362176913559656039519670425368863482369587129462524759031776813184977588276576740482558136502103649585505703259219957675334264223783723586058509403583977103476670644788640831109650302565215607464019652716999732373465237173456595514559493098166644006211599349133180135150528651842178828026343325934755850761168697709125580056185683710540856081249519403148064618719402577663285267019698387567561524696759028106864896869293315954352097687527137201616160931174250199709289684940034696242325688410665113304377412256176258658941236728171145526423894512631717834790276921171452887352955019336759218908006048633737786728180610254782570436788449503518925787499836694785908612975543084122677060954347612133717433156783790162012337237023338316414706428592185977610158232721997915062871868186750981665537745013020880333904353639770263363809098526494532628146558065546504823486429495390613257400496912888340518222933644476683855037967975809619983575807027759535968788226194659612223044549275600274955168583542582295336042834426318478068825395450746691877897765406038432512843812811316856204608617289408229658626174420766920297427930088129519854678713548623236610413216581279267151545961594352593456757445992307889205519540082316409719591250025455237503106735639748835542480449681383030671851931491335789202123605308199952020584503423499932150962634977812456658304680581824563524814625849331926195406884818446445248429486063016169476663242625231476322371109695369483824482316410396224507675405614287468267835723704895606990652792688455844512046654853378534026646645042339638488257719874953611300494215593735545211926186721478265416885604094928290056616883807637656690510740892510549165222968878676968631652514917701499900066637344546120262780701925698706225540928945194718778004306130021828287425867048748480826948573444778244078734102710824870269523830804910960482013901294024631244800159336670212658317677879752965963472576894326540435889267293950687860830626266263287392087327302547910099932113388977807814336728791448768373686467748528777737403547472871644217767820712964506270880978637928144071192505141148004907055608097229299792441471062852247029870699869227676341773513258602908903875707454368077876422385333700692089616351009233587303986543906071880952557553380364725895007306772122528078179471056481171378557451057691044322925429024149433588396093679321361696954251299731031032804436954501929843820842383121265825740594509426942777307124802176915781835720087170538773256017987133005505911377823841791640280841409623820847637393013930778428554545222367559824666250608754284876104145661362227642405914304455580856318180935230407793891614902116292400515074914068443203230365609954878620999194306564455332547135557365318516011700321550690787716752062881527885897149410320986984083048966524351030502444679931779147659103428949129054120361601695671222140806369405940304552186212879933092856231022418446365289097444640151986623183881962444822590783585914043686193019041458962693878907034982169868696934448086213990534591792826654304798207219634134755646525483143771156678459077797196510772468000293581546267646310224279007313631352522067062951125935874473134186492497282784796644585448962932905262058065248588707020879389134476083344653170939242408249328008915731319541348311820927752486880548733943315867562666122179355051190609992911379445634995627391898459029021713155706096267881673302940198464237390445098028030948975981259252055850973537436556825780313681902007151675693827281818824587541710721180806556448039122504537089422695358382192535075692834095639859265599740391316709290043996275976830375217503360879028295673068862263077729733533853682668734519035709709687322323738300494090123239274318759046526327095178406267264828893646896593219169521106361729757074376148061601331104911692271318609404145014842866423634716982892418180484365230538864559809839273836490685480823014267803143937440431807822678779494006206489151248952516543005634448375046751754207043313372486870633237561645232360481932024377596890914783372179553676992603235715185513391098402739063753280702313301755754269396202629423910945323537910125948964941812563672992967084250667599803456273455598559628512281414582556024841783305645240508450065988755987518601335860624932784487772006842296591945516539562982960591610046578907214842054861830418175604559815168088031783080261445994444677918012432146400983610678683412974872596729258786806223080115822026289014364459002301645823666709265571264559925790622304745235625575111770791512002789380975775468546121017307522799241407026308137792971909461413145802081087738121624539858769697371425881836152605069380926917712087321915005831977113322793572385071940612761291872572099404930250277748156614021327434743881966413330052634229082906400927944924808556131183440161804801357032507836323938921567643159620442612809700944107776130638909071294456394056601559246025454204771186140420155233371270501377121034570009578009389265329385720478576508777149663403003562380595757191609382171312222810465858388943507176431939973012661591423837170284400120399485880996231859472474858776584355077006934099220340378772192728370301380838144394114984971730766162961342059105014814283949700695951676939041557902856356911055547312684571497449635320554677940775184056667637222969090346128706829887104278761090090999160443821794511763620835379716161833124364431267855435550800507986124664397724135502128238026726719914989727248512981287283697489276420792868666970177259794407858155909332508554131299946581118527691652464790819119384233275897699573012098103009171001695718791616942270079528915191912521053891838538959315167400505723817401030621004380243011187977704252328073236575129609372456053680037516596164236147709330391224409752871732067976128120428026739256557305675931512645750047875756531854825821411574030473147492511910835615765732002546109686701890307648531373832912682481741181359032826625082549313211431478953352317043989053928534946642886074268371824902498092479487226633686823799580875637040808655649321905489637785549531167397935270799470452399153297534358690514105864096534514182896474439367182852711843560799285895978176543950113088848419163516673213692860830956744502801800373716458009168082972708715609185038654053436660045504985624687376022557041595800250174095361839287643458003670864954057941720085136357127163768323493134230703821274484501440529541695374381945459456533165140990993722722801019654652726227831512103467686166826131471843610025517863247950150022953695466317739589344131481485834694374523981159954666071205997794363440185078360899108948073419633939259318973940943110042116729120199722626609871927014024105805515315100109804996044147291039451030312664114726736839973315035036742741546992633165270432940675237449075056739508929674779115800864399992564817208847429250821546279856079127768611946086210349405535850134472190244543824521089284409498132717010673966471114931896789977661595488186193176900175027901783824624387873831483279500879026433992577026588005849778984624295660321276945810824348129690840972550671054732471317254997191901039553305847040728081693158626093886019147689944137673621432083607375131574376316754666479186753896571555100850626810005119827486807780592667765654100834778571024250133253391587384761024129794736751001163498977803745930025457609870671092153597115178252014281216647543034075128600240297038428615984289816602143429849088917359682192284469123035904329877231843309914187264674607558318725713138832356015809009594182530207799397648462597901883341793830920965841463574411985878296475850943053008148341821747826603773762252997703468752903517310792083220038080809212164346586817989810504274375385786789186350517717501606531826406928883250135919517178537687865881752366421534010961295763074762648070312757365787762352859057153932484576503944390496668087711899192498933896524852395536795827530614167131757915756386606004839994179548705868209201195154952031294562451315422506574858629161606523796643010172693950282294667489681746821163996794950294284013099235901278250437428192557634533217576162292751110598368271567229778620053722932314082887058749444060116236521627717558503013451471452765841864277071769968435499620257547431811994883385806759692359580622165832464092095350648357935817742903018315351290014321495518177456908388719320697769695657771754499149911431368950836160692539606469893374870942933219185601299108564470256257163505508620689240297589684714283678684735455533583477652536156578189996983068654671736445996343136468195427420490472433064675001442697508322369013083895492637066778406531328664886080129513771720847581157719491012345141774941482773580041432667332379617716965698582785832300505265883502247868050648201444570593197343382923860072601696510903258980909912837652275381493529845099414966933862815568031306981064525192703818515872648691762563239441425216118427769145067718411735714396681005615483952443154944864238384298900399826113322468963346522104692545137969276009719645338955332105584245640187448611050959111766828942711640054010503770420346052521318228045892998637903572350665108782350043349942391285236308896510989246641056331584171142885304143772286629832318970869030400301325951476774237516158840915838059151673504519131178193943428482922272304061422582078027829148070426761629302539228321084917759984200595105312164731818409493139800444072847325902609169730998153853939031280878823902948001579008000000000000000000000000000000000000000000000000000000000000000000000000000000000000000000000000000000000000000000000000000000000000000000000000000000000000000000000000000000000000000000000000000000000000000000000000000000000000000000000000000000000000000000000000000000000000000000000000000000000000000000000000000000000000000000000000000000000000000000000000000000000000000000000000000000000000000000000000000000000000000000000000000000000000000000000000000000000000000000000000000000000000000000000000000000000000000000000000000000000000000000000000000000000000000000000000000000000000000000000000000000000000000000000000000000000000000000000000000000000000000000000000000000000000000000000000000000000000000000000000000000000000000000000000000000000000000000000000000000000000000000000000000000000000000000000000000000000000000000000000000000000000000000000000000000000000000000000000000000000000000000000000000000000000000000000000000000000000000000000000000000000000000000000000000000000000000000000000000000000000000000000000000000000000000000000000000000000000000000000000000000000000000000000000000000000000000000000000000000000000000000000000000000000000000000000000000000000000000000000000000000000000000000000000000000000000000000000000000000000000000000000000000000000000000000000000000000000000000000000000000000000000000000000000000000000000000000000000000000000000000000000000000000000000000000000000000000000000000000000000000000000000000000000000000000000000000000000000000000000000000000000000000000000000000000000000000000000000000000000000000000000000000000000000000000000000000000000000000000000000000000000000000000000000000000000000000000000000000000000000000000000000000000000000000000000000000000000000000000000000000000000000000000000000000000000000000000000000000000000000000000000000000000000000000000000000000000000000000000000000000000000000000000000000000000000000000000000000000000000000000000000000000000000000000000000000000000000000000000000000000000000000000000000000000000000000000000000000000000000000000000000000000000000000000000000000000000000000000000000000000000000000000000000000000000000000000000000000000000000000000000000000000000000000000000000000000000000000000000000000000000000000000000000000000000000000000000000000000000000000000000000000000000000000000000000000000000000000000000000000000000000000000000000000000000000000000000000000000000000000000000000000000000000000000000000000000000000000000000000000000000000000000000000000000000000000000\n"
     ]
    }
   ],
   "source": [
    "n = int(input(\"Enter number which you want to find factorial of: \"))\n",
    "i = 1\n",
    "fact = 1\n",
    "while i<=n:\n",
    "    fact*=i\n",
    "    i+=1\n",
    "print(\"Factorial of {} is\".format(n),fact)"
   ]
  },
  {
   "cell_type": "markdown",
   "metadata": {},
   "source": [
    "Here's how the above code works:\n",
    "\n",
    "* We initialize two variables, `result` and, `i`. `result` will contain the final outcome. And `i` is used to keep track of the next number to be multiplied with `result`. Both are initialized to 1 (can you explain why?)\n",
    "\n",
    "* The condition `i <= 100` holds true (since `i` is initially `1`), so the `while` block is executed.\n",
    "\n",
    "* The `result` is updated to `result * i`, `i` is increased by `1` and it now has the value `2`.\n",
    "\n",
    "* At this point, the condition `i <= 100` is evaluated again. Since it continues to hold true, `result` is again updated to `result * i`, and `i` is increased to `3`.\n",
    "\n",
    "* This process is repeated till the condition becomes false, which happens when `i` holds the value `101`. Once the condition evaluates to `False`, the execution of the loop ends, and the `print` statement below it is executed. \n",
    "\n",
    "Can you see why `result` contains the value of the factorial of 100 at the end? If not, try adding `print` statements inside the `while` block to print `result` and `i` in each iteration.\n",
    "\n",
    "\n",
    "> Iteration is a powerful technique because it gives computers a massive advantage over human beings in performing thousands or even millions of repetitive operations really fast. With just 4-5 lines of code, we were able to multiply 100 numbers almost instantly. The same code can be used to multiply a thousand numbers (just change the condition to `i <= 1000`) in a few seconds.\n",
    "\n",
    "You can check how long a cell takes to execute by adding the *magic* command `%%time` at the top of a cell. Try checking how long it takes to compute the factorial of `100`, `1000`, `10000`, `100000`, etc. "
   ]
  },
  {
   "cell_type": "code",
   "execution_count": 70,
   "metadata": {},
   "outputs": [
    {
     "name": "stdout",
     "output_type": "stream",
     "text": [
      "Enter number which you want to find factorial of: 10101\n",
      "Factorial of 10101 is 4755832575666195883411180790863773160087436997378048385318538799367487627290446098558782669350598028195437448294503835951036156529278362060748976043870402519436943432235639236176486921897814503881166382944628518929156489751213447106366848150671220946020755462260804653243174335621145369267378299903470924349627945866374522812628700283084619696378571909555009191931722762852393464521781714770933187631935234824822489218258606759615115540560245497760633643493203218891184196633834716840030671835680149777413665444996709130811166185279851754279418281100402737379378528259552656320778182982719582452244907895790832703815158150329763881477336902935079220371709504075963896700302389844554331014488902612867915355506536988162876105300675847697102656368382065988461629122671524600939902147343291774902210443207554420011150148143412825265185862775570698214909948426933027546414543527310149719921988100970048535923005682103942796741652611192186883165425212324033588681327606396686410243740605875651931075108385698954958454316515056258167855348246210843710910015316437832123397424620791469700984013333944108258030310653657409934128814196706833378415387135401893592606385623767831720600628640217757755890327379183912686784491145062283525816882829542082995554756565142401801077334496107172047647612554530308526244227924831783379502271159799107263221090354679681659897516156622190977464338094841759313076404156198861481427931886540693121888308282035817581781789729483364090127882708087580686195640100626441750924269847473696088979819481120348680873307679832295068899503952413554952669404954417406646669907712629150268549956398466857434517722976348030531841474482556805729720496125335495418149314235256242257984469419186013185781508222502958228832732353208472899596777156826550667942092155672492670276191508532864774025106027677100600679944894211528826268198980342625056742377046030864843511836484681348824063487875451852561064095417590673958664972238610052434419803312827125979174086237492063580610787467390954349091614990510011326890510909522225849797934831515232550339733840146384155055204842133666227618638635985146783192629057165530700412968452054991039722539568929563069462569359594516071545598850996115338271341411358984113534181286528218590953222523870899019151116285523673370271527637486075216833590737045957855440532625405797599330740261428337440090391253617649124611170587132319935048660973665865379801338069824506938447274301387244940212337484765609677262644117480316137311818151709682837993284949402080440680347740024512900931110418335946368470518962418931539482686229149834960746875896268656290929326925729306067612557290034375096743851434462434826017524775721515664278110114856543214570258965478810952723410450218787639525849230043238055828527145492697115840427483159072329944256176325549099986008072882921946626000383350576146401706048577853338757732117267444522836933860729049968058136553469437861500840555134536605301487136918873884910217137957616193717076838106515679677679960880145326645305131820416634698456096382968221207364121358999564740181500896684183257663100158317634855169809045389891853385729619517403822088375072932166335591294737529267597615602056437119398102729651452236181939913882702361637132946404816217607523895886579867184099472298156542956632948551696124012051402420761198253185340918222084078955744103243558839943868334654643445362473874701129106977605752445749653789171626118522247154977286943600137528908413966722493778875581678893741671137196926088155519242739730537511678163858198135607257219603417602939357559917811011676019194179516325745457305479202012826667116146628749431947650108783853714029691621635981851219291502684175523436873229052418837310304234292994376253438003555503758402349551520854317736102422090648934061348721936135416213793668480649537988705429423342936075470024023704704679961785086630473167883260805933266600813761929595491454996097272013959990588593494059453905910041034491590746548761371976714928323278408505513838209425155105872032134834008660826127992900999831307206969732976662210003452717835655451544743398336927009749991006872629857251141747504413391672756579256048189880730412241276873816226721050404163873062125681265125219491092389770522451488419327338543479042616371111271558211944898583728721499233924407786456662451957882006384912530055373997588154408103422213400877769288367251596180390396330508626730619482201206136159606177855065594344361890748096197185211267994590908040708124070054505097904782971049635713962355918579059061002668128480143433341394815696598857678352414665074453505323452464059758274485934731486011909937431535189769745910420439901742778936860721755153579736776375865464382652623543118563035708180527206558936745452420253315137267004104360232096624508357409578897563915655101185201520660892833961912986545528717252836340639129409359768515241620069058221021658505801860551049033658607379200521520159271789588405573539630924177530068140854848098637004100706231324046816569424341585594625831778702303719147964485846422642936962311777627015149934055041197450680610933722419656868792888040272822770152621847988378203381983182588528459558050416232661580644824213869809123907942080819912690918202972613274437497281892782523466335497418629644409915721547498753309181838495774762694299772966389579099099272579697656206247067309138735038443952111465091296393930636363733672612764144452439100182736778552025606569024423343994627346464860365665360998508484900427778887603954656296076205049129193083269702130969729419164193434152105176039692736249071135865660220217966907543476252357639569964371038584901906091618627612603233150647753091386118710235218577803473688867814270719054921448271109409512740740542822811250279756646523989442225805918750468185554638800578720914012299511621949748850116644175126208558672324431850365172713389209713728165670467101823228657802905402331255318151068283078879672181854992799580655020112687240553080205232103007196390684317168351972023607881556535640962655267970567374594545180771917072052416336027974831918898581020579368238578193108561935803532073377023239405329567851346666735066090145328929978553667615877381204670612157544520128832564434456199145882333125231398148813348688924945556340372568971112383599347973071951749571141345726706630900745289666494488065405238013587611157075084316062410415176725956412186035317759672884440982522005690240615686559979087971998848887240299410402070756652761199493808117757769022654143179427065459833144878866468769991284365372320709767813869362617869609264146720730922040556774945275218022152011676737114613962515689233839539650228461832395217910593029673003123356068699628164201934433559241148661267424252362251247453902970330626893998979511848794678213767131312629788253368167701452834042116480345248282328524835635582467840219895727193197953913145854037805115149509311290827408479968794344605341103140051035459911902954450721905529415810492893464184393146678838400652443589300260898155291591419742869667808795399279692319123269859518236579418288288892130896746987578212292399126959902334229175904049329950683355329378947551393453220624807220845282471285590406428316312883689099525267041457272022170079696670422683678098493625380600309131159685721367934629277808896242726160493161497493230044876107307439053704036140162146791493206785024525261941863765262476490474696700350655388001847533880656687743468368154354278688881031277901807952382966908731799679759843224063999569532394591388196102326630674433754392456743688957301479126551001457051194341915363350622703582509820871205488626235252968566152551275984832122362921620053021472313751516398148088725048402266058393969581206846834444239699268247667892304030988134687010917738605750117560455082148647508914081869617172398040821454528266198272868073095788759283009301604838000698647732047475481608550592054292785545608224332883617846220137654365894146829697835815863448480325365841647651585958647126156544224038746117291639252073941336977936299669783897922299593612702234308033529386345436111949914982851384617560764251862515694285189791866805871615965855224391223810431771479452855893610889607526634740614891648906472063910725646323655837776262208551177349593206123364930837262896393398417184373264314443268192973651637067625390760708722156868571061128406163771874839450159285534992237538872047539409032788426071269774069611287322485359086462239022921826639636579792681654253102202848338683030232837904121084670957900990129374763215773405897590535973129775935040122319763376876277039079710272446720673071106627683125287204483871866144580231408185724800029930733658742359106202382209219647888261410357345013358617072001841177496604703783976015546149874532724472012148435545112404917227432529658973910918465328544704949320411023330863470610634918494214224842575193787435083116581491295489188537821941460576682633331218005322634097584238281661534220556288494135076713375108380325898170499139555558959398711340584680187492780969617346522223072151875136559899406348736328534624402436632148395857671832287866482223230908423098265496189175459800556683158541891143580752377902345446585672067337821375559636914806198709134574103048807417167351177066921396095350203206247053322511926647828325246349176441944668356851269019383559360600841299611322031173890084778842353095409294162956031148305577983434345762253639688472236535716714987782408068636539125339317544335198184322209935411975947890838113119880604705031161205789191009751669084258726287282526329856977762574712020091736804369257836245748944443896107988816381238663579326986846763188427898344391005569777835003779979778203643162442683861185982750023251430555284050351654684185276497681000384114277264104671310824609525130365549935844082183298065398264645449909517118485099077115724840470635652262008237862476145754017793683616339835220262163590491802909233249922437900910983009573190867614956020840232612683789107872309022650083202592471562415674148055463007387012063003278555184938082397215821446473520780634162698313714415110755936371649229823513701658109126180903553473773568933915671942621384394518217426896160370879505302751166185774178435300364434290946529429047665051527457719365722718478170849645142191980030372078019229616738123890448219803109774961670146268793153279933471182131594776421342583507162852291670473338745913273677190540817123374259365577079778055413046750103861500678573268916249495975030552809976729599997465250471218424069004864416592403477423535679298039953175524046267723854755543646827864638502366281710185911670738601144698074302050487036578563404476290296701692445177179580041394962185967538992913942847254380005623157443264073999384128623224928271643031486622700563335350881544008372414366810443580575425024346466453484293680395163899098451458070532897871108670798208530306544907601022961353450038689621070573005755878358862368978982943111357284841914435863478307616518014671346687562955820199104958017499667445458351964421771712480790494626797008517328069051373733433090223170850602169776577912364035900752781945402934942068791665614213460095589646555530255284544476786721426164456209529841464515559976649945482364989796030977089911997754927848795009802711218102361274790007423281557844355639394538883319647268097184592132855738222632874496477917317240361997266981984547942879948903034354031976871008432880941466195813457936618910308836343782017038983421059306823096304372703816079645981240317898290038892788385687084791684222436116352476491623670198659770941554710763866846554210227263100389174389301234197170178609094702396499754967602726107377404087789723520438796821110189489421241868443264905283131703563595340696974990858862128362129139161635771356518002623756007113054075058262607440270211940476839766682511310394926742872692679490631808180692129434871445470371965766311455423399589815762038221574030101427115554840490507647596850601727570933584976391353805220047161961501479672361272440699004145998992574586542216220088848529983096590232332937818049789017192646968649819980229895744348615703602245607194022073099099872902078688966587201688585478726777267057411014875754756655122537137722600657361909110677573706834986032762738553905034059809975570862591910147865666815481953025068509179736233391721714186162066963207373614113212077412216282134518854971340564476804576339168065268489671780551852751122596338588997524078567609903158881270127036845103002674376754578322126282999234962114490786693314671990260701433365307497319876738168129715996566488342340661953153790448890194600219235035342991850570940319388296980624993495766882496968734337088784556370487586095637003658151247878241876536206805382075864298927444688643508706540675761016155448506421799049725067733444078142084076179205268317966485253163283363105949889153650080078126327763150083359238174201223436923671919230279064015881244747645307653666347332889037535026699824470241865146679876295631107219472817480637047498476714965263074955534281348710037788061455299346640929080404881322453960612559898027979643571165379937503817405038150089160433397684130827158924467815523605160856770879810907814413092647594882640986054959973021289221896883233202299709559651200962845050024428097109228220002673489325602372812268840672605714631664453088039158407528597089140386673529244389431032168195063312630742448312589875259401606373554442392302685481760878379175810497100135823590218003101761075868418985321041932498267115287986373550979536226266917069268918459029327573275519300874393349832691216082117365299645247025392915428337689138123957421053131370029723897564541358858756646972340425599527241945980945881919986589884765453842923644311539158054102232897226215892849972844859228515415554943061598658313834243192450686051463665493895654526241614828530958121447543771973775600460691981455484728336202188571967158341977288073466113091180060689461047870813364723573516049988869223180972513809809727628858732570331589644234370618983428623880419459262614738413950975061754086781913749913661181144849473983253434450124827754763770824582264320989957261938736750370909049315688807783208995506701716831374967561861834635050554075356368096131807265394450566540713105501112206724739265998612250444045159850695622553451571633249105689893151392864772798617190575963994020748078443728789789987669923915355162413373348322273598814709591804783448083488536176702602227429358658788179272868596787119373426546337578015553057248061086730221536584935547487621929793047799685538735488335751322720222130394341328389384363122022776545973775766306831780996446496538603749092146822872402642213964081161673540131362572340542048736116500130001230615456509407325704113617991393949177080515838793884518942793600391796889247729874098222856364854399874381965443300959073598033300006748243361998652546151150883051921330901755366681641821782810499961414578780473920179764820072927613034894167314160476455885981266481864855321153590105587780288528324288062557644731598391606590176171347996309638118587638260235207114950493260848547921795284503404312819295584676475212106006123639556375205521397388997850574309801570695094237314412612633223408903772106928610337664249126285159181654994287780417427370352251327989333244973852404967756147133424468087191707319925974852530566770719673665608268161738627851151760505111942420861030921694354008746851399216499058817605402074921593549027322095283813877235675792149916341671586928515039816008854026247011132215078182966673856716535253037314770038784110237694064354517086533578359587727254774879131575476146911536845171808269823533050996440497044306165052060007360969884788138206488798654653093783546811213877464401697639237159519225053240715959798897624819371521885461269323596257050103752640472728794898542428932946759618406880047279211051122523462226873313572609603797772672861533399716341845926646625992886753944340095215442453263843850664720163734654351708253587475160775382598104275021015160272809327583638946662634997269405973332365085438727280776874853491180679580927222275979635541129504743672804555896482099930727290420535016135881795453570963306956146491071005901882294556705779723166569844024636617448662994666857431225096581222377825114545840380930795171505708752540286076941623181755933909785584647378314164250885270239540026394389613292608726755670403191163662247642275988624778893349052329274784350886894590449675558205241481940636077413804197090952979591231230192287210301060423509344358283646573294900372294362598649838158359274677205955485033069687679963022626347835513006957311442419093288241823204205106709248109500625362165176234891691569838978332626204038992761323337169804897606602360569225849398827904280137075008557466440010731926934317490904595807432141038016485967940858814065134461237977273510090211900672179082124602722464780517364722111391116889987625578287693738285542960219296742620098367848799026211534609500222228982640392447837224087063472563387485616113575236956420744001202947892900237104632958515675491555665157750714379753601763881833470421109861281868244061746061944799935663452739854800303973349834503357416003366749592540442542202427102418586193948216074672585646367146062678670023816402161039081518074135105277877037773016021781569181305701026589003437085778386190655582004151597120549393064430111958007173474546924136848922052442435697958552679553917136063355209195539577395405062226441566504456161319615614823156260935451596907797355832700078467424304962936728535677887237927139863791657054223166391987372880148747015537793565755091151380026038659223730372836874042176721586607185143467755158838745590335974826793715376970769774245126709232349486934349949907906410418005911994921316830404953164866078883646574309888888391455417068709548318917977095464970198926812990043392294173174687257566080564602465109227556303835935429565912343989495186584257561478473412083677690037939483721115998961937223520491945871226151703148621804950679901468966012480581714933703683530374567499229168754522797851633491208741452352149349108487253386762387093243379255169291674309650664544050997083255221697885029434329267252314592854919596100820689114654480881335649926831214114854987931805882406243540582869718474528603955548486668004777783678785624990294524098465759187842001407875996922589367312850218617826652436637345095119340181042073000604016394170646864981290136160909041195836262326489825689284325933705968263096933970477044117544540616058490873443093221361061186504721245716721009122599652183091960016114220350302309587555148319559017016482525916416191753891985400385251212291420831201976906657000682243395118429348850574520511200147003302703839427787673010177716641635340564794046033276234106979093433117658424308459736563144121276180770911892519363219489528241771519725585606200835193599882187390346159625061866972765974704983021492010295888367822786109293904583877829084030444196249450860434393753322287028453933573118338447302125468536144222295306778097188022973093999653327603440905329160141406833453928763754691073806257189281443109736661142204311761541948477723748810099225195404853414042835600457443818265686171330915202294862398089338211540500464600797250351888381054825305367754106266529154080715531849999540615994266958091364794020380035959448170672699712142714885050021587561757461493693508483955303685708249803411636130957951265397502531678584454765770670310434263276395261676440592697427891688770303326773665042683129133789663430997187414807160284492855089748460285887337278285573481417090683573773205803050453425204746975165033054711952553230521444294518237848317946784603006495260251652851906043792381107218181165057213654547297625899816773856572493474986148695145734755654799582986400749703148491689453340589168876871361689764759067980994833950874475288522077745084340133037800624122390720244545997012054711751995806753707203881057167426893395433918711253949520690571605551368684400110985496057317598904026307372278069354480028046267685804808324821411533087440653013972932383060967409494987283169315284945040280694755084954328004419131539252280527839135543009453119145586260473061915683978158322516802740508299098432204079870726806868508016678243093441947226696009344739466651272942938997498616077221369356851541708268234512330916214857365535690269364678108319596072989580546558884284886995212353233794866564405466649427925065400581093337655537396662080369002666877121244251460265828276096567176058048373275670435273995700740403684254277593201291523200331008369151593002566821414933479875455288427264409252326135525454637679589507510888615097926060596821396799837881397585140290337702508217615290441466421292408319065152110913343255669729942320491303154393776317140989987963557993642502751154529777155599896189902040158922639356925887278047059839989242552190655399024529890328641753852898891652098999055250307521597159221209307987588992380484446126430141951140709467410219143937847660293275811464674106016903249460845308191566492108097769919421101756293258140256847918799336959747198463122758869779679095508554824135049661278123895577474007919775589577261566110143295678998979969790498390559614165517519374278352220692069113154352170673587325368213599822806709619357378307032675356794353277989211217533219265169814053708491557701476393477236632985215359748617875411147286146628043898873293534292083964605507116981389064644409110497350801243265890682508676535418155855195802422435834129775844598439959332110399337768702129384741525936666798090372621196797214431362099017672026168656480034705431759407860644111734590035290825217339727062829600617406357164721120495347548788842962369063221220344207189838689215007167220602167000603705272670421569729978630892644636796228197561311913986213851943885471053731748195920713545168994332927974874604634437185006090422918498963948725426901512857363234005024340602044486829931362327200759216750837828000860839896065182689037831070779669593017865176363479552205044060857088587979294750806537582253095023872966717644733898459139167606977765906455108085372103271341179540640212197735709634064713819118821170272067314557279170252840721353171975995215579972408587250131373060720751135658136975382622010132120897675883643853204678231951338727041816741194812529593109274363729643310682476757832014645810752212599099466477017992526400710838200936772931193004586087604314614597681437469695544919097984352213645415544889049245977280923954222772943526562472442662043302238327044947806622553163581561590290390980787655200923988684695756934465076650970954297599329434115154570157613477746581369562526440328439600095888144085097460440510175568620598871414685107133903830537516977586662174566580555784653905614807262084285286731546111999034833419139171583448290626601476851547123649491348610473434949619913051594391534654332089522473576967665866176375932451516622017126368836138938344945612336630728658251986022169748725396397284387700761466165983593778123031430151866812261910325471803725843853826530626942546665538569174936968042406040226530490418339183791590299759951909900604109907148597767420004718882000401374864176551566689970209938184702417316829209474520379329063199993383765185587218550820991112247633333513078532154901976317842756475446781007692577557812257254590436299600769673423705577421167059365206914300817994363904287212661238183151861266951660889319982297251101329312073463554153640381029736303156358167377015611997523434915266615319658784997952391549303410488994668004834741063802789584955902451930697617718602661183518447163601525157210309385345929011175105758264432403869584022293503947434602304872725830960444377230770934148387118547130446133461398830593388986884898193491252526704789951655313747985228873693108737864349149783326132252461297046926329279700988058344163013173127369267371914976646758075048938486753066967487132055585493333458234689508129383719838463108784396562865034971105054110870108425402413257352698166529384678156498990816552362099422253980372757567481863684305156573811607941311402567348651381198409128271109630567854268179388884589069140743187452240942124304879196238836043570848504063476275921168953048083577845053006908863414927031565205711899489059191617741654918668663908654558211849374817278580390709413543985023436068062724371693163145367775609948539047001109155927088985240412672977996642935094952102001441245314479497845803919149193084971293852597435783963214809016725477585641133150561970979346345319086798439780538770553249287884624705573929262414362631643055703297827145986583403442555558704094290508862593530516408601666936899403193153909473156629374755121992825175999890560934764870471564501638479661901426484386676243294814847863649372639551198991518738873594881272276166668415527055700265825515426448250180993807572992838104369683510295058314140390055819274065464444232457538596617388853623268531596999812074865422811597375722378659898170533963251401556219574365319155513066013821249230940524667825607350570761249856014695779539477657736946790818516466238150505219661633134885163420221886147801966457978654256533691375768603464469468840916492487217154962509574358189212697775441720498811417585700804769244379103559393362360840442198293835693707335667649828814866351126149098045996521539698137035941184956752166151827268835670585924102729199345160064724323737473364115868676676568948720677225534188965443969470443266460308294786189695541723419904206755042093474765819462798196525180757860295072671454660764886310748320026239678644708620449530186050724520244493229810947198799698224910158901066919121858580189059990691466211561526622278850168472502451618126425475437721438120617297213492481669520512348630476879939024063145203260809682054263567473410918930789635881628480359623968352569100905793605333273681491389862666633292751019846525068125363329175253471383977853247537439710625349104716670737938991641851561882310770232411349398092922555646292173059570662722423825947429439300070478289559579447023394997077815689888648628697484806517409240922191090272071927330126199282104301619541618449943215638986433433185973160609048558256961478037861191705865979377057409844756454403815717266247852536533390907055270543239748599334678989953226380821520972245097187348383649993006994042002538226614767605510117401475269750152472106236100643998690058150224040330169978793664160912587844113725157765787390297696293995224803150320263737452829585483615843102020704540383879047837257055175604495754267723772236925016529611623162793484438290317547876401796927877887680358845947212967826256278229705681863877506677169149639047873497112720469148224177951506253739489526723474606919549037207334231373324526587583105673226769306646830566132204938119291500156350570773605524245045937955276333441840958532660380873581610611488753228955316750447507708521425021075969476706009430823688679565813290294529490597357352320690918819896199162599261495728034216778403004257733625182897127963932143414155493852490884156857366464391698772017324197700286296621285755584876191049318239949869170216811117688571634526793853072606520428325163523392536122708610824473237221687664149265825792006254677657370941117702336309914049368990825177692974600414457196317684953801598343243717814104791147801878205808604385132949938079936396605116120405241499008428020226231052337100321017739953157726276432427125309220528971583845680225468887732171914771273759537464710464607632838462821481707185139165100324927389692299687576681582239382511974650600984665519554353222108853077723023749930517009228027009028703979726627027919805362957739644183371132500336236837968168479977146358348319357661431993915267752961417909267474937443978930264568523480057232796918355640367571515516827077782049498510892512747952430905538374916225980284898677592643883343159695672630317380235363651498341317608223235267032542047018525259186851962709518974580133969938254795883130936336814654881931336540178274218156858209145036680771930307584823528545090673879050473147162599684645386683268298392227545044361680504499043930620299955451130871475217259726082403786756901767496508380390745391205818594274179060649858620024242740009667341699354439141335305193105567702133314898144809145416442926329482648030054603416710630496866507803378030747732416022271237396112472897210883193199891313389295108785612755842318454338789259263694794972291622351206774382958968863289328645890751452504806462897351866381416346199694656425151814400260101551727945402239703634142270668479657910790424687347581481005763242683489665762981778239149454709388916795125076558139347298399745246157775844921858421909991032678430422630519131398450818336628464034021332614745844964485478687949063200539349332867539357056007411781741216819896265526638728337021699496099755196289757866193757571630478361137338395695927270956556777737968408347953285583669888657576386311677483336754595292012991605542790733928961624318886242835588626804130521042371523879745501375677217033600818546099783108472145337317772831960695693812909895735095770556297030851973994566377137012236298616020526929606351615214370220685572788748148295486876395835939732347519565718373130307719869154352476872406219865691787789908752908985660552855436187844353530440516151013873733321697055034778871835053946719542919309029552647638843942004079139849411094001437080808699674517271468580306466502595383090662388397666019648959421537818646652450233727026499480498111887129747131702735154595640237349501580103012702036076613901245849576601600830612108004548261845588081382814087664498941355967825230647231264008337995890225072789828710405462896318906887922198863580860789009473807301894796630322252200782108613331073480789531011308615887618306810627132124327329932123390863409822153723456205995743590546934235924537330571649481313320082686553503899307004252950697827707322748081309094229556205286728422666161811580421410068892792435710700664944179312751840499809687818767438571408045419810374546459232543476556887756358476479256817623898037207218972998641227501430571211324290521373228533731852738698774593082452211835995377267439285292635947138355966004936053956279751708978308471206245572545498190964095585667509449115551034783649107533572614087057625484538961149092564966048296443158170540274369806665810099894659434072285129210634672059316688559491103140516216579414500007400478228389475479309251879639003759070546611834665191310449613909027240367556704635724488441568817944073489394491577912206038505725890948514943925051023875360119848517681958761239100851292491623459071705394460853261192550270159195600455906894658737222201818787320554550545977317058358928277050935295098794609100456970534231581353268660899642238480651665087163626124789069562410514572240052489907319980673761166747984206899232182748791377177761359211532795421407890586429882277882524513297673300791051360493664086160918648891123863106694604198838209557358846599328884228856829056901921519250869565073969260380685504668111492625850227488187560892990480112976118048170072654081275806281561015517806408804908485159132765071691211078594318155564130354763258729393480042030174359373869590544593723485331058910957137168593519060512438905618600284332113648158634563330559134896126184872275903891545966298917939895507412567418909591387813042293526755191432533110980464803202345616013890751193671101774607284739946447245460975983694528730836921293552919554483510825888932757915330704983085395947058247724886835075651541742273507918827514496967709258413267608911616672779555485191319273933386615703752361956670754053491767157976181875529466225297093599572199104204202413575326557629282391584433918849089132693597984586892612203310095341838600459888569511699826407198473060903367880974616004083494465723772123523050592689201352360342630233565103745948449847608006246201519418279598751775276865915799210276920083601734912748824712738175981430975944776845145300960529966486727183404289339623262386291187140601850217759702619724263973429761467910644474478106489366477091165485114333099085843577242322323328142936504525952666652888771103155116536333316445216733804774145192396484182611412034806566393663138390544294161476795247250339402013901014359976733417867244883149281305637518551561124450548695155034139998379441218586823885314939699757709919168368710346046361221755236311594934119570580109267187965273392860995050475775482325224111808175060129532353274922639132037459057170840509455488390567247850042363475876452988083299163611051649037739381959964259252549636867923303200120247544605905912805463824376359837112823777318344162654437773144017145637425299087427740428345318250107344122313525781510701140448353372873172637143543502635018145066980868049328394561767969264647540307863660029933505514374609428152695278888674441851088734755102112877118942916087031121819161661688076406586044630077971823100761016663192130173443096463157905350946650557981511330895750647567534652231535737580679823714242324995374011728153857167819939922534730399010086503423004743674060935077031265644908684421476327965253959477024272038122885183172502105144356240767982060503126527356783886550603178645202109698722623481159856882646587170633131549436615806379057584532614776273004717246807929257716775814179530270605018301443143698388522781021366269725975810758072920924524767345725556046712232841555357416709485426414547904641641340501413903098634188374286462886663535907097249606055231072256102845064990252121430049687536978716623282453423301026400869296908441748255522602593651474176120423958629381946039347002263638751365082882813557345405510341845326818117905222128028494439831894525001189343351989805773850036475683567982934576630972635152379593666738211340090674700520867345009518499579171525571208700749699979151042162920605853064843169218936926862820247299162112000000000000000000000000000000000000000000000000000000000000000000000000000000000000000000000000000000000000000000000000000000000000000000000000000000000000000000000000000000000000000000000000000000000000000000000000000000000000000000000000000000000000000000000000000000000000000000000000000000000000000000000000000000000000000000000000000000000000000000000000000000000000000000000000000000000000000000000000000000000000000000000000000000000000000000000000000000000000000000000000000000000000000000000000000000000000000000000000000000000000000000000000000000000000000000000000000000000000000000000000000000000000000000000000000000000000000000000000000000000000000000000000000000000000000000000000000000000000000000000000000000000000000000000000000000000000000000000000000000000000000000000000000000000000000000000000000000000000000000000000000000000000000000000000000000000000000000000000000000000000000000000000000000000000000000000000000000000000000000000000000000000000000000000000000000000000000000000000000000000000000000000000000000000000000000000000000000000000000000000000000000000000000000000000000000000000000000000000000000000000000000000000000000000000000000000000000000000000000000000000000000000000000000000000000000000000000000000000000000000000000000000000000000000000000000000000000000000000000000000000000000000000000000000000000000000000000000000000000000000000000000000000000000000000000000000000000000000000000000000000000000000000000000000000000000000000000000000000000000000000000000000000000000000000000000000000000000000000000000000000000000000000000000000000000000000000000000000000000000000000000000000000000000000000000000000000000000000000000000000000000000000000000000000000000000000000000000000000000000000000000000000000000000000000000000000000000000000000000000000000000000000000000000000000000000000000000000000000000000000000000000000000000000000000000000000000000000000000000000000000000000000000000000000000000000000000000000000000000000000000000000000000000000000000000000000000000000000000000000000000000000000000000000000000000000000000000000000000000000000000000000000000000000000000000000000000000000000000000000000000000000000000000000000000000000000000000000000000000000000000000000000000000000000000000000000000000000000000000000000000000000000000000000000000000000000000000000000000000000000000000000000000000000000000000000000000000000000000000000000000000000000000000000000000000000000000000000000000000000000000000000000000000000000000000000000000000000000000000000000000000\n",
      "Wall time: 1.56 s\n"
     ]
    }
   ],
   "source": [
    "%%time\n",
    "\n",
    "n = int(input(\"Enter number which you want to find factorial of: \"))\n",
    "i = 1\n",
    "fact = 1\n",
    "while i<=n:\n",
    "    fact*=i\n",
    "    i+=1\n",
    "print(\"Factorial of {} is\".format(n),fact)"
   ]
  },
  {
   "cell_type": "markdown",
   "metadata": {},
   "source": [
    "Here's another example that uses two `while` loops to create an interesting pattern."
   ]
  },
  {
   "cell_type": "code",
   "execution_count": 72,
   "metadata": {},
   "outputs": [
    {
     "name": "stdout",
     "output_type": "stream",
     "text": [
      "*\n",
      "**\n",
      "***\n",
      "****\n",
      "*****\n",
      "******\n",
      "*******\n",
      "********\n",
      "*********\n",
      "**********\n",
      "***********\n",
      "**********\n",
      "*********\n",
      "********\n",
      "*******\n",
      "******\n",
      "*****\n",
      "****\n",
      "***\n",
      "**\n",
      "*\n"
     ]
    }
   ],
   "source": [
    "line = '*'\n",
    "max_length = 10\n",
    "\n",
    "while len(line) <= max_length:\n",
    "    print(line)\n",
    "    line += \"*\"\n",
    "    \n",
    "while len(line) > 0:\n",
    "    print(line)\n",
    "    line = line[:-1]"
   ]
  },
  {
   "cell_type": "code",
   "execution_count": 93,
   "metadata": {},
   "outputs": [
    {
     "name": "stdout",
     "output_type": "stream",
     "text": [
      "?\n",
      "??\n",
      "???\n",
      "????\n",
      "?????\n",
      "??????\n",
      "???????\n",
      "????????\n",
      "?????????\n",
      "??????????\n",
      "???????????\n",
      "??????????\n",
      "?????????\n",
      "????????\n",
      "???????\n",
      "??????\n",
      "?????\n",
      "????\n",
      "???\n",
      "??\n",
      "?\n"
     ]
    }
   ],
   "source": [
    "x = '?'\n",
    "length=10\n",
    "while len(x)<=length:\n",
    "    print(x)\n",
    "    x+='?'\n",
    "while len(x)>0:\n",
    "    print(x)\n",
    "    x = x[:-1]"
   ]
  },
  {
   "cell_type": "markdown",
   "metadata": {},
   "source": [
    "Can you see how the above example works? As an exercise, try printing the following pattern using a while loop (Hint: use string concatenation):\n",
    "\n",
    "```\n",
    "          *\n",
    "         **\n",
    "        ***\n",
    "       ****\n",
    "      *****\n",
    "     ******\n",
    "      *****\n",
    "       ****\n",
    "        ***\n",
    "         **\n",
    "          *\n",
    "```\n",
    "\n",
    "Here's another one, putting the two together:\n",
    "\n",
    "\n",
    "```\n",
    "          *\n",
    "         ***\n",
    "        *****\n",
    "       *******\n",
    "      *********\n",
    "     ***********\n",
    "      *********\n",
    "       *******\n",
    "        *****\n",
    "         ***\n",
    "          *\n",
    "```"
   ]
  },
  {
   "cell_type": "markdown",
   "metadata": {},
   "source": [
    "### Infinite Loops\n",
    "\n",
    "Suppose the condition in a `while` loop always holds true. In that case, Python repeatedly executes the code within the loop forever, and the execution of the code never completes. This situation is called an infinite loop. It generally indicates that you've made a mistake in your code. For example, you may have provided the wrong condition or forgotten to update a variable within the loop, eventually falsifying the condition.\n",
    "\n",
    "If your code is *stuck* in an infinite loop during execution, just press the \"Stop\" button on the toolbar (next to \"Run\") or select \"Kernel > Interrupt\" from the menu bar. This will *interrupt* the execution of the code. The following two cells both lead to infinite loops and need to be interrupted."
   ]
  },
  {
   "cell_type": "code",
   "execution_count": 94,
   "metadata": {},
   "outputs": [
    {
     "ename": "KeyboardInterrupt",
     "evalue": "",
     "output_type": "error",
     "traceback": [
      "\u001b[1;31m---------------------------------------------------------------------------\u001b[0m",
      "\u001b[1;31mKeyboardInterrupt\u001b[0m                         Traceback (most recent call last)",
      "\u001b[1;32m<ipython-input-94-5234d8c241fc>\u001b[0m in \u001b[0;36m<module>\u001b[1;34m\u001b[0m\n\u001b[0;32m      5\u001b[0m \u001b[1;33m\u001b[0m\u001b[0m\n\u001b[0;32m      6\u001b[0m \u001b[1;32mwhile\u001b[0m \u001b[0mi\u001b[0m \u001b[1;33m<=\u001b[0m \u001b[1;36m100\u001b[0m\u001b[1;33m:\u001b[0m\u001b[1;33m\u001b[0m\u001b[1;33m\u001b[0m\u001b[0m\n\u001b[1;32m----> 7\u001b[1;33m     \u001b[0mresult\u001b[0m \u001b[1;33m=\u001b[0m \u001b[0mresult\u001b[0m \u001b[1;33m*\u001b[0m \u001b[0mi\u001b[0m\u001b[1;33m\u001b[0m\u001b[1;33m\u001b[0m\u001b[0m\n\u001b[0m\u001b[0;32m      8\u001b[0m     \u001b[1;31m# forgot to increment i\u001b[0m\u001b[1;33m\u001b[0m\u001b[1;33m\u001b[0m\u001b[1;33m\u001b[0m\u001b[0m\n",
      "\u001b[1;31mKeyboardInterrupt\u001b[0m: "
     ]
    }
   ],
   "source": [
    "# INFINITE LOOP - INTERRUPT THIS CELL\n",
    "\n",
    "result = 1\n",
    "i = 1\n",
    "\n",
    "while i <= 100:\n",
    "    result = result * i\n",
    "    # forgot to increment i"
   ]
  },
  {
   "cell_type": "code",
   "execution_count": null,
   "metadata": {},
   "outputs": [],
   "source": [
    "# INFINITE LOOP - INTERRUPT THIS CELL\n",
    "\n",
    "result = 1\n",
    "i = 1\n",
    "\n",
    "while i > 0 : # wrong condition\n",
    "    result *= i\n",
    "    i += 1"
   ]
  },
  {
   "cell_type": "markdown",
   "metadata": {},
   "source": [
    "### `break` and `continue` statements\n",
    "\n",
    "You can use the `break` statement within the loop's body to immediately stop the execution and *break* out of the loop (even if the condition provided to `while` still holds true)."
   ]
  },
  {
   "cell_type": "code",
   "execution_count": 97,
   "metadata": {},
   "outputs": [
    {
     "name": "stdout",
     "output_type": "stream",
     "text": [
      "Enter n: 100\n",
      "Reached number 33\n",
      "i:  42\n",
      "Total:  1405006117752879898543142606244511569936384000000000\n"
     ]
    }
   ],
   "source": [
    "xo = int(input(\"Enter n: \"))\n",
    "i = 1\n",
    "total = 1\n",
    "while i<=xo:\n",
    "    total*=i\n",
    "    if i==42:\n",
    "        print(\"Reached number 33\")\n",
    "        break\n",
    "    i+=1\n",
    "print('i: ',i)\n",
    "print('Total: ',total)"
   ]
  },
  {
   "cell_type": "markdown",
   "metadata": {},
   "source": [
    "As you can see above, the value of `i` at the end of execution is 42. This example also shows how you can use an `if` statement within a `while` loop.\n",
    "\n",
    "Sometimes you may not want to end the loop entirely, but simply skip the remaining statements in the loop and *continue* to the next loop. You can do this using the `continue` statement."
   ]
  },
  {
   "cell_type": "code",
   "execution_count": 114,
   "metadata": {},
   "outputs": [
    {
     "name": "stdout",
     "output_type": "stream",
     "text": [
      "Enter number: 1000\n",
      "Skipping 2\n",
      "Multiplying with 3\n",
      "Skipping 4\n",
      "Multiplying with 5\n",
      "Skipping 6\n",
      "Multiplying with 7\n",
      "Skipping 8\n",
      "Multiplying with 9\n",
      "Skipping 10\n",
      "Multiplying with 11\n",
      "Skipping 12\n",
      "Multiplying with 13\n",
      "Skipping 14\n",
      "Multiplying with 15\n",
      "Skipping 16\n",
      "Multiplying with 17\n",
      "Skipping 18\n",
      "Multiplying with 19\n",
      "Skipping 20\n",
      "Multiplying with 21\n",
      "Skipping 22\n",
      "Multiplying with 23\n",
      "Skipping 24\n",
      "Multiplying with 25\n",
      "Skipping 26\n",
      "Multiplying with 27\n",
      "Skipping 28\n",
      "Multiplying with 29\n",
      "Skipping 30\n",
      "Multiplying with 31\n",
      "Skipping 32\n",
      "Multiplying with 33\n",
      "Skipping 34\n",
      "Multiplying with 35\n",
      "Skipping 36\n",
      "Multiplying with 37\n",
      "Skipping 38\n",
      "Multiplying with 39\n",
      "Skipping 40\n",
      "Multiplying with 41\n",
      "Skipping 42\n",
      "Multiplying with 43\n",
      "Skipping 44\n",
      "Multiplying with 45\n",
      "Skipping 46\n",
      "Multiplying with 47\n",
      "Skipping 48\n",
      "Multiplying with 49\n",
      "Skipping 50\n",
      "Multiplying with 51\n",
      "Skipping 52\n",
      "Multiplying with 53\n",
      "Skipping 54\n",
      "Multiplying with 55\n",
      "Skipping 56\n",
      "Multiplying with 57\n",
      "Skipping 58\n",
      "Multiplying with 59\n",
      "Skipping 60\n",
      "Multiplying with 61\n",
      "Skipping 62\n",
      "Multiplying with 63\n",
      "Skipping 64\n",
      "Multiplying with 65\n",
      "Skipping 66\n",
      "Multiplying with 67\n",
      "Skipping 68\n",
      "Multiplying with 69\n",
      "Skipping 70\n",
      "Multiplying with 71\n",
      "Skipping 72\n",
      "Multiplying with 73\n",
      "Skipping 74\n",
      "Multiplying with 75\n",
      "Skipping 76\n",
      "Multiplying with 77\n",
      "Skipping 78\n",
      "Multiplying with 79\n",
      "Skipping 80\n",
      "Multiplying with 81\n",
      "Skipping 82\n",
      "Multiplying with 83\n",
      "Skipping 84\n",
      "Multiplying with 85\n",
      "Skipping 86\n",
      "Multiplying with 87\n",
      "Skipping 88\n",
      "Multiplying with 89\n",
      "Skipping 90\n",
      "Multiplying with 91\n",
      "Skipping 92\n",
      "Multiplying with 93\n",
      "Skipping 94\n",
      "Multiplying with 95\n",
      "Skipping 96\n",
      "Multiplying with 97\n",
      "Skipping 98\n",
      "Multiplying with 99\n",
      "Skipping 100\n",
      "Multiplying with 101\n",
      "Skipping 102\n",
      "Multiplying with 103\n",
      "Skipping 104\n",
      "Multiplying with 105\n",
      "Skipping 106\n",
      "Multiplying with 107\n",
      "Skipping 108\n",
      "Multiplying with 109\n",
      "Skipping 110\n",
      "Multiplying with 111\n",
      "Skipping 112\n",
      "Multiplying with 113\n",
      "Skipping 114\n",
      "Multiplying with 115\n",
      "Skipping 116\n",
      "Multiplying with 117\n",
      "Skipping 118\n",
      "Multiplying with 119\n",
      "Skipping 120\n",
      "Multiplying with 121\n",
      "Skipping 122\n",
      "Multiplying with 123\n",
      "Skipping 124\n",
      "Multiplying with 125\n",
      "Skipping 126\n",
      "Multiplying with 127\n",
      "Skipping 128\n",
      "Multiplying with 129\n",
      "Skipping 130\n",
      "Multiplying with 131\n",
      "Skipping 132\n",
      "Multiplying with 133\n",
      "Skipping 134\n",
      "Multiplying with 135\n",
      "Skipping 136\n",
      "Multiplying with 137\n",
      "Skipping 138\n",
      "Multiplying with 139\n",
      "Skipping 140\n",
      "Multiplying with 141\n",
      "Skipping 142\n",
      "Multiplying with 143\n",
      "Skipping 144\n",
      "Multiplying with 145\n",
      "Skipping 146\n",
      "Multiplying with 147\n",
      "Skipping 148\n",
      "Multiplying with 149\n",
      "Skipping 150\n",
      "Multiplying with 151\n",
      "Skipping 152\n",
      "Multiplying with 153\n",
      "Skipping 154\n",
      "Multiplying with 155\n",
      "Skipping 156\n",
      "Multiplying with 157\n",
      "Skipping 158\n",
      "Multiplying with 159\n",
      "Skipping 160\n",
      "Multiplying with 161\n",
      "Skipping 162\n",
      "Multiplying with 163\n",
      "Skipping 164\n",
      "Multiplying with 165\n",
      "Skipping 166\n",
      "Multiplying with 167\n",
      "Skipping 168\n",
      "Multiplying with 169\n",
      "Skipping 170\n",
      "Multiplying with 171\n",
      "Skipping 172\n",
      "Multiplying with 173\n",
      "Skipping 174\n",
      "Multiplying with 175\n",
      "Skipping 176\n",
      "Multiplying with 177\n",
      "Skipping 178\n",
      "Multiplying with 179\n",
      "Skipping 180\n",
      "Multiplying with 181\n",
      "Skipping 182\n",
      "Multiplying with 183\n",
      "Skipping 184\n",
      "Multiplying with 185\n",
      "Skipping 186\n",
      "Multiplying with 187\n",
      "Skipping 188\n",
      "Multiplying with 189\n",
      "Skipping 190\n",
      "Multiplying with 191\n",
      "Skipping 192\n",
      "Multiplying with 193\n",
      "Skipping 194\n",
      "Multiplying with 195\n",
      "Skipping 196\n",
      "Multiplying with 197\n",
      "Skipping 198\n",
      "Multiplying with 199\n",
      "Skipping 200\n",
      "Multiplying with 201\n",
      "Skipping 202\n",
      "Multiplying with 203\n",
      "Skipping 204\n",
      "Multiplying with 205\n",
      "Skipping 206\n",
      "Multiplying with 207\n",
      "Skipping 208\n",
      "Multiplying with 209\n",
      "Skipping 210\n",
      "Multiplying with 211\n",
      "Skipping 212\n",
      "Multiplying with 213\n",
      "Skipping 214\n",
      "Multiplying with 215\n",
      "Skipping 216\n",
      "Multiplying with 217\n",
      "Skipping 218\n",
      "Multiplying with 219\n",
      "Skipping 220\n",
      "Multiplying with 221\n",
      "Skipping 222\n",
      "Multiplying with 223\n",
      "Skipping 224\n",
      "Multiplying with 225\n",
      "Skipping 226\n",
      "Multiplying with 227\n",
      "Skipping 228\n",
      "Multiplying with 229\n",
      "Skipping 230\n",
      "Multiplying with 231\n",
      "Skipping 232\n",
      "Multiplying with 233\n",
      "Skipping 234\n",
      "Multiplying with 235\n",
      "Skipping 236\n",
      "Multiplying with 237\n",
      "Skipping 238\n",
      "Multiplying with 239\n",
      "Skipping 240\n",
      "Multiplying with 241\n",
      "Skipping 242\n",
      "Multiplying with 243\n",
      "Skipping 244\n",
      "Multiplying with 245\n",
      "Skipping 246\n",
      "Multiplying with 247\n",
      "Skipping 248\n",
      "Multiplying with 249\n",
      "Skipping 250\n",
      "Multiplying with 251\n",
      "Skipping 252\n",
      "Multiplying with 253\n",
      "Skipping 254\n",
      "Multiplying with 255\n",
      "Skipping 256\n",
      "Multiplying with 257\n",
      "Skipping 258\n",
      "Multiplying with 259\n",
      "Skipping 260\n",
      "Multiplying with 261\n",
      "Skipping 262\n",
      "Multiplying with 263\n",
      "Skipping 264\n",
      "Multiplying with 265\n",
      "Skipping 266\n",
      "Multiplying with 267\n",
      "Skipping 268\n",
      "Multiplying with 269\n",
      "Skipping 270\n",
      "Multiplying with 271\n",
      "Skipping 272\n",
      "Multiplying with 273\n",
      "Skipping 274\n",
      "Multiplying with 275\n",
      "Skipping 276\n",
      "Multiplying with 277\n",
      "Skipping 278\n",
      "Multiplying with 279\n",
      "Skipping 280\n",
      "Multiplying with 281\n",
      "Skipping 282\n",
      "Multiplying with 283\n",
      "Skipping 284\n",
      "Multiplying with 285\n",
      "Skipping 286\n",
      "Multiplying with 287\n",
      "Skipping 288\n",
      "Multiplying with 289\n",
      "Skipping 290\n",
      "Multiplying with 291\n",
      "Skipping 292\n",
      "Multiplying with 293\n",
      "Skipping 294\n",
      "Multiplying with 295\n",
      "Skipping 296\n",
      "Multiplying with 297\n",
      "Skipping 298\n",
      "Multiplying with 299\n",
      "Skipping 300\n",
      "Multiplying with 301\n",
      "Skipping 302\n",
      "Multiplying with 303\n",
      "Skipping 304\n",
      "Multiplying with 305\n",
      "Skipping 306\n",
      "Multiplying with 307\n",
      "Skipping 308\n",
      "Multiplying with 309\n",
      "Skipping 310\n",
      "Multiplying with 311\n",
      "Skipping 312\n",
      "Multiplying with 313\n",
      "Skipping 314\n",
      "Multiplying with 315\n",
      "Skipping 316\n",
      "Multiplying with 317\n",
      "Skipping 318\n",
      "Multiplying with 319\n",
      "Skipping 320\n",
      "Multiplying with 321\n",
      "Skipping 322\n",
      "Multiplying with 323\n",
      "Skipping 324\n",
      "Multiplying with 325\n",
      "Skipping 326\n",
      "Multiplying with 327\n",
      "Skipping 328\n",
      "Multiplying with 329\n",
      "Skipping 330\n",
      "Multiplying with 331\n",
      "Skipping 332\n",
      "Multiplying with 333\n",
      "Skipping 334\n",
      "Multiplying with 335\n",
      "Skipping 336\n",
      "Multiplying with 337\n",
      "Skipping 338\n",
      "Multiplying with 339\n",
      "Skipping 340\n",
      "Multiplying with 341\n",
      "Skipping 342\n",
      "Multiplying with 343\n",
      "Skipping 344\n",
      "Multiplying with 345\n",
      "Skipping 346\n",
      "Multiplying with 347\n",
      "Skipping 348\n",
      "Multiplying with 349\n",
      "Skipping 350\n",
      "Multiplying with 351\n",
      "Skipping 352\n",
      "Multiplying with 353\n",
      "Skipping 354\n",
      "Multiplying with 355\n",
      "Skipping 356\n",
      "Multiplying with 357\n",
      "Skipping 358\n",
      "Multiplying with 359\n",
      "Skipping 360\n",
      "Multiplying with 361\n",
      "Skipping 362\n",
      "Multiplying with 363\n",
      "Skipping 364\n",
      "Multiplying with 365\n",
      "Skipping 366\n",
      "Multiplying with 367\n",
      "Skipping 368\n",
      "Multiplying with 369\n",
      "Skipping 370\n",
      "Multiplying with 371\n",
      "Skipping 372\n",
      "Multiplying with 373\n",
      "Skipping 374\n",
      "Multiplying with 375\n",
      "Skipping 376\n",
      "Multiplying with 377\n",
      "Skipping 378\n",
      "Multiplying with 379\n",
      "Skipping 380\n",
      "Multiplying with 381\n",
      "Skipping 382\n",
      "Multiplying with 383\n",
      "Skipping 384\n",
      "Multiplying with 385\n",
      "Skipping 386\n",
      "Multiplying with 387\n",
      "Skipping 388\n",
      "Multiplying with 389\n",
      "Skipping 390\n",
      "Multiplying with 391\n",
      "Skipping 392\n",
      "Multiplying with 393\n",
      "Skipping 394\n",
      "Multiplying with 395\n",
      "Skipping 396\n",
      "Multiplying with 397\n",
      "Skipping 398\n",
      "Multiplying with 399\n",
      "Skipping 400\n",
      "Multiplying with 401\n",
      "Skipping 402\n",
      "Multiplying with 403\n",
      "Skipping 404\n",
      "Multiplying with 405\n",
      "Skipping 406\n",
      "Multiplying with 407\n",
      "Skipping 408\n",
      "Multiplying with 409\n",
      "Skipping 410\n",
      "Multiplying with 411\n",
      "Skipping 412\n",
      "Multiplying with 413\n",
      "Skipping 414\n",
      "Multiplying with 415\n",
      "Skipping 416\n",
      "Multiplying with 417\n",
      "Skipping 418\n",
      "Multiplying with 419\n",
      "Skipping 420\n",
      "Multiplying with 421\n",
      "Skipping 422\n",
      "Multiplying with 423\n",
      "Skipping 424\n",
      "Multiplying with 425\n",
      "Skipping 426\n",
      "Multiplying with 427\n",
      "Skipping 428\n",
      "Multiplying with 429\n",
      "Skipping 430\n",
      "Multiplying with 431\n",
      "Skipping 432\n",
      "Multiplying with 433\n",
      "Skipping 434\n",
      "Multiplying with 435\n",
      "Skipping 436\n",
      "Multiplying with 437\n",
      "Skipping 438\n",
      "Multiplying with 439\n",
      "Skipping 440\n",
      "Multiplying with 441\n",
      "Skipping 442\n",
      "Multiplying with 443\n",
      "Skipping 444\n",
      "Multiplying with 445\n",
      "Skipping 446\n",
      "Multiplying with 447\n",
      "Skipping 448\n",
      "Multiplying with 449\n",
      "Skipping 450\n",
      "Multiplying with 451\n",
      "Skipping 452\n",
      "Multiplying with 453\n",
      "Skipping 454\n",
      "Multiplying with 455\n",
      "Skipping 456\n",
      "Multiplying with 457\n",
      "Skipping 458\n",
      "Multiplying with 459\n",
      "Skipping 460\n",
      "Multiplying with 461\n",
      "Skipping 462\n",
      "Multiplying with 463\n",
      "Skipping 464\n",
      "Multiplying with 465\n",
      "Skipping 466\n",
      "Multiplying with 467\n",
      "Skipping 468\n",
      "Multiplying with 469\n",
      "Skipping 470\n",
      "Multiplying with 471\n",
      "Skipping 472\n",
      "Multiplying with 473\n",
      "Skipping 474\n",
      "Multiplying with 475\n",
      "Skipping 476\n",
      "Multiplying with 477\n",
      "Skipping 478\n",
      "Multiplying with 479\n",
      "Skipping 480\n",
      "Multiplying with 481\n",
      "Skipping 482\n",
      "Multiplying with 483\n",
      "Skipping 484\n",
      "Multiplying with 485\n",
      "Skipping 486\n",
      "Multiplying with 487\n",
      "Skipping 488\n",
      "Multiplying with 489\n",
      "Skipping 490\n",
      "Multiplying with 491\n",
      "Skipping 492\n",
      "Multiplying with 493\n",
      "Skipping 494\n",
      "Multiplying with 495\n",
      "Skipping 496\n",
      "Multiplying with 497\n",
      "Skipping 498\n",
      "Multiplying with 499\n",
      "Skipping 500\n",
      "Multiplying with 501\n",
      "Skipping 502\n",
      "Multiplying with 503\n",
      "Skipping 504\n",
      "Multiplying with 505\n",
      "Skipping 506\n",
      "Multiplying with 507\n",
      "Skipping 508\n",
      "Multiplying with 509\n",
      "Skipping 510\n",
      "Multiplying with 511\n",
      "Skipping 512\n",
      "Multiplying with 513\n",
      "Skipping 514\n",
      "Multiplying with 515\n",
      "Skipping 516\n",
      "Multiplying with 517\n",
      "Skipping 518\n",
      "Multiplying with 519\n",
      "Skipping 520\n",
      "Multiplying with 521\n",
      "Skipping 522\n",
      "Multiplying with 523\n",
      "Skipping 524\n",
      "Multiplying with 525\n",
      "Skipping 526\n",
      "Multiplying with 527\n",
      "Skipping 528\n",
      "Multiplying with 529\n",
      "Skipping 530\n",
      "Multiplying with 531\n",
      "Skipping 532\n",
      "Multiplying with 533\n",
      "Skipping 534\n",
      "Multiplying with 535\n",
      "Skipping 536\n",
      "Multiplying with 537\n",
      "Skipping 538\n",
      "Multiplying with 539\n",
      "Skipping 540\n",
      "Multiplying with 541\n",
      "Skipping 542\n",
      "Multiplying with 543\n",
      "Skipping 544\n",
      "Multiplying with 545\n",
      "Skipping 546\n",
      "Multiplying with 547\n",
      "Skipping 548\n",
      "Multiplying with 549\n",
      "Skipping 550\n",
      "Multiplying with 551\n",
      "Skipping 552\n",
      "Multiplying with 553\n",
      "Skipping 554\n",
      "Multiplying with 555\n",
      "Skipping 556\n",
      "Multiplying with 557\n",
      "Skipping 558\n",
      "Multiplying with 559\n",
      "Skipping 560\n",
      "Multiplying with 561\n",
      "Skipping 562\n",
      "Multiplying with 563\n",
      "Skipping 564\n",
      "Multiplying with 565\n",
      "Skipping 566\n",
      "Multiplying with 567\n",
      "Skipping 568\n",
      "Multiplying with 569\n",
      "Skipping 570\n",
      "Multiplying with 571\n",
      "Skipping 572\n",
      "Multiplying with 573\n",
      "Skipping 574\n",
      "Multiplying with 575\n",
      "Skipping 576\n",
      "Multiplying with 577\n",
      "Skipping 578\n",
      "Multiplying with 579\n",
      "Skipping 580\n",
      "Multiplying with 581\n",
      "Skipping 582\n",
      "Multiplying with 583\n",
      "Skipping 584\n",
      "Multiplying with 585\n",
      "Skipping 586\n",
      "Multiplying with 587\n",
      "Skipping 588\n",
      "Multiplying with 589\n",
      "Skipping 590\n",
      "Multiplying with 591\n",
      "Skipping 592\n",
      "Multiplying with 593\n",
      "Skipping 594\n",
      "Multiplying with 595\n",
      "Skipping 596\n",
      "Multiplying with 597\n",
      "Skipping 598\n",
      "Multiplying with 599\n",
      "Skipping 600\n",
      "Multiplying with 601\n",
      "Skipping 602\n",
      "Multiplying with 603\n",
      "Skipping 604\n",
      "Multiplying with 605\n",
      "Skipping 606\n",
      "Multiplying with 607\n",
      "Skipping 608\n",
      "Multiplying with 609\n",
      "Skipping 610\n",
      "Multiplying with 611\n",
      "Skipping 612\n",
      "Multiplying with 613\n",
      "Skipping 614\n",
      "Multiplying with 615\n",
      "Skipping 616\n",
      "Multiplying with 617\n",
      "Skipping 618\n",
      "Multiplying with 619\n",
      "Skipping 620\n",
      "Multiplying with 621\n",
      "Skipping 622\n",
      "Multiplying with 623\n",
      "Skipping 624\n",
      "Multiplying with 625\n",
      "Skipping 626\n",
      "Multiplying with 627\n",
      "Skipping 628\n",
      "Multiplying with 629\n",
      "Skipping 630\n",
      "Multiplying with 631\n",
      "Skipping 632\n",
      "Multiplying with 633\n",
      "Skipping 634\n",
      "Multiplying with 635\n",
      "Skipping 636\n",
      "Multiplying with 637\n",
      "Skipping 638\n",
      "Multiplying with 639\n",
      "Skipping 640\n",
      "Multiplying with 641\n",
      "Skipping 642\n",
      "Multiplying with 643\n",
      "Skipping 644\n",
      "Multiplying with 645\n",
      "Skipping 646\n",
      "Multiplying with 647\n",
      "Skipping 648\n",
      "Multiplying with 649\n",
      "Skipping 650\n",
      "Multiplying with 651\n",
      "Skipping 652\n",
      "Multiplying with 653\n",
      "Skipping 654\n",
      "Multiplying with 655\n",
      "Skipping 656\n",
      "Multiplying with 657\n",
      "Skipping 658\n",
      "Multiplying with 659\n",
      "Skipping 660\n",
      "Multiplying with 661\n",
      "Skipping 662\n",
      "Multiplying with 663\n",
      "Skipping 664\n",
      "Multiplying with 665\n",
      "Skipping 666\n",
      "Multiplying with 667\n",
      "Skipping 668\n",
      "Multiplying with 669\n",
      "Skipping 670\n",
      "Multiplying with 671\n",
      "Skipping 672\n",
      "Multiplying with 673\n",
      "Skipping 674\n",
      "Multiplying with 675\n",
      "Skipping 676\n",
      "Multiplying with 677\n",
      "Skipping 678\n",
      "Multiplying with 679\n",
      "Skipping 680\n",
      "Multiplying with 681\n",
      "Skipping 682\n",
      "Multiplying with 683\n",
      "Skipping 684\n",
      "Multiplying with 685\n",
      "Skipping 686\n",
      "Multiplying with 687\n",
      "Skipping 688\n",
      "Multiplying with 689\n",
      "Skipping 690\n",
      "Multiplying with 691\n",
      "Skipping 692\n",
      "Multiplying with 693\n",
      "Skipping 694\n",
      "Multiplying with 695\n",
      "Skipping 696\n",
      "Multiplying with 697\n",
      "Skipping 698\n",
      "Multiplying with 699\n",
      "Skipping 700\n",
      "Multiplying with 701\n",
      "Skipping 702\n",
      "Multiplying with 703\n",
      "Skipping 704\n",
      "Multiplying with 705\n",
      "Skipping 706\n",
      "Multiplying with 707\n",
      "Skipping 708\n",
      "Multiplying with 709\n",
      "Skipping 710\n",
      "Multiplying with 711\n",
      "Skipping 712\n",
      "Multiplying with 713\n",
      "Skipping 714\n",
      "Multiplying with 715\n",
      "Skipping 716\n",
      "Multiplying with 717\n",
      "Skipping 718\n",
      "Multiplying with 719\n",
      "Skipping 720\n",
      "Multiplying with 721\n",
      "Skipping 722\n",
      "Multiplying with 723\n",
      "Skipping 724\n",
      "Multiplying with 725\n",
      "Skipping 726\n",
      "Multiplying with 727\n",
      "Skipping 728\n",
      "Multiplying with 729\n",
      "Skipping 730\n",
      "Multiplying with 731\n",
      "Skipping 732\n",
      "Multiplying with 733\n",
      "Skipping 734\n",
      "Multiplying with 735\n",
      "Skipping 736\n",
      "Multiplying with 737\n",
      "Skipping 738\n",
      "Multiplying with 739\n",
      "Skipping 740\n",
      "Multiplying with 741\n",
      "Skipping 742\n",
      "Multiplying with 743\n",
      "Skipping 744\n",
      "Multiplying with 745\n",
      "Skipping 746\n",
      "Multiplying with 747\n",
      "Skipping 748\n",
      "Multiplying with 749\n",
      "Skipping 750\n",
      "Multiplying with 751\n",
      "Skipping 752\n",
      "Multiplying with 753\n",
      "Skipping 754\n",
      "Multiplying with 755\n",
      "Skipping 756\n",
      "Multiplying with 757\n",
      "Skipping 758\n",
      "Multiplying with 759\n",
      "Skipping 760\n",
      "Multiplying with 761\n",
      "Skipping 762\n",
      "Multiplying with 763\n",
      "Skipping 764\n",
      "Multiplying with 765\n",
      "Skipping 766\n",
      "Multiplying with 767\n",
      "Skipping 768\n",
      "Multiplying with 769\n",
      "Skipping 770\n",
      "Multiplying with 771\n",
      "Skipping 772\n",
      "Multiplying with 773\n",
      "Skipping 774\n",
      "Multiplying with 775\n",
      "Skipping 776\n",
      "Multiplying with 777\n",
      "Skipping 778\n",
      "Multiplying with 779\n",
      "Skipping 780\n",
      "Multiplying with 781\n",
      "Skipping 782\n",
      "Multiplying with 783\n",
      "Skipping 784\n",
      "Multiplying with 785\n",
      "Skipping 786\n",
      "Multiplying with 787\n",
      "Skipping 788\n",
      "Multiplying with 789\n",
      "Skipping 790\n",
      "Multiplying with 791\n",
      "Skipping 792\n",
      "Multiplying with 793\n",
      "Skipping 794\n",
      "Multiplying with 795\n",
      "Skipping 796\n",
      "Multiplying with 797\n",
      "Skipping 798\n",
      "Multiplying with 799\n",
      "Skipping 800\n",
      "Multiplying with 801\n",
      "Skipping 802\n",
      "Multiplying with 803\n",
      "Skipping 804\n",
      "Multiplying with 805\n",
      "Skipping 806\n",
      "Multiplying with 807\n",
      "Skipping 808\n",
      "Multiplying with 809\n",
      "Skipping 810\n",
      "Multiplying with 811\n",
      "Skipping 812\n",
      "Multiplying with 813\n",
      "Skipping 814\n",
      "Multiplying with 815\n",
      "Skipping 816\n",
      "Multiplying with 817\n",
      "Skipping 818\n",
      "Multiplying with 819\n",
      "Skipping 820\n",
      "Multiplying with 821\n",
      "Skipping 822\n",
      "Multiplying with 823\n",
      "Skipping 824\n",
      "Multiplying with 825\n",
      "Skipping 826\n",
      "Multiplying with 827\n",
      "Skipping 828\n",
      "Multiplying with 829\n",
      "Skipping 830\n",
      "Multiplying with 831\n",
      "Skipping 832\n",
      "Multiplying with 833\n",
      "Skipping 834\n",
      "Multiplying with 835\n",
      "Skipping 836\n",
      "Multiplying with 837\n",
      "Skipping 838\n",
      "Multiplying with 839\n",
      "Skipping 840\n",
      "Multiplying with 841\n",
      "Skipping 842\n",
      "Multiplying with 843\n",
      "Skipping 844\n",
      "Multiplying with 845\n",
      "Skipping 846\n",
      "Multiplying with 847\n",
      "Skipping 848\n",
      "Multiplying with 849\n",
      "Skipping 850\n",
      "Multiplying with 851\n",
      "Skipping 852\n",
      "Multiplying with 853\n",
      "Skipping 854\n",
      "Multiplying with 855\n",
      "Skipping 856\n",
      "Multiplying with 857\n",
      "Skipping 858\n",
      "Multiplying with 859\n",
      "Skipping 860\n",
      "Multiplying with 861\n",
      "Skipping 862\n",
      "Multiplying with 863\n",
      "Skipping 864\n",
      "Multiplying with 865\n",
      "Skipping 866\n",
      "Multiplying with 867\n",
      "Skipping 868\n",
      "Multiplying with 869\n",
      "Skipping 870\n",
      "Multiplying with 871\n",
      "Skipping 872\n",
      "Multiplying with 873\n",
      "Skipping 874\n",
      "Multiplying with 875\n",
      "Skipping 876\n",
      "Multiplying with 877\n",
      "Skipping 878\n",
      "Multiplying with 879\n",
      "Skipping 880\n",
      "Multiplying with 881\n",
      "Skipping 882\n",
      "Multiplying with 883\n",
      "Skipping 884\n",
      "Multiplying with 885\n",
      "Skipping 886\n",
      "Multiplying with 887\n",
      "Skipping 888\n",
      "Multiplying with 889\n",
      "Skipping 890\n",
      "Multiplying with 891\n",
      "Skipping 892\n",
      "Multiplying with 893\n",
      "Skipping 894\n",
      "Multiplying with 895\n",
      "Skipping 896\n",
      "Multiplying with 897\n",
      "Skipping 898\n",
      "Multiplying with 899\n",
      "Skipping 900\n",
      "Multiplying with 901\n",
      "Skipping 902\n",
      "Multiplying with 903\n",
      "Skipping 904\n",
      "Multiplying with 905\n",
      "Skipping 906\n",
      "Multiplying with 907\n",
      "Skipping 908\n",
      "Multiplying with 909\n",
      "Skipping 910\n",
      "Multiplying with 911\n",
      "Skipping 912\n",
      "Multiplying with 913\n",
      "Skipping 914\n",
      "Multiplying with 915\n",
      "Skipping 916\n",
      "Multiplying with 917\n",
      "Skipping 918\n",
      "Multiplying with 919\n",
      "Skipping 920\n",
      "Multiplying with 921\n",
      "Skipping 922\n",
      "Multiplying with 923\n",
      "Skipping 924\n",
      "Multiplying with 925\n",
      "Skipping 926\n",
      "Multiplying with 927\n",
      "Skipping 928\n",
      "Multiplying with 929\n",
      "Skipping 930\n",
      "Multiplying with 931\n",
      "Skipping 932\n",
      "Multiplying with 933\n",
      "Skipping 934\n",
      "Multiplying with 935\n",
      "Skipping 936\n",
      "Multiplying with 937\n",
      "Skipping 938\n",
      "Multiplying with 939\n",
      "Skipping 940\n",
      "Multiplying with 941\n",
      "Skipping 942\n",
      "Multiplying with 943\n",
      "Skipping 944\n",
      "Multiplying with 945\n",
      "Skipping 946\n",
      "Multiplying with 947\n",
      "Skipping 948\n",
      "Multiplying with 949\n",
      "Skipping 950\n",
      "Multiplying with 951\n",
      "Skipping 952\n",
      "Multiplying with 953\n",
      "Skipping 954\n",
      "Multiplying with 955\n",
      "Skipping 956\n",
      "Multiplying with 957\n",
      "Skipping 958\n",
      "Multiplying with 959\n",
      "Skipping 960\n",
      "Multiplying with 961\n",
      "Skipping 962\n",
      "Multiplying with 963\n",
      "Skipping 964\n",
      "Multiplying with 965\n",
      "Skipping 966\n",
      "Multiplying with 967\n",
      "Skipping 968\n",
      "Multiplying with 969\n",
      "Skipping 970\n",
      "Multiplying with 971\n",
      "Skipping 972\n",
      "Multiplying with 973\n",
      "Skipping 974\n",
      "Multiplying with 975\n",
      "Skipping 976\n",
      "Multiplying with 977\n",
      "Skipping 978\n",
      "Multiplying with 979\n",
      "Skipping 980\n",
      "Multiplying with 981\n",
      "Skipping 982\n",
      "Multiplying with 983\n",
      "Skipping 984\n",
      "Multiplying with 985\n",
      "Skipping 986\n",
      "Multiplying with 987\n",
      "Skipping 988\n",
      "Multiplying with 989\n",
      "Skipping 990\n",
      "Multiplying with 991\n",
      "Skipping 992\n",
      "Multiplying with 993\n",
      "Skipping 994\n",
      "Multiplying with 995\n",
      "Skipping 996\n",
      "Multiplying with 997\n",
      "Skipping 998\n",
      "Multiplying with 999\n",
      "Skipping 1000\n",
      "i:  1000\n",
      "Total  100748329763750854004038917392303538250323418583550415705013777513334847930864905026212149922688916514224446856302103818809813965739969905602683824057028542369814437703275217182106137628427025253936696857063927677887236450311036887007989218384076420973974651860279864376153012567675767840733574225799002463604490891982796305162134708837541147007332276627034016790073315219533088052639255340728943149219519187498959529434982654113006616219355830114439411562650611374970334868978510289340267833632215930432706056111069583472778227977585526504938921664232801595705593340414168289146933191250605578218896799783237156997993612173843567447982392426109444012350386990916069363415575527636429080027392875413821124412782341957015410685185402984322002697631153866494712956244870206835064084512590679022924697003630949759950902438767963278695296882620493296103779237046934780464541286585179975172680371269700518965123152181467825566303777704391998857792627009043170482928030252033752456172692668989206857862233381387134495504231267039972111966329704875185659372569246229419619030694680808504265784672316785572965414328005856656944666840982779185954031239345256896720409853053597049715408663604581472840976596002762935980048845023622727663267632821809277089697420848324327380396425724029541015625\n"
     ]
    }
   ],
   "source": [
    "x = int(input(\"Enter number: \"))\n",
    "i = 1\n",
    "total = 1\n",
    "while i<x:\n",
    "    i+=1\n",
    "    if i%2==0:\n",
    "        print(\"Skipping {}\".format(i))\n",
    "        continue\n",
    "    print(\"Multiplying with {}\".format(i))\n",
    "    total*=i\n",
    "print(\"i: \",i)\n",
    "print(\"Total \",total)"
   ]
  },
  {
   "cell_type": "markdown",
   "metadata": {},
   "source": [
    "In the example above, the statement `result = result * i` inside the loop is skipped when `i` is even, as indicated by the messages printed during execution.\n",
    "\n",
    "> **Logging**: The process of adding `print` statements at different points in the code (often within loops and conditional statements) for inspecting the values of variables at various stages of execution is called logging. As our programs get larger, they naturally become prone to human errors. Logging can help in verifying the program is working as expected. In many cases, `print` statements are added while writing & testing some code and are removed later."
   ]
  },
  {
   "cell_type": "markdown",
   "metadata": {},
   "source": [
    "Let us record a snapshot of our work before continuing using `jovian.commit`."
   ]
  },
  {
   "cell_type": "code",
   "execution_count": 115,
   "metadata": {},
   "outputs": [
    {
     "data": {
      "application/javascript": [
       "window.require && require([\"base/js/namespace\"],function(Jupyter){Jupyter.notebook.save_checkpoint()})"
      ],
      "text/plain": [
       "<IPython.core.display.Javascript object>"
      ]
     },
     "metadata": {},
     "output_type": "display_data"
    },
    {
     "name": "stdout",
     "output_type": "stream",
     "text": [
      "[jovian] Updating notebook \"mvbosamiya20/python-branching-and-loops\" on https://jovian.ai/\u001b[0m\n",
      "[jovian] Committed successfully! https://jovian.ai/mvbosamiya20/python-branching-and-loops\u001b[0m\n"
     ]
    },
    {
     "data": {
      "text/plain": [
       "'https://jovian.ai/mvbosamiya20/python-branching-and-loops'"
      ]
     },
     "execution_count": 115,
     "metadata": {},
     "output_type": "execute_result"
    }
   ],
   "source": [
    "jovian.commit()"
   ]
  },
  {
   "cell_type": "markdown",
   "metadata": {},
   "source": [
    "## Iteration with `for` loops\n",
    "\n",
    "A `for` loop is used for iterating or looping over sequences, i.e., lists, tuples, dictionaries, strings, and *ranges*. For loops have the following syntax:\n",
    "\n",
    "```\n",
    "for value in sequence:\n",
    "    statement(s)\n",
    "```\n",
    "\n",
    "The statements within the loop are executed once for each element in `sequence`. Here's an example that prints all the element of a list."
   ]
  },
  {
   "cell_type": "code",
   "execution_count": 174,
   "metadata": {},
   "outputs": [
    {
     "name": "stdout",
     "output_type": "stream",
     "text": [
      "January\n",
      "Febuary\n",
      "March\n",
      "April\n",
      "May\n",
      "June\n",
      "July\n",
      "August\n",
      "September\n",
      "October\n",
      "November\n",
      "December\n"
     ]
    }
   ],
   "source": [
    "months = ['January','Febuary','March','April','May','June','July','August','September','October','November','December']\n",
    "for i in months:\n",
    "    print(i)"
   ]
  },
  {
   "cell_type": "markdown",
   "metadata": {},
   "source": [
    "Let's try using `for` loops with some other data types."
   ]
  },
  {
   "cell_type": "code",
   "execution_count": 170,
   "metadata": {},
   "outputs": [
    {
     "name": "stdout",
     "output_type": "stream",
     "text": [
      "N\n",
      "o\n",
      "i\n",
      "c\n",
      "e\n"
     ]
    }
   ],
   "source": [
    "# Looping over a string\n",
    "for x in 'Noice':\n",
    "    print(x)"
   ]
  },
  {
   "cell_type": "code",
   "execution_count": 129,
   "metadata": {},
   "outputs": [
    {
     "name": "stdout",
     "output_type": "stream",
     "text": [
      "Fruit is: Mango\n",
      "Fruit is: Apple\n",
      "Fruit is: Guava\n"
     ]
    }
   ],
   "source": [
    "# Looping over a list\n",
    "for fruit in ['Mango','Apple','Guava']:\n",
    "    print(\"Fruit is:\",fruit)"
   ]
  },
  {
   "cell_type": "code",
   "execution_count": 132,
   "metadata": {},
   "outputs": [
    {
     "name": "stdout",
     "output_type": "stream",
     "text": [
      "Key is name , Value:  Manthan\n",
      "Key is age , Value:  19\n",
      "Key is sex , Value:  male\n"
     ]
    }
   ],
   "source": [
    "#looping over a dictionary\n",
    "person = {\n",
    "    'name':'Manthan',\n",
    "    'age':19,\n",
    "    'sex':'male'\n",
    "}\n",
    "for i in person:\n",
    "    print('Key is',i,',','Value: ',person[i])"
   ]
  },
  {
   "cell_type": "markdown",
   "metadata": {},
   "source": [
    "Note that while using a dictionary with a `for` loop, the iteration happens over the dictionary's keys. The key can be used within the loop to access the value. You can also iterate directly over the values using the `.values` method or over key-value pairs using the `.items` method."
   ]
  },
  {
   "cell_type": "code",
   "execution_count": 138,
   "metadata": {},
   "outputs": [
    {
     "name": "stdout",
     "output_type": "stream",
     "text": [
      "Manthan\n",
      "19\n",
      "male\n"
     ]
    }
   ],
   "source": [
    "for value in person.values():\n",
    "    print(value)"
   ]
  },
  {
   "cell_type": "code",
   "execution_count": 140,
   "metadata": {},
   "outputs": [
    {
     "name": "stdout",
     "output_type": "stream",
     "text": [
      "('name', 'Manthan')\n",
      "('age', 19)\n",
      "('sex', 'male')\n"
     ]
    }
   ],
   "source": [
    "for key_pair in person.items():\n",
    "    print(key_pair)"
   ]
  },
  {
   "cell_type": "code",
   "execution_count": 143,
   "metadata": {},
   "outputs": [
    {
     "name": "stdout",
     "output_type": "stream",
     "text": [
      "name\n",
      "age\n",
      "sex\n"
     ]
    }
   ],
   "source": [
    "for index in person.keys():\n",
    "    print(index)"
   ]
  },
  {
   "cell_type": "markdown",
   "metadata": {},
   "source": [
    "Since a key-value pair is a tuple, we can also extract the key & value into separate variables."
   ]
  },
  {
   "cell_type": "code",
   "execution_count": 145,
   "metadata": {},
   "outputs": [
    {
     "name": "stdout",
     "output_type": "stream",
     "text": [
      "Key: name and value: Manthan\n",
      "Key: age and value: 19\n",
      "Key: sex and value: male\n"
     ]
    }
   ],
   "source": [
    "for i,j in person.items():\n",
    "    print('Key:',i,'and value:',j)"
   ]
  },
  {
   "cell_type": "markdown",
   "metadata": {},
   "source": [
    "### Iterating using `range` and `enumerate`\n",
    "\n",
    "The `range` function is used to create a sequence of numbers that can be iterated over using a `for` loop. It can be used in 3 ways:\n",
    " \n",
    "* `range(n)` - Creates a sequence of numbers from `0` to `n-1`\n",
    "* `range(a, b)` - Creates a sequence of numbers from `a` to `b-1`\n",
    "* `range(a, b, step)` - Creates a sequence of numbers from `a` to `b-1` with increments of `step`\n",
    "\n",
    "Let's try it out."
   ]
  },
  {
   "cell_type": "code",
   "execution_count": 153,
   "metadata": {},
   "outputs": [
    {
     "name": "stdout",
     "output_type": "stream",
     "text": [
      "Enter n: 10\n",
      "0\n",
      "1\n",
      "2\n",
      "3\n",
      "4\n",
      "5\n",
      "6\n",
      "7\n",
      "8\n",
      "9\n"
     ]
    }
   ],
   "source": [
    "n = int(input(\"Enter n: \"))\n",
    "for i in range (n):\n",
    "    print(i)"
   ]
  },
  {
   "cell_type": "code",
   "execution_count": 162,
   "metadata": {},
   "outputs": [
    {
     "name": "stdout",
     "output_type": "stream",
     "text": [
      "Enter n: 2\n",
      "2\n",
      "3\n",
      "4\n",
      "5\n",
      "6\n",
      "7\n",
      "8\n",
      "9\n",
      "10\n",
      "11\n",
      "12\n",
      "13\n",
      "14\n",
      "15\n",
      "16\n",
      "17\n",
      "18\n",
      "19\n",
      "20\n",
      "21\n",
      "22\n",
      "23\n",
      "24\n",
      "25\n",
      "26\n",
      "27\n",
      "28\n",
      "29\n",
      "30\n",
      "31\n",
      "32\n",
      "33\n",
      "34\n",
      "35\n",
      "36\n",
      "37\n",
      "38\n",
      "39\n",
      "40\n",
      "41\n",
      "42\n",
      "43\n",
      "44\n",
      "45\n",
      "46\n",
      "47\n",
      "48\n",
      "49\n",
      "50\n",
      "51\n",
      "52\n",
      "53\n",
      "54\n",
      "55\n",
      "56\n",
      "57\n",
      "58\n",
      "59\n",
      "60\n",
      "61\n",
      "62\n",
      "63\n",
      "64\n",
      "65\n",
      "66\n",
      "67\n",
      "68\n",
      "69\n",
      "70\n",
      "71\n",
      "72\n",
      "73\n",
      "74\n",
      "75\n",
      "76\n",
      "77\n",
      "78\n",
      "79\n",
      "80\n",
      "81\n",
      "82\n",
      "83\n",
      "84\n",
      "85\n",
      "86\n",
      "87\n",
      "88\n",
      "89\n",
      "90\n",
      "91\n",
      "92\n",
      "93\n",
      "94\n",
      "95\n",
      "96\n",
      "97\n",
      "98\n",
      "99\n"
     ]
    }
   ],
   "source": [
    "n = int(input(\"Enter n: \"))\n",
    "for i in range (n,100):\n",
    "    print(n)\n",
    "    n+=1"
   ]
  },
  {
   "cell_type": "code",
   "execution_count": 163,
   "metadata": {},
   "outputs": [
    {
     "name": "stdout",
     "output_type": "stream",
     "text": [
      "3\n",
      "7\n",
      "11\n"
     ]
    }
   ],
   "source": [
    "for i in range(3, 14, 4):\n",
    "    print(i)"
   ]
  },
  {
   "cell_type": "markdown",
   "metadata": {},
   "source": [
    "Ranges are used for iterating over lists when you need to track the index of elements while iterating."
   ]
  },
  {
   "cell_type": "code",
   "execution_count": 192,
   "metadata": {},
   "outputs": [
    {
     "name": "stdout",
     "output_type": "stream",
     "text": [
      "Month number is 1 and month is Jan\n",
      "Month number is 2 and month is Feb\n",
      "Month number is 3 and month is Mar\n",
      "Month number is 4 and month is Apr\n",
      "Month number is 5 and month is May\n",
      "Month number is 6 and month is Jun\n",
      "Month number is 7 and month is Jul\n",
      "Month number is 8 and month is Aug\n",
      "Month number is 9 and month is Sept\n",
      "Month number is 10 and month is Oct\n",
      "Month number is 11 and month is Nov\n",
      "Month number is 12 and month is Dec\n"
     ]
    }
   ],
   "source": [
    "month = ['Jan','Feb','Mar','Apr','May','Jun','Jul','Aug','Sept','Oct','Nov','Dec']\n",
    "for i in range (len(month)):\n",
    "    print('Month number is {} and month is {}'.format(i+1,month[i]))"
   ]
  },
  {
   "cell_type": "markdown",
   "metadata": {},
   "source": [
    "Another way to achieve the same result is by using the `enumerate` function with `a_list` as an input, which returns a tuple containing the index and the corresponding element."
   ]
  },
  {
   "cell_type": "code",
   "execution_count": 195,
   "metadata": {},
   "outputs": [
    {
     "name": "stdout",
     "output_type": "stream",
     "text": [
      "The value at position 0 is Jan.\n",
      "The value at position 1 is Feb.\n",
      "The value at position 2 is Mar.\n",
      "The value at position 3 is Apr.\n",
      "The value at position 4 is May.\n",
      "The value at position 5 is Jun.\n",
      "The value at position 6 is Jul.\n",
      "The value at position 7 is Aug.\n",
      "The value at position 8 is Sept.\n",
      "The value at position 9 is Oct.\n",
      "The value at position 10 is Nov.\n",
      "The value at position 11 is Dec.\n"
     ]
    }
   ],
   "source": [
    "for i, val in enumerate(month):\n",
    "    print('The value at position {} is {}.'.format(i, val))"
   ]
  },
  {
   "cell_type": "markdown",
   "metadata": {},
   "source": [
    "### `break`, `continue` and `pass` statements\n",
    "\n",
    "Similar to `while` loops, `for` loops also support the `break` and `continue` statements. `break` is used for breaking out of the loop and `continue` is used for skipping ahead to the next iteration."
   ]
  },
  {
   "cell_type": "code",
   "execution_count": 196,
   "metadata": {},
   "outputs": [],
   "source": [
    "weekdays = ['Monday', 'Tuesday', 'Wednesday', 'Thursday', 'Friday']"
   ]
  },
  {
   "cell_type": "code",
   "execution_count": 197,
   "metadata": {},
   "outputs": [
    {
     "name": "stdout",
     "output_type": "stream",
     "text": [
      "Today is Monday\n",
      "Today is Tuesday\n",
      "Today is Wednesday\n",
      "I don't work beyond Wednesday!\n"
     ]
    }
   ],
   "source": [
    "for day in weekdays:\n",
    "    print('Today is {}'.format(day))\n",
    "    if (day == 'Wednesday'):\n",
    "        print(\"I don't work beyond Wednesday!\")\n",
    "        break"
   ]
  },
  {
   "cell_type": "code",
   "execution_count": 198,
   "metadata": {},
   "outputs": [
    {
     "name": "stdout",
     "output_type": "stream",
     "text": [
      "Today is Monday\n",
      "Today is Tuesday\n",
      "I don't work on Wednesday!\n",
      "Today is Thursday\n",
      "Today is Friday\n"
     ]
    }
   ],
   "source": [
    "for day in weekdays:\n",
    "    if (day == 'Wednesday'):\n",
    "        print(\"I don't work on Wednesday!\")\n",
    "        continue\n",
    "    print('Today is {}'.format(day))"
   ]
  },
  {
   "cell_type": "markdown",
   "metadata": {},
   "source": [
    "Like `if` statements, `for` loops cannot be empty, so you can use a `pass` statement if you don't want to execute any statements inside the loop."
   ]
  },
  {
   "cell_type": "code",
   "execution_count": 199,
   "metadata": {},
   "outputs": [],
   "source": [
    "for day in weekdays:\n",
    "    pass"
   ]
  },
  {
   "cell_type": "markdown",
   "metadata": {},
   "source": [
    "### Nested `for` and `while` loops\n",
    "\n",
    "Similar to conditional statements, loops can be nested inside other loops. This is useful for looping lists of lists, dictionaries etc."
   ]
  },
  {
   "cell_type": "code",
   "execution_count": 208,
   "metadata": {},
   "outputs": [
    {
     "name": "stdout",
     "output_type": "stream",
     "text": [
      "Name is Manthan\n",
      "Age is 19\n",
      "\n",
      "Name is Akanksha\n",
      "Age is 29\n",
      "\n"
     ]
    }
   ],
   "source": [
    "persons = {'Name':'Manthan','Age':19},{'Name':'Akanksha','Age':29}\n",
    "for person in persons:\n",
    "    for key in person:\n",
    "        print(key,\"is\",person[key])\n",
    "    print(\"\")"
   ]
  },
  {
   "cell_type": "code",
   "execution_count": 225,
   "metadata": {},
   "outputs": [
    {
     "name": "stdout",
     "output_type": "stream",
     "text": [
      "apple Monday\n",
      "banana Monday\n",
      "guava Monday\n",
      "apple Tuesday\n",
      "banana Tuesday\n",
      "guava Tuesday\n",
      "apple Wednesday\n",
      "banana Wednesday\n",
      "guava Wednesday\n"
     ]
    }
   ],
   "source": [
    "days = ['Monday', 'Tuesday', 'Wednesday']\n",
    "fruits = ['apple', 'banana', 'guava']\n",
    "\n",
    "for day in days:\n",
    "    for fruit in fruits:\n",
    "        print(fruit, day)"
   ]
  },
  {
   "cell_type": "markdown",
   "metadata": {},
   "source": [
    "With this, we conclude our discussion of branching and loops in Python."
   ]
  },
  {
   "cell_type": "markdown",
   "metadata": {},
   "source": [
    "## Further Reading and References\n",
    "\n",
    "We've covered a lot of ground in just 3 tutorials. Practice your skills by working this assignment: https://jovian.ml/aakashns/python-practice-assignment\n",
    "\n",
    "Following are some resources to learn about more about conditional statements and loops in Python:\n",
    "\n",
    "* Python Tutorial at W3Schools: https://www.w3schools.com/python/\n",
    "* Practical Python Programming: https://dabeaz-course.github.io/practical-python/Notes/Contents.html\n",
    "* Python official documentation: https://docs.python.org/3/tutorial/index.html\n",
    "\n",
    "You are now ready to move on to the next tutorial: [Writing Reusable Code Using Functions in Python](https://jovian.ai/aakashns/python-functions-and-scope)\n",
    "\n",
    "Let's save a snapshot of our notebook one final time using `jovian.commit`."
   ]
  },
  {
   "cell_type": "code",
   "execution_count": 227,
   "metadata": {},
   "outputs": [
    {
     "data": {
      "application/javascript": [
       "window.require && require([\"base/js/namespace\"],function(Jupyter){Jupyter.notebook.save_checkpoint()})"
      ],
      "text/plain": [
       "<IPython.core.display.Javascript object>"
      ]
     },
     "metadata": {},
     "output_type": "display_data"
    },
    {
     "name": "stdout",
     "output_type": "stream",
     "text": [
      "[jovian] Updating notebook \"mvbosamiya20/python-branching-and-loops\" on https://jovian.ai/\u001b[0m\n",
      "[jovian] Committed successfully! https://jovian.ai/mvbosamiya20/python-branching-and-loops\u001b[0m\n"
     ]
    },
    {
     "data": {
      "text/plain": [
       "'https://jovian.ai/mvbosamiya20/python-branching-and-loops'"
      ]
     },
     "execution_count": 227,
     "metadata": {},
     "output_type": "execute_result"
    }
   ],
   "source": [
    "jovian.commit()"
   ]
  },
  {
   "cell_type": "markdown",
   "metadata": {},
   "source": [
    "## Questions for Revision\n",
    "\n",
    "Try answering the following questions to test your understanding of the topics covered in this notebook:\n",
    "\n",
    "1. What is branching in programming languages?\n",
    "2. What is the purpose of the `if` statement in Python?\n",
    "3. What is the syntax of the `if` statement? Give an example.\n",
    "4. What is indentation? Why is it used?\n",
    "5. What is an indented block of statements?\n",
    "6. How do you perform indentation in Python?\n",
    "7. What happens if some code is not indented correctly?\n",
    "8. What happens when the condition within the `if` statement evaluates to `True`? What happens if the condition evaluates for `false`?\n",
    "9. How do you check if a number is even?\n",
    "10. What is the purpose of the `else` statement in Python?\n",
    "11. What is the syntax of the `else` statement? Give an example.\n",
    "12. Write a program that prints different messages based on whether a number is positive or negative.\n",
    "13. Can the `else` statement be used without an `if` statement?\n",
    "14. What is the purpose of the `elif` statement in Python?\n",
    "15. What is the syntax of the `elif` statement? Give an example.\n",
    "16. Write a program that prints different messages for different months of the year.\n",
    "17. Write a program that uses `if`, `elif`, and `else` statements together.\n",
    "18. Can the `elif` statement be used without an `if` statement?\n",
    "19. Can the `elif` statement be used without an `else` statement?\n",
    "20. What is the difference between a chain of `if`, `elif`, `elif`… statements and a chain of `if`, `if`, `if`… statements? Give an example.\n",
    "21. Can non-boolean conditions be used with `if` statements? Give some examples.\n",
    "22. What are nested conditional statements? How are they useful?\n",
    "23. Give an example of nested conditional statements.\n",
    "24. Why is it advisable to avoid nested conditional statements?\n",
    "25. What is the shorthand `if` conditional expression? \n",
    "26. What is the syntax of the shorthand `if` conditional expression? Give an example.\n",
    "27. What is the difference between the shorthand `if` expression and the regular `if` statement?\n",
    "28. What is a statement in Python?\n",
    "29. What is an expression in Python?\n",
    "30. What is the difference between statements and expressions?\n",
    "31. Is every statement an expression? Give an example or counterexample.\n",
    "32. Is every expression a statement? Give an example or counterexample.\n",
    "33. What is the purpose of the pass statement in `if` blocks?\n",
    "34. What is iteration or looping in programming languages? Why is it useful?\n",
    "35. What are the two ways for performing iteration in Python?\n",
    "36. What is the purpose of the `while` statement in Python?\n",
    "37. What is the syntax of the `white` statement in Python? Give an example.\n",
    "38. Write a program to compute the sum of the numbers 1 to 100 using a while loop. \n",
    "39. Repeat the above program for numbers up to 1000, 10000, and 100000. How long does it take each loop to complete?\n",
    "40. What is an infinite loop?\n",
    "41. What causes a program to enter an infinite loop?\n",
    "42. How do you interrupt an infinite loop within Jupyter?\n",
    "43. What is the purpose of the `break` statement in Python? \n",
    "44. Give an example of using a `break` statement within a while loop.\n",
    "45. What is the purpose of the `continue` statement in Python?\n",
    "46. Give an example of using the `continue` statement within a while loop.\n",
    "47. What is logging? How is it useful?\n",
    "48. What is the purpose of the `for` statement in Python?\n",
    "49. What is the syntax of `for` loops? Give an example.\n",
    "50. How are for loops and while loops different?\n",
    "51. How do you loop over a string? Give an example.\n",
    "52. How do you loop over a list? Give an example.\n",
    "53. How do you loop over a tuple? Give an example.\n",
    "54. How do you loop over a dictionary? Give an example.\n",
    "55. What is the purpose of the `range` statement? Give an example.\n",
    "56. What is the purpose of the `enumerate` statement? Give an example.\n",
    "57. How are the `break`, `continue`, and `pass` statements used in for loops? Give examples.\n",
    "58. Can loops be nested within other loops? How is nesting useful?\n",
    "59. Give an example of a for loop nested within another for loop.\n",
    "60. Give an example of a while loop nested within another while loop.\n",
    "61. Give an example of a for loop nested within a while loop.\n",
    "62. Give an example of a while loop nested within a for loop.\n",
    "\n"
   ]
  },
  {
   "cell_type": "code",
   "execution_count": 254,
   "metadata": {},
   "outputs": [
    {
     "name": "stdout",
     "output_type": "stream",
     "text": [
      "M a n t h a n \n",
      "M\n",
      "a\n",
      "n\n",
      "t\n",
      "h\n",
      "a\n",
      "n\n",
      "\n",
      "M\n",
      "a\n",
      "n\n",
      "t\n",
      "h\n",
      "a\n",
      "n\n"
     ]
    }
   ],
   "source": [
    "s = 'Manthan'\n",
    "for i in s:\n",
    "    print(i,end=' ')\n",
    "print(\"\")\n",
    "for i in s:\n",
    "    print(i)\n",
    "print(\"\")\n",
    "for i in range(len(s)):\n",
    "    print(s[i])"
   ]
  },
  {
   "cell_type": "code",
   "execution_count": 281,
   "metadata": {},
   "outputs": [
    {
     "name": "stdout",
     "output_type": "stream",
     "text": [
      "nani\n",
      "tf\n",
      "haw\n",
      "0 nani\n",
      "1 tf\n",
      "2 haw\n"
     ]
    }
   ],
   "source": [
    "t = ('nani','tf','haw')\n",
    "for i in t:\n",
    "    print(i)\n",
    "for i in range(len(t)):\n",
    "    print(i,t[i])"
   ]
  },
  {
   "cell_type": "code",
   "execution_count": 276,
   "metadata": {},
   "outputs": [
    {
     "name": "stdout",
     "output_type": "stream",
     "text": [
      "name Manthan\n",
      "age 19\n",
      "Married LMAO NEVER\n"
     ]
    }
   ],
   "source": [
    "dic = {\n",
    "    'name':'Manthan',\n",
    "    'age':19,\n",
    "    'Married':'LMAO NEVER'\n",
    "}\n",
    "for i in dic:\n",
    "    print(i,dic[i])"
   ]
  }
 ],
 "metadata": {
  "kernelspec": {
   "display_name": "Python 3",
   "language": "python",
   "name": "python3"
  },
  "language_info": {
   "codemirror_mode": {
    "name": "ipython",
    "version": 3
   },
   "file_extension": ".py",
   "mimetype": "text/x-python",
   "name": "python",
   "nbconvert_exporter": "python",
   "pygments_lexer": "ipython3",
   "version": "3.8.10"
  }
 },
 "nbformat": 4,
 "nbformat_minor": 4
}
